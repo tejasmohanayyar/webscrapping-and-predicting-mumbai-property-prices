{
 "cells": [
  {
   "cell_type": "markdown",
   "metadata": {},
   "source": [
    "## Predict the current Sale Price of a property in Mumbai\n",
    "\n",
    "###### Motivation for this project\n",
    "\n",
    "###### Challenges faced\n",
    "\n",
    "* **Location** column that was collected through webscrapping was in the form of a string list. 1st I removed the square brackets and then seperated by , to convert to a list. Then I extracted location and society name and created 2 new columns. Also while scrapping if in the entry there was no mention of society name then for last param of location we are getting carpet area. This could be solved by only considering the 1st value as location for any records having carpet area or super area.\n",
    "\n",
    "\n",
    "* **Floors** had nan values and I was not able to understand how to fill these values. I decided to drop these columns since we will be collecting data everyday and floor information is essential for the price.\n",
    "\n",
    "* **Parking** This column seemed to have many anomalies and also had mentions of open and closed parking. So I created 2 columns, 1 for the number of parking spaces and the other for the type of parking and checked whether either no. of parking or type of parking had any impact on price. I found the number of parking spaces has a higher impact on price than type of parking only when the number of parking spaces is more than one. There is not much difference in house price when no. of parking is 0 or 1. I used the anova test here since I had bucketed parking into 3 categories which were both,covered and open parking.\n",
    "\n",
    "* **Location conversion to latitude and longitude** This column according to my knowledge plays a significant role in the pricing of a property. Installing geppandas gave me some trouble however I was able to solve it by installing the library as administrator. I wanted to save whichever locations I have got the lat and long for since I did not want to call to geopy again and again for the same location. Latitude can be around 18 or 19 only and longitude around 72 or 73 degrees for Mumbai. Since not everyone puts generic location it becomes difficult to extract latitude and longitude. We are saving such records into a seperate file called bad records and not discarding it. This allows us to check whether such a bad column ever occurs again reducing execution time.\n",
    "\n",
    "**These observations could change as we collect more data and it is esential for us to look into distributions and EDA everytime new data is added.**\n",
    "\n",
    "### Modelling Inferences:\n",
    "\n",
    "**Linear Regression**:\n",
    "\n",
    "* The initial Linear Regression model was giving is a poultry r2_score of 52%.\n",
    "* After performing the 5 tests of regresison we were able to get our score up to 73%. The main factor was performing log transform on the target variable that removed any heteroskedasticity present in the model. Although the model was still overfitting by about 6% (Difference between train and test r2_score).\n",
    "* Next we performed regularization techniques and were able to reduce the test and train r2_score difference to less than 3%. Next we could try some non-linear tree based approaches that maybe able to better generalze our model.\n",
    "------------------------------------------------------------------------------------------\n",
    "**Tree Based Models**:\n"
   ]
  },
  {
   "cell_type": "markdown",
   "metadata": {},
   "source": [
    "# Functions for plotting"
   ]
  },
  {
   "cell_type": "code",
   "execution_count": 1,
   "metadata": {},
   "outputs": [],
   "source": [
    "def box_plot(x,y,data):\n",
    "    import seaborn as sns\n",
    "    plt.figure(figsize = (15,6))\n",
    "    plt.title(x)\n",
    "    sns.boxplot(x = x,y = y, data = data)\n",
    "    plt.xticks(rotation = 90)\n",
    "    plt.tight_layout()\n",
    "    plt.show()"
   ]
  },
  {
   "cell_type": "code",
   "execution_count": 2,
   "metadata": {},
   "outputs": [],
   "source": [
    "def dis_plot(col,data):\n",
    "    import seaborn as sns\n",
    "    plt.figure(figsize = (15,6))\n",
    "    sns.displot(data = data,x = col)\n",
    "    plt.tight_layout()\n",
    "    plt.show()"
   ]
  },
  {
   "cell_type": "code",
   "execution_count": 3,
   "metadata": {},
   "outputs": [],
   "source": [
    "def scatter_plot(col,data):\n",
    "    import numpy as np\n",
    "    import matplotlib.pyplot as plt\n",
    "    color = ['tab:purple','tab:green','tab:blue','tab:pink','tab:brown']\n",
    "    plt.figure(figsize = (15,6))\n",
    "    plt.scatter(x = col,y = 'price',data = data,c = color[np.random.randint(0,5)])\n",
    "    plt.xlabel(col)\n",
    "    plt.ylabel('price')\n",
    "    plt.show()"
   ]
  },
  {
   "cell_type": "code",
   "execution_count": 4,
   "metadata": {},
   "outputs": [
    {
     "ename": "NameError",
     "evalue": "name 'f_data' is not defined",
     "output_type": "error",
     "traceback": [
      "\u001b[1;31m---------------------------------------------------------------------------\u001b[0m",
      "\u001b[1;31mNameError\u001b[0m                                 Traceback (most recent call last)",
      "\u001b[1;32m<ipython-input-4-69cc8cdf905a>\u001b[0m in \u001b[0;36m<module>\u001b[1;34m\u001b[0m\n\u001b[1;32m----> 1\u001b[1;33m \u001b[0mf_data\u001b[0m\u001b[1;33m\u001b[0m\u001b[1;33m\u001b[0m\u001b[0m\n\u001b[0m",
      "\u001b[1;31mNameError\u001b[0m: name 'f_data' is not defined"
     ]
    }
   ],
   "source": [
    "f_data"
   ]
  },
  {
   "cell_type": "markdown",
   "metadata": {},
   "source": [
    "# Feature Engineering\n",
    "\n",
    "* Filling Missing values.\n",
    "* Combining certain values in columns to help the machine better generalize.\n",
    "* Creating new columns from existing columns like flat_type and BHK coming from the same column etc."
   ]
  },
  {
   "cell_type": "code",
   "execution_count": null,
   "metadata": {},
   "outputs": [],
   "source": [
    "import pandas as pd\n",
    "import numpy as np\n",
    "import seaborn as sns\n",
    "import os\n",
    "import matplotlib.pyplot as plt\n",
    "import scipy.stats as stats"
   ]
  },
  {
   "cell_type": "code",
   "execution_count": null,
   "metadata": {},
   "outputs": [],
   "source": [
    "#Location libraries\n",
    "import geopy\n",
    "from geopy.geocoders import Nominatim"
   ]
  },
  {
   "cell_type": "code",
   "execution_count": null,
   "metadata": {},
   "outputs": [],
   "source": [
    "if len(os.listdir('Data'))<=2:\n",
    "    data = pd.read_csv('Data/scrapped.csv')\n",
    "else:\n",
    "    data = pd.read_csv('Data/'+os.listdir('Data')[-1])"
   ]
  },
  {
   "cell_type": "code",
   "execution_count": null,
   "metadata": {},
   "outputs": [],
   "source": [
    "#Drop any duplicate values\n",
    "data.drop_duplicates(inplace = True)"
   ]
  },
  {
   "cell_type": "code",
   "execution_count": null,
   "metadata": {},
   "outputs": [],
   "source": [
    "data.shape"
   ]
  },
  {
   "cell_type": "markdown",
   "metadata": {},
   "source": [
    "## Handling the missing values"
   ]
  },
  {
   "cell_type": "code",
   "execution_count": null,
   "metadata": {},
   "outputs": [],
   "source": [
    "# (data.isna().sum()/len(data)*100)[(data.isna().sum()/len(data)*100)!=0]"
   ]
  },
  {
   "cell_type": "code",
   "execution_count": null,
   "metadata": {},
   "outputs": [],
   "source": [
    "#Drop the comments column\n",
    "f_data = data.drop('comments',axis = 1)"
   ]
  },
  {
   "cell_type": "code",
   "execution_count": null,
   "metadata": {
    "scrolled": true
   },
   "outputs": [],
   "source": [
    "f_data.head()"
   ]
  },
  {
   "cell_type": "code",
   "execution_count": null,
   "metadata": {},
   "outputs": [],
   "source": [
    "#Handle the location column\n",
    "def replace_area_loc(x,i):\n",
    "    if x == 'carpet area' or x =='super area':\n",
    "        return d['society'][i]\n",
    "    else:\n",
    "        return d['location'][i]\n",
    "    \n",
    "\n",
    "first_val = [i.strip('][').split(',')[0].strip(\"''\") for i in data['location']]\n",
    "second_val = [i.strip('][').split(',')[-1].strip(\" '\") for i in data['location']]\n",
    "\n",
    "d = pd.DataFrame({'society':first_val,'location':second_val})\n",
    "loc = []\n",
    "for i in range(len(data['location'])):\n",
    "    if replace_area_loc(d['location'][i],i).split()[0] == 'in':\n",
    "        loc.append(replace_area_loc(d['location'][i],i)[3:])\n",
    "        \n",
    "    else:\n",
    "        loc.append(replace_area_loc(d['location'][i],i))\n",
    "\n",
    "f_data['location'] = loc #Saving"
   ]
  },
  {
   "cell_type": "code",
   "execution_count": null,
   "metadata": {},
   "outputs": [],
   "source": [
    "d.sample(5)"
   ]
  },
  {
   "cell_type": "code",
   "execution_count": null,
   "metadata": {},
   "outputs": [],
   "source": [
    "#drop society name since I do not consider it to be an important factor\n",
    "f_data.drop('society',axis = 1,inplace = True)"
   ]
  },
  {
   "cell_type": "code",
   "execution_count": null,
   "metadata": {},
   "outputs": [],
   "source": [
    "f_data['furnishing'].value_counts()"
   ]
  },
  {
   "cell_type": "code",
   "execution_count": null,
   "metadata": {},
   "outputs": [],
   "source": [
    "# (f_data.isna().sum()/len(f_data)*100)[(f_data.isna().sum()/len(data)*100)!=0]"
   ]
  },
  {
   "cell_type": "code",
   "execution_count": null,
   "metadata": {},
   "outputs": [],
   "source": [
    "#Furnishing is more likely to be unfurnished in my experience.\n",
    "f_data['furnishing'].fillna(f_data['furnishing'].mode().values[0],inplace = True)"
   ]
  },
  {
   "cell_type": "code",
   "execution_count": null,
   "metadata": {},
   "outputs": [],
   "source": [
    "#From what I have observed on the site, usually when parking is not mentioned \n",
    "#it means that no parking is available with the listing. \n",
    "f_data['parking'].fillna('None',inplace = True)"
   ]
  },
  {
   "cell_type": "code",
   "execution_count": null,
   "metadata": {},
   "outputs": [],
   "source": [
    "#Getting number of rooms in the house\n",
    "BHK = []\n",
    "for i in f_data['bhk']:\n",
    "    if len(i.split()[0].lower()) > 5:\n",
    "        BHK.append('1')\n",
    "    else:\n",
    "        BHK.append(i.split()[0])\n",
    "f_data['BHK'] = [int(i) for i in BHK]"
   ]
  },
  {
   "cell_type": "code",
   "execution_count": null,
   "metadata": {},
   "outputs": [],
   "source": [
    "#Config of room (Apartment,Flat,Penthouse,Builder Floor,Studio etc.)\n",
    "config = []\n",
    "for i in f_data['bhk']:\n",
    "    if i.split()[0].lower() == 'studio':\n",
    "        config.append('Studio')\n",
    "    elif i.split()[-1].lower() == 'flat' or i.split()[-1].lower() == 'apartment':\n",
    "        config.append('apartment') \n",
    "    elif i.split()[-1].lower() == 'penthouse':\n",
    "        config.append(i.split()[-1]) \n",
    "    else:\n",
    "        config.append('other')\n",
    "f_data['config'] = config"
   ]
  },
  {
   "cell_type": "code",
   "execution_count": null,
   "metadata": {},
   "outputs": [],
   "source": [
    "# (f_data.isna().sum()/len(f_data)*100)[(f_data.isna().sum()/len(data)*100)!=0]"
   ]
  },
  {
   "cell_type": "code",
   "execution_count": null,
   "metadata": {},
   "outputs": [],
   "source": [
    "# imputation for bathroom feature\n",
    "for i in f_data[f_data['bathrooms'].isna()].index:\n",
    "    f_data['bathrooms'][i] = f_data['BHK'][i]"
   ]
  },
  {
   "cell_type": "code",
   "execution_count": null,
   "metadata": {},
   "outputs": [],
   "source": [
    "#possession_status. Later we will be creating more columns using this column like\n",
    "#construction or ready to move, possession pending and create possession date column as well.\n",
    "f_data['Possession_Status'] = f_data['Possession_Status'].fillna('unavailable')"
   ]
  },
  {
   "cell_type": "code",
   "execution_count": null,
   "metadata": {},
   "outputs": [],
   "source": [
    "#floors\n",
    "f_data = f_data.dropna(subset = ['Floors'])"
   ]
  },
  {
   "cell_type": "code",
   "execution_count": null,
   "metadata": {},
   "outputs": [],
   "source": [
    "#overlooking\n",
    "f_data['overlooking'] = f_data['overlooking'].fillna(f_data['overlooking'].mode().values[0])"
   ]
  },
  {
   "cell_type": "code",
   "execution_count": null,
   "metadata": {},
   "outputs": [],
   "source": [
    "#facing\n",
    "f_data['facing'] = f_data['facing'].fillna('None')"
   ]
  },
  {
   "cell_type": "code",
   "execution_count": null,
   "metadata": {},
   "outputs": [],
   "source": [
    "#overlooking can be converted to main road or other\n",
    "f_data['overlooking'] = ['other' if i.lower() != 'main road' else 'main road' for i in f_data['overlooking']]"
   ]
  },
  {
   "cell_type": "markdown",
   "metadata": {},
   "source": [
    "###### Missing values have now been filled. Now let us further perform imputations on our columns."
   ]
  },
  {
   "cell_type": "code",
   "execution_count": null,
   "metadata": {},
   "outputs": [],
   "source": [
    "#Checking Sqft column\n",
    "# First convert the sqft to a number by removing all non numeric figures and change dtype\n",
    "# Check if super area or carpet area. \n",
    "# If super area then change to carpet area. \n",
    "# Carpet area is 70% of super area according to magicbricks.\n",
    "l = []\n",
    "for i in f_data['area']:\n",
    "    try:\n",
    "        l.append(int(i[:-4].strip()))\n",
    "    except:\n",
    "        l.append(np.nan)\n",
    "f_data['area'] = l"
   ]
  },
  {
   "cell_type": "code",
   "execution_count": null,
   "metadata": {},
   "outputs": [],
   "source": [
    "# Drop records having nan in area\n",
    "f_data = f_data.dropna(subset = ['area'])"
   ]
  },
  {
   "cell_type": "markdown",
   "metadata": {},
   "source": [
    "###### All missing values have now been handled"
   ]
  },
  {
   "cell_type": "code",
   "execution_count": null,
   "metadata": {},
   "outputs": [],
   "source": [
    "#Drop the OG bhk,advertiser_name, column\n",
    "f_data = f_data.drop(['bhk','advertiser_name'],axis=1)\n",
    "f_data = f_data.reset_index(drop = True)"
   ]
  },
  {
   "cell_type": "code",
   "execution_count": null,
   "metadata": {},
   "outputs": [],
   "source": [
    "#Converting super area to carpet\n",
    "for i in range(len(f_data)):\n",
    "    if f_data['Area_Type'][i] == 'super area':\n",
    "        f_data['area'][i] = round(0.7*f_data['area'][i])\n",
    "    else:\n",
    "        pass\n",
    "f_data = f_data.drop('Area_Type',axis = 1)"
   ]
  },
  {
   "cell_type": "code",
   "execution_count": null,
   "metadata": {},
   "outputs": [],
   "source": [
    "#Convert Possession_Status to received and not received\n",
    "f_data['Possession_Status'] = ['received' if i.lower() == 'ready to move' else 'not received' for i in f_data['Possession_Status']]"
   ]
  },
  {
   "cell_type": "code",
   "execution_count": null,
   "metadata": {},
   "outputs": [],
   "source": [
    "#Floors Create 2 columns flat_floor_no.,total_floors\n",
    "f_data['flat_floor_no.'] = f_data['Floors'].apply(lambda x: x.split()[0])\n",
    "\n",
    "total_floors = []\n",
    "for i in f_data['Floors']:\n",
    "    try:\n",
    "        total_floors.append(i.split()[-2])\n",
    "    except:\n",
    "        total_floors.append(np.nan)\n",
    "f_data['total_floors'] = total_floors\n",
    "f_data = f_data.drop('Floors',axis = 1).dropna(subset = ['total_floors'])"
   ]
  },
  {
   "cell_type": "code",
   "execution_count": null,
   "metadata": {},
   "outputs": [],
   "source": [
    "#price. We will have to bring lacs and crores into one scale. So we will convert lac to crore.\n",
    "true_price = []\n",
    "for i in f_data['price']:\n",
    "    if i.split()[-1].lower() == 'lac':\n",
    "        true_price.append(round(float(i.split()[1])*0.01,2))\n",
    "    else:\n",
    "        true_price.append(float(i.split()[1]))\n",
    "f_data['price'] = true_price"
   ]
  },
  {
   "cell_type": "code",
   "execution_count": null,
   "metadata": {},
   "outputs": [],
   "source": [
    "#1. Create a column for parking available\n",
    "first_extract_parking = [0 if len(i.split())==1 else int(i.split()[0]) for i in f_data['parking']]\n",
    "final_extract_parking = [i if i<10 else 1 for i in first_extract_parking]\n",
    "f_data['no_of_parking'] = final_extract_parking"
   ]
  },
  {
   "cell_type": "code",
   "execution_count": null,
   "metadata": {},
   "outputs": [],
   "source": [
    "#2. Create a column as open,closed,both,none\n",
    "def parking_imputer(x):\n",
    "    if len(x.split())>2:\n",
    "        return 'both'\n",
    "    elif len(x.split())==2:\n",
    "        return x.split()[1]\n",
    "    else:\n",
    "        return 'Open'\n",
    "\n",
    "    \n",
    "f_data['parking_type'] = f_data['parking'].apply(parking_imputer)"
   ]
  },
  {
   "cell_type": "code",
   "execution_count": null,
   "metadata": {},
   "outputs": [],
   "source": [
    "#Drop Parking column\n",
    "f_data = f_data.drop(['parking'],axis = 1)\n",
    "f_data = f_data.reset_index(drop = True)"
   ]
  },
  {
   "cell_type": "code",
   "execution_count": null,
   "metadata": {},
   "outputs": [],
   "source": [
    "#Date column can be dropped at the time of modelling since date_of_posting has no relation with property price.\n",
    "#Hoever it can be used for analysis and to check modelling, trend and seasonality once we have an entire years data."
   ]
  },
  {
   "cell_type": "markdown",
   "metadata": {},
   "source": [
    "###### Handling the data types for each column"
   ]
  },
  {
   "cell_type": "code",
   "execution_count": null,
   "metadata": {},
   "outputs": [],
   "source": [
    "#Converting total_floors from object to integer\n",
    "f_data['total_floors'] = f_data['total_floors'].astype(\"int64\")"
   ]
  },
  {
   "cell_type": "code",
   "execution_count": null,
   "metadata": {},
   "outputs": [],
   "source": [
    "#Checking flat_floor_no to see what anomalies are present.\n",
    "f_data['flat_floor_no.'].unique()"
   ]
  },
  {
   "cell_type": "code",
   "execution_count": null,
   "metadata": {},
   "outputs": [],
   "source": [
    "def flat_flr_no_impute(x):\n",
    "    if x.lower().strip()=='ground':\n",
    "        return 1\n",
    "    else:\n",
    "        return x\n",
    "f_data['flat_floor_no.'] = f_data['flat_floor_no.'].apply(flat_flr_no_impute)"
   ]
  },
  {
   "cell_type": "code",
   "execution_count": null,
   "metadata": {},
   "outputs": [],
   "source": [
    "#Convert Ground to 1, 'Lower' to 0.2*total_floors, and 'Upper' as 0.7*total_floors\n",
    "\n",
    "#For lower and upper exact floor number is not given. We can take 20% of total floors for lower, and 70% of total floors for upper\n",
    "for i in range(len(f_data)):\n",
    "    if f_data['flat_floor_no.'][i] == 'Lower':\n",
    "        f_data['flat_floor_no.'][i] = round(f_data['total_floors'][i]*0.2)\n",
    "    elif f_data['flat_floor_no.'][i] == 'Upper':\n",
    "        f_data['flat_floor_no.'][i] = round(f_data['total_floors'][i]*0.7)\n",
    "    else:\n",
    "        pass\n",
    "f_data['flat_floor_no.'] = f_data['flat_floor_no.'].astype(\"int64\")"
   ]
  },
  {
   "cell_type": "code",
   "execution_count": null,
   "metadata": {
    "scrolled": true
   },
   "outputs": [],
   "source": [
    "#Create a dictionary that would contain the location data so that we dont have to call geopy again and again\n",
    "def location_convert(base_location,loc_path,loc_col):\n",
    "    import pandas as pd\n",
    "    bad_l = pd.read_csv('locations/Bad locations/latest_bad_loc.csv')['location'].unique()\n",
    "    try:\n",
    "        import json\n",
    "        #If directory not present\n",
    "        if 'location.json' not in os.listdir('locations'):\n",
    "            open(loc_path,mode = 'w')\n",
    "        else:\n",
    "            pass\n",
    "\n",
    "        \n",
    "        locator = Nominatim(user_agent=\"myGeocoder\") #Assigning the user agent or API for the locations\n",
    "        base_location = base_location+',' #Adding comma so that we get Mumbai,Andheri East for example.\n",
    "        \n",
    "        with open(loc_path) as loc_input: \n",
    "            location_dict = json.load(loc_input) #Loading the json file from directory.\n",
    "\n",
    "        error_vals = [] #For the values in this list, geopy failed to load latitude and longitude data.\n",
    "        \n",
    "    #Looping over all values in dataset and if not present in location_dict then using geopy to get lat and long\n",
    "        for i in loc_col:\n",
    "            try:\n",
    "                if i not in location_dict.keys():\n",
    "                    if i not in bad_l:\n",
    "                        locating = locator.geocode(base_location+i)\n",
    "                        location_dict.setdefault(i,(locating.latitude,locating.longitude))\n",
    "                else:\n",
    "                    pass\n",
    "            except Exception as e:\n",
    "                print(e)\n",
    "                error_vals.append(i)\n",
    "\n",
    "\n",
    "        #Saving dictionary as a local json   \n",
    "        json.dumps(location_dict) #To create a json file of our dictionary.\n",
    "        with open(loc_path,mode='w') as output:\n",
    "            json.dump(location_dict,output)\n",
    "        return location_dict,error_vals\n",
    "    except:\n",
    "        print(\"The location is not receiving any geocode from geopy. Check location value\")"
   ]
  },
  {
   "cell_type": "code",
   "execution_count": null,
   "metadata": {
    "scrolled": true
   },
   "outputs": [],
   "source": [
    "location_dict,error_vals = location_convert(base_location = 'Mumbai',loc_path = r'locations/location.json',loc_col = f_data['location'].unique())"
   ]
  },
  {
   "cell_type": "code",
   "execution_count": null,
   "metadata": {},
   "outputs": [],
   "source": [
    "#Getting latitude and longitude from dictionary\n",
    "def mapping_latitude(x):\n",
    "    try:\n",
    "        return location_dict[x][0]\n",
    "    except:\n",
    "        return np.nan\n",
    "    \n",
    "def mapping_longitude(x):\n",
    "    import numpy as np\n",
    "    try:\n",
    "        return location_dict[x][1]\n",
    "    except:\n",
    "        return np.nan\n",
    "    \n",
    "f_data['longitude'] = f_data['location'].apply(mapping_longitude) #Mapping longitude values to new column\n",
    "f_data['latitude'] = f_data['location'].apply(mapping_latitude)   #Mapping latitude values to new column"
   ]
  },
  {
   "cell_type": "code",
   "execution_count": null,
   "metadata": {},
   "outputs": [],
   "source": [
    "#Create a csv file for all records that were not mapped as bad records\n",
    "bad_data = f_data[((f_data['longitude'].isna()) | (f_data['latitude'].isna()) | (f_data['longitude']<0) | (f_data['latitude']<0)| (f_data['longitude']>75) | (f_data['latitude']<18))]\n",
    "if len(os.listdir('Locations/Bad locations'))==0:\n",
    "    bad_data.to_csv('Locations/Bad locations/badloc.csv',index = False)\n",
    "else:\n",
    "    og_bad = pd.read_csv('Locations/Bad locations/badloc.csv')\n",
    "    pd.concat((bad_data,og_bad)).to_csv('Locations/Bad locations/latest_bad_loc.csv',index = False)"
   ]
  },
  {
   "cell_type": "code",
   "execution_count": null,
   "metadata": {},
   "outputs": [],
   "source": [
    "f_data = f_data[~((f_data['longitude'].isna()) | (f_data['latitude'].isna()) | (f_data['longitude']<0) | (f_data['latitude']<0) | (f_data['longitude']>75) | (f_data['latitude']<18) )]"
   ]
  },
  {
   "cell_type": "code",
   "execution_count": null,
   "metadata": {},
   "outputs": [],
   "source": [
    "f_data['location'].value_counts().head(5)"
   ]
  },
  {
   "cell_type": "code",
   "execution_count": null,
   "metadata": {},
   "outputs": [],
   "source": [
    "#Dropping the location column since it latitude and longitude will work for machine and also dropping any nan values.\n",
    "f_data = f_data.drop('location',axis = 1).dropna()"
   ]
  },
  {
   "cell_type": "markdown",
   "metadata": {},
   "source": [
    "# Exploratory Data Analysis for feature manipulation"
   ]
  },
  {
   "cell_type": "markdown",
   "metadata": {},
   "source": [
    "### Univariate Analysis"
   ]
  },
  {
   "cell_type": "code",
   "execution_count": null,
   "metadata": {},
   "outputs": [],
   "source": [
    "f_data.info()"
   ]
  },
  {
   "cell_type": "code",
   "execution_count": null,
   "metadata": {},
   "outputs": [],
   "source": [
    "#Plotting distributions\n",
    "import warnings\n",
    "warnings.simplefilter('ignore')\n",
    "fig,ax = plt.subplots(nrows = 3,ncols = 3,figsize = (15,12))\n",
    "for variables,plotsubs in zip(f_data.select_dtypes(np.number).columns,ax.flatten()):\n",
    "    sns.distplot(a = f_data[variables],ax = plotsubs)\n",
    "    plt.tight_layout()\n",
    "plt.show()\n",
    "#A lot of our numerical columns are psitively skewed. We could apply log or boxcox transformation on these columns."
   ]
  },
  {
   "cell_type": "code",
   "execution_count": null,
   "metadata": {},
   "outputs": [],
   "source": [
    "#Log transformation seems to be a good option for area,flat_floor_no.,total_floors.\n",
    "f_data['area_log'] = np.log(f_data['area'])\n",
    "f_data['flat_floor_no_log'] = np.log(f_data['flat_floor_no.'])\n",
    "f_data['total_floors_log'] = np.log(f_data['total_floors'])"
   ]
  },
  {
   "cell_type": "code",
   "execution_count": null,
   "metadata": {},
   "outputs": [],
   "source": [
    "import warnings\n",
    "warnings.simplefilter('ignore')\n",
    "fig,ax = plt.subplots(nrows = 1,ncols = 3,figsize = (15,3))\n",
    "for variables,plotsubs in zip(f_data.select_dtypes(np.number)[['area_log','flat_floor_no_log','total_floors_log']].columns,ax.flatten()):\n",
    "    sns.distplot(a = f_data[variables],ax = plotsubs)\n",
    "    plt.tight_layout()\n",
    "plt.show()\n",
    "#Now we can see that all our skewed variables are now showing a more normal distribution."
   ]
  },
  {
   "cell_type": "code",
   "execution_count": null,
   "metadata": {},
   "outputs": [],
   "source": [
    "f_data.columns"
   ]
  },
  {
   "cell_type": "code",
   "execution_count": null,
   "metadata": {},
   "outputs": [],
   "source": [
    "#Univariate analysis of categorical variables.\n",
    "for i in f_data[['Possession_Status', 'new_or_resale', 'furnishing','facing', 'overlooking','config','parking_type']].columns:\n",
    "    f_data[i].value_counts(normalize = True).sort_values().plot(kind = 'barh')\n",
    "    plt.show()"
   ]
  },
  {
   "cell_type": "markdown",
   "metadata": {},
   "source": [
    "###### Once data for entire year is collected we can use the date posted column as well to check trends in the market."
   ]
  },
  {
   "cell_type": "markdown",
   "metadata": {},
   "source": [
    "###### Inferences from first collection of data\n",
    "* There are more properties listed on magicbricks that have received possession than properties that have not.\n",
    "* More resale properties are available on the market compared to newer projects.\n",
    "* More houses are east facing which is known to be good auspiciously. This is an India specific sentiment.\n",
    "* There as many property that face the main road as property that don't face the main road.\n",
    "* There are more properties having open parking than covered parking.\n",
    "* Price is almost always skewed in any dataset that we see. The same is true even in this webscrapped dataset."
   ]
  },
  {
   "cell_type": "markdown",
   "metadata": {},
   "source": [
    "### Bivariate Analysis"
   ]
  },
  {
   "cell_type": "code",
   "execution_count": null,
   "metadata": {
    "scrolled": true
   },
   "outputs": [],
   "source": [
    "#Plotting box plots for all categorical columns\n",
    "for i in f_data[['Possession_Status', 'new_or_resale', 'furnishing','facing', 'overlooking','config','parking_type']].columns:\n",
    "    box_plot(i,'price',data = f_data)\n",
    "#There area some categorical features that do have subtle differences in price. \n",
    "#For example furnished flats tend to be more expensive than unfurnished.\n",
    "#Resale is tending to fetch slightly more price compared to new property.\n",
    "#Receiving possession is also driving the price up.\n",
    "#Properties proving covered parking tend to be more expensive."
   ]
  },
  {
   "cell_type": "code",
   "execution_count": null,
   "metadata": {},
   "outputs": [],
   "source": [
    "for i in f_data.select_dtypes(np.number).drop('price',axis = 1).columns:\n",
    "    scatter_plot(i,f_data)"
   ]
  },
  {
   "cell_type": "code",
   "execution_count": null,
   "metadata": {},
   "outputs": [],
   "source": [
    "#We could change the facing column to good and bad but as input we would keep directions as options. \n",
    "#We would make the imputations at the backend as good and bad.\n",
    "#according to Vastu, the East, North and Northeast are considered good and the rest are not that great.\n",
    "gorb = ['Unknown','Good','Bad','Good','Good','Good','Bad','Bad','Bad']\n",
    "f_data['facing'].unique()\n",
    "facing_mapper = dict(zip(f_data['facing'].unique(),gorb))\n",
    "\n",
    "f_data['Vastu_direction'] = f_data['facing'].map(facing_mapper)"
   ]
  },
  {
   "cell_type": "code",
   "execution_count": null,
   "metadata": {},
   "outputs": [],
   "source": [
    "#Dropping area,flat_floor_no,total_floors\n",
    "f_data = f_data.drop(['area','flat_floor_no.','total_floors'],axis = 1)"
   ]
  },
  {
   "cell_type": "code",
   "execution_count": null,
   "metadata": {},
   "outputs": [],
   "source": [
    "#Dropping date of posting\n",
    "f_data = f_data.drop('date_of_posting',axis  = 1)"
   ]
  },
  {
   "cell_type": "code",
   "execution_count": null,
   "metadata": {},
   "outputs": [],
   "source": [
    "#Dropping the facing column since I have generalized it as can be seen above.\n",
    "f_data = f_data.drop('facing',axis = 1)"
   ]
  },
  {
   "cell_type": "code",
   "execution_count": null,
   "metadata": {},
   "outputs": [],
   "source": [
    "f_data.info()"
   ]
  },
  {
   "cell_type": "markdown",
   "metadata": {},
   "source": [
    "### Statistical Analysis"
   ]
  },
  {
   "cell_type": "markdown",
   "metadata": {},
   "source": [
    "###### Performing independent T-test on columns having 2 categories."
   ]
  },
  {
   "cell_type": "code",
   "execution_count": null,
   "metadata": {},
   "outputs": [],
   "source": [
    "#Creating a function for independent ttest\n",
    "def ttest_calc(col_name):\n",
    "    ttest_pos_rec = f_data[f_data[col_name] == f_data[col_name].unique()[0]]['price']\n",
    "    ttest_pos_nrec = f_data[f_data[col_name] == f_data[col_name].unique()[1]]['price']\n",
    "    teststat,pval = stats.ttest_ind(ttest_pos_rec,ttest_pos_nrec)\n",
    "    if pval<0.05:\n",
    "        print(\"T-test for {} is having:\\np-value: {}\\nWe can conclude that {} feature is significant for predictions.\\n\".format(col_name,pval,col_name))\n",
    "    else:\n",
    "        print(\"T-test for {} is having:\\np-value: {}\\n{} feature is not significant for predictions and can be dropped.\\n\".format(col_name,pval,col_name))"
   ]
  },
  {
   "cell_type": "code",
   "execution_count": null,
   "metadata": {},
   "outputs": [],
   "source": [
    "for i in f_data.nunique()[f_data.nunique()==2].index:\n",
    "    ttest_calc(col_name = i)"
   ]
  },
  {
   "cell_type": "code",
   "execution_count": null,
   "metadata": {},
   "outputs": [],
   "source": [
    "#Let us perform Anova test on the other columns\n",
    "import statsmodels.api as sm\n",
    "from statsmodels.formula.api import ols\n",
    "an_model = ols(\"price~furnishing+config+parking_type+Vastu_direction\",f_data).fit()\n",
    "anova_table = sm.stats.anova_lm(an_model)\n",
    "print(anova_table)"
   ]
  },
  {
   "cell_type": "code",
   "execution_count": null,
   "metadata": {},
   "outputs": [],
   "source": [
    "anova_table[anova_table.loc[:,'PR(>F)']>0.05]\n",
    "#Vastu_direction as expected does not seem to have a significant impact on our model and \n",
    "#can be dropped."
   ]
  },
  {
   "cell_type": "code",
   "execution_count": null,
   "metadata": {},
   "outputs": [],
   "source": [
    "#Performing TukeyHSD to check how each parameter affects price\n",
    "def tukey(col):\n",
    "    from statsmodels.stats.multicomp import pairwise_tukeyhsd\n",
    "    print(pairwise_tukeyhsd(f_data['price'],f_data[col]))"
   ]
  },
  {
   "cell_type": "code",
   "execution_count": null,
   "metadata": {},
   "outputs": [],
   "source": [
    "tukey('furnishing')\n",
    "#Flat being furnished and unfurnished. Semi-furnished does not play a significant role. "
   ]
  },
  {
   "cell_type": "code",
   "execution_count": null,
   "metadata": {
    "scrolled": true
   },
   "outputs": [],
   "source": [
    "tukey('config')\n",
    "#Penthouse seems to be a significant cateogory when compared with other categories."
   ]
  },
  {
   "cell_type": "code",
   "execution_count": null,
   "metadata": {},
   "outputs": [],
   "source": [
    "tukey('parking_type')\n",
    "#Open and covered seems to play the most significant role in predicting price. \n",
    "#Both can be dropped."
   ]
  },
  {
   "cell_type": "code",
   "execution_count": null,
   "metadata": {},
   "outputs": [],
   "source": [
    "tukey('Vastu_direction')\n",
    "#Vastu does not seem to play any role and can be dropped."
   ]
  },
  {
   "cell_type": "markdown",
   "metadata": {},
   "source": [
    "### Inferences from our statistical Analysis\n",
    "###### Tests were done on 1457 records.\n",
    "* Possession_Status,New_or_resale and overlooking all play a significant role for predicting price.\n",
    "* Furnishing,config,parking_type are also significant in predicting price.\n",
    "* Vastu can be dropped since it is not significant in predicting price.\n",
    "* Semi-Furnished as a category is not playing a significant role in predicting price.\n",
    "* For parking \"Both\" category is not palying a significant role in predicting price. This could change with an increase in data and hence I won't be removing this category for now."
   ]
  },
  {
   "cell_type": "code",
   "execution_count": null,
   "metadata": {},
   "outputs": [],
   "source": [
    "f_data = f_data.drop('Vastu_direction',axis = 1)"
   ]
  },
  {
   "cell_type": "markdown",
   "metadata": {},
   "source": [
    "# Modelling"
   ]
  },
  {
   "cell_type": "code",
   "execution_count": null,
   "metadata": {},
   "outputs": [],
   "source": [
    "#Checking for overfitting\n",
    "def metrics(y,ypred,model_name = 'Unknown'):\n",
    "    from sklearn.metrics import mean_squared_error,r2_score\n",
    "    RMSE = np.sqrt(mean_squared_error(y,ypred))\n",
    "    r2score = r2_score(y,ypred)\n",
    "    print(\"{} RMSE is: {}\".format(model_name,RMSE))\n",
    "    print(\"{} r2_score is: {}\".format(model_name,r2score))"
   ]
  },
  {
   "cell_type": "code",
   "execution_count": null,
   "metadata": {},
   "outputs": [],
   "source": [
    "import statsmodels.api as sm\n",
    "from statsmodels.api import OLS\n",
    "from sklearn.model_selection import train_test_split\n",
    "#Data for modelling\n",
    "model_data = pd.get_dummies(f_data,drop_first = True)\n",
    "\n",
    "x = model_data.drop('price',axis= 1)\n",
    "y = model_data.price\n",
    "x1 = sm.add_constant(x)\n",
    "\n",
    "x_train,x_test,y_train,y_test = train_test_split(x1,y,test_size = 0.2,random_state = 6)\n",
    "\n",
    "model = OLS(y_train,x_train).fit()\n",
    "\n",
    "print(model.summary())"
   ]
  },
  {
   "cell_type": "code",
   "execution_count": null,
   "metadata": {},
   "outputs": [],
   "source": [
    "metrics(y_train,model.predict(x_train),model_name = 'OLS all params train')\n",
    "metrics(y_test,model.predict(x_test),model_name = 'OLS all params test')\n",
    "#Model is underfitting."
   ]
  },
  {
   "cell_type": "markdown",
   "metadata": {},
   "source": [
    "#### inferences from the initial Linear Regression model\n",
    "\n",
    "* Adjusted R2 score is only 50% which probably tells me that either we need more data or this model is non-linear.\n",
    "* P-value of F-stat is less than 0.05 which means the model is ok. It is demonsrtating some relation between the variables.\n",
    "* P-value is more than 0.05 for some parameters. Such parameters are not able to create significant impact on the model.\n",
    "* P-value of constant is less than 0.05 which means this model is genralized and would be able to predict features even beyond the regression line. However I would still consider such predictions to be spurious.\n",
    "* Durbin Watson is between 1.5 and 2.5 which means there is no autocorrelation in the model.\n",
    "* Jarque Bera p-value below 0.05 tells me that the model is normally distributed.\n",
    "* High condition number means that there is some multicollinearity. Ideally we want the number less than 100 but it is too high here.\n",
    "* Model seems to be positively skewed as well towards the right and model seems to have a high kurtosis value which means it is heavier at the tail.\n"
   ]
  },
  {
   "cell_type": "markdown",
   "metadata": {},
   "source": [
    "###### Performing the 5 tests for regression\n",
    "\n",
    "* **Normality**: Model appears to be normal. Concluded from Jarque-Bera\n",
    "* **Linearity**\n",
    "* Heteroskedasticity\n",
    "* **Auto-Correlation** : Model has no auto-correlation. Concluded from durbin watson test.\n",
    "* Multi-Collinearity"
   ]
  },
  {
   "cell_type": "code",
   "execution_count": null,
   "metadata": {},
   "outputs": [],
   "source": [
    "#Linearity\n",
    "from scipy.stats import probplot\n",
    "import statsmodels.api as sm\n",
    "probplot(model.resid,plot = plt)\n",
    "plt.show()\n",
    "print(sm.stats.diagnostic.linear_rainbow(model))\n",
    "#Model fails the test of linearity accoring to the linear_rainbow test since its p-value is less than 0.05 and we \n",
    "#reject the null hypothesis."
   ]
  },
  {
   "cell_type": "code",
   "execution_count": null,
   "metadata": {},
   "outputs": [],
   "source": [
    "#Heteroskedasticity\n",
    "test_stat,p_value,ftest,p_valftest = sm.stats.diagnostic.het_breuschpagan(model.resid,x_train)\n",
    "p_value\n",
    "#Model is heteroskedastic since p_value is less than 0.05\n",
    "sns.residplot(model.fittedvalues,model.resid)\n",
    "plt.show('Heteroskedastic pattern')\n",
    "plt.show()\n",
    "#We clearly can see a heteroskedastic pattern here."
   ]
  },
  {
   "cell_type": "code",
   "execution_count": null,
   "metadata": {},
   "outputs": [],
   "source": [
    "#Multi-Collinearity\n",
    "from statsmodels.stats.outliers_influence import variance_inflation_factor as vif\n",
    "scores = []\n",
    "d_1 = x.drop(['config_apartment','total_floors_log','bathrooms','longitude','latitude','area_log'],axis =1)\n",
    "\n",
    "for i in range(len(d_1.columns)):\n",
    "    scores.append(vif(d_1.values,i))\n",
    "vif_summary = pd.DataFrame({'Features':d_1.columns,'VIF':scores})\n",
    "vif_summary\n",
    "#Though latitude and longitude show large multicollinearity, I believe that these features are important to determine price."
   ]
  },
  {
   "cell_type": "code",
   "execution_count": null,
   "metadata": {},
   "outputs": [],
   "source": [
    "#Model after removing collinear variables\n",
    "import statsmodels.api as sm\n",
    "from statsmodels.api import OLS\n",
    "from sklearn.model_selection import train_test_split\n",
    "#Data for modelling\n",
    "model_data = pd.get_dummies(f_data,drop_first = True)\n",
    "\n",
    "x_ = model_data[vif_summary['Features'].values]\n",
    "y = model_data.price\n",
    "x1 = sm.add_constant(x_)\n",
    "\n",
    "x_train,x_test,y_train,y_test = train_test_split(x1,y,test_size = 0.2,random_state = 6)\n",
    "\n",
    "model_pvif = OLS(y_train,x_train).fit()\n",
    "\n",
    "print(model_pvif.summary())\n",
    "#While we have seen a massive reduction in multicollinearity, our adjusted r2_score has also taken a hit. "
   ]
  },
  {
   "cell_type": "code",
   "execution_count": null,
   "metadata": {},
   "outputs": [],
   "source": [
    "metrics(y_train,model_pvif.predict(x_train),'OLS removing multicollinearity train')\n",
    "metrics(y_test,model_pvif.predict(x_test),'OLS removing multicollinearity test')"
   ]
  },
  {
   "cell_type": "markdown",
   "metadata": {},
   "source": [
    "* Our train RMSE is much greater than the test RMSE. This means that the model has underfit.\n",
    "* The difference between the test and train metrics have not reduced which tells me that our underfitting problem has not been solved.\n",
    "* Probably regularization can be tried at this stage since the difference betweeen train and test scores is high.\n",
    "* My hunch is that using ridge, lasso or elastic net which penalizes coefficients would do a better job here.\n",
    "* We should also apply log transformation on the target variable and check if our model improves."
   ]
  },
  {
   "cell_type": "code",
   "execution_count": null,
   "metadata": {},
   "outputs": [],
   "source": [
    "#Performing log transform on 'price' column of f_data to reduce heteroskedasticity\n",
    "f_data['price'] = np.log(f_data['price'])"
   ]
  },
  {
   "cell_type": "code",
   "execution_count": null,
   "metadata": {},
   "outputs": [],
   "source": [
    "#We could maybe try to apply log transformation on the target variable and keep all parameters to improve this.\n",
    "import statsmodels.api as sm\n",
    "from statsmodels.api import OLS\n",
    "from sklearn.model_selection import train_test_split\n",
    "#Data for modelling\n",
    "model_data = pd.get_dummies(f_data,drop_first = True)\n",
    "\n",
    "x = model_data.drop('price',axis= 1)\n",
    "y = model_data.price\n",
    "x1 = sm.add_constant(x)\n",
    "\n",
    "x_train,x_test,y_train,y_test = train_test_split(x1,y,test_size = 0.2,random_state = 6)\n",
    "\n",
    "model = OLS(y_train,x_train).fit()\n",
    "\n",
    "sns.residplot(model.fittedvalues,model.resid)\n",
    "plt.title('Homoskedastic Pattern')\n",
    "plt.show()\n",
    "#As can be observed we have reduced the heteroskedastic nature of the model. Let us check the model summary\n",
    "print(model.summary())\n",
    "#Our model sees a massive jump in the r2_score. I think we must perform log transform on the target variable."
   ]
  },
  {
   "cell_type": "code",
   "execution_count": null,
   "metadata": {},
   "outputs": [],
   "source": [
    "metrics(y_train,model.predict(x_train),model_name = 'OLS all params (log on target) train')\n",
    "metrics(y_test,model.predict(x_test),model_name = 'OLS all params (log on target) test')\n",
    "#Model is still overfitting but r2_score has increased."
   ]
  },
  {
   "cell_type": "markdown",
   "metadata": {},
   "source": [
    "### Regularization\n",
    "\n",
    "**Regularization Libraries**"
   ]
  },
  {
   "cell_type": "code",
   "execution_count": null,
   "metadata": {},
   "outputs": [],
   "source": [
    "from sklearn.linear_model import Ridge,Lasso,ElasticNet"
   ]
  },
  {
   "cell_type": "code",
   "execution_count": null,
   "metadata": {},
   "outputs": [],
   "source": [
    "#Function for fitting regularized models\n",
    "def regularized_models(data,target,model_name = 'Ridge',model = Ridge(alpha = 1)):\n",
    "    from sklearn.model_selection import train_test_split\n",
    "    from sklearn.linear_model import Ridge,Lasso,ElasticNet\n",
    "    import pandas as pd\n",
    "    import numpy as np\n",
    "    \n",
    "    #Function for calculating RMSE and r2score\n",
    "    def metrics(y,ypred,model_name = 'Unknown'):\n",
    "        from sklearn.metrics import mean_squared_error,r2_score\n",
    "        RMSE = np.sqrt(mean_squared_error(y,ypred))\n",
    "        r2score = r2_score(y,ypred)\n",
    "        print(\"{} RMSE is: {}\".format(model_name,RMSE))\n",
    "        print(\"{} r2_score is: {}\".format(model_name,r2score))\n",
    "    \n",
    "    #Get dummies for data\n",
    "    d = pd.get_dummies(data,drop_first = True)\n",
    "    \n",
    "    #Create x and y for seperating dependent and independent variables\n",
    "    x = d.drop(target,axis = 1)\n",
    "    y = d[target]\n",
    "    \n",
    "    #Split into train and test\n",
    "    x_train,x_test,y_train,y_test = train_test_split(x,y,test_size = 0.2,random_state = 1)\n",
    "    m = model\n",
    "    m.fit(x_train,y_train)\n",
    "    \n",
    "    #Printing metrics\n",
    "    metrics(y_train,model.predict(x_train),model_name+' train')\n",
    "    metrics(y_test,model.predict(x_test),model_name+' test')"
   ]
  },
  {
   "cell_type": "code",
   "execution_count": null,
   "metadata": {},
   "outputs": [],
   "source": [
    "#Function to find best parameters\n",
    "def grid_search(model,x,y,params,cv = 5,verbose = 0,n_jobs = -1):\n",
    "    from sklearn.model_selection import GridSearchCV\n",
    "    grid = GridSearchCV(estimator = model,param_grid = params,scoring='r2',cv = cv,verbose = verbose,n_jobs = n_jobs)\n",
    "    grid.fit(x,y)\n",
    "    return grid.best_params_"
   ]
  },
  {
   "cell_type": "markdown",
   "metadata": {},
   "source": [
    "###### Lasso"
   ]
  },
  {
   "cell_type": "code",
   "execution_count": null,
   "metadata": {},
   "outputs": [],
   "source": [
    "#Without hyperpararmeter tuning\n",
    "regularized_models(f_data,target = 'price',model_name = 'Lasso',model = Lasso(alpha = 1))"
   ]
  },
  {
   "cell_type": "code",
   "execution_count": null,
   "metadata": {},
   "outputs": [],
   "source": [
    "params = {'alpha':[0.001,0.005,0.05,0.01,0.1,1,1.5,2,5,10]}\n",
    "grid_search(Lasso(),x_train,y_train,params = params)"
   ]
  },
  {
   "cell_type": "code",
   "execution_count": null,
   "metadata": {},
   "outputs": [],
   "source": [
    "regularized_models(f_data,target = 'price',model_name = 'Lasso',model = Lasso(alpha = 0.001))"
   ]
  },
  {
   "cell_type": "markdown",
   "metadata": {},
   "source": [
    "###### Ridge"
   ]
  },
  {
   "cell_type": "code",
   "execution_count": null,
   "metadata": {},
   "outputs": [],
   "source": [
    "#Without hyperparameter tuning\n",
    "regularized_models(f_data,target = 'price',model_name = 'ridge')"
   ]
  },
  {
   "cell_type": "code",
   "execution_count": null,
   "metadata": {},
   "outputs": [],
   "source": [
    "params = {'alpha':[0.001,0.005,0.05,0.01,0.1,1,1.5,2,5,10]}\n",
    "grid_search(Ridge(),x_train,y_train,params = params)"
   ]
  },
  {
   "cell_type": "code",
   "execution_count": null,
   "metadata": {},
   "outputs": [],
   "source": [
    "regularized_models(f_data,target = 'price',model_name = 'ridge',model = Ridge(alpha = 0.1))"
   ]
  },
  {
   "cell_type": "markdown",
   "metadata": {},
   "source": [
    "###### ElasticNet"
   ]
  },
  {
   "cell_type": "code",
   "execution_count": null,
   "metadata": {},
   "outputs": [],
   "source": [
    "#Without hyperparameter tuning\n",
    "regularized_models(f_data,target = 'price',model_name = 'ElasticNet',model = ElasticNet(alpha = 1,l1_ratio = 0.5))"
   ]
  },
  {
   "cell_type": "code",
   "execution_count": null,
   "metadata": {},
   "outputs": [],
   "source": [
    "params_e = {'alpha':[0.001,0.005,0.05,0.01,0.1,1,1.5,2,5,10],'l1_ratio':[0.001,0.005,0.05,0.01,0.1,0.5,1,1.2,1.6]}\n",
    "b_e = grid_search(ElasticNet(),x_train,y_train,params = params_e)\n",
    "b_e"
   ]
  },
  {
   "cell_type": "code",
   "execution_count": null,
   "metadata": {},
   "outputs": [],
   "source": [
    "regularized_models(model_data,target = 'price',model_name = 'ElasticNet',model = ElasticNet(alpha = b_e['alpha'],l1_ratio = b_e['l1_ratio']))"
   ]
  },
  {
   "cell_type": "markdown",
   "metadata": {},
   "source": [
    "## Trying non-linear models on our dataset"
   ]
  },
  {
   "cell_type": "code",
   "execution_count": null,
   "metadata": {},
   "outputs": [],
   "source": [
    "def non_linear_models(data,model):\n",
    "    from sklearn.model_selection import train_test_split\n",
    "    model = model\n",
    "    x = data.drop('price',axis = 1)\n",
    "    y = data.price\n",
    "    x_train,x_test,y_train,y_test = train_test_split(x,y,test_size = 0.2,random_state = 6)\n",
    "    model.fit(x_train,y_train)\n",
    "    \n",
    "    def metrics(y,ypred,model_name = 'Unknown'):\n",
    "        from sklearn.metrics import mean_squared_error,r2_score\n",
    "        RMSE = np.sqrt(mean_squared_error(y,ypred))\n",
    "        r2score = r2_score(y,ypred)\n",
    "        print(\"{} RMSE is: {}\".format(model_name,RMSE))\n",
    "        print(\"{} r2_score is: {}\".format(model_name,r2score))\n",
    "\n",
    "    \n",
    "    metrics(y_train,model.predict(x_train),str(model)+' train')\n",
    "    metrics(y_test,model.predict(x_test),str(model)+' test')"
   ]
  },
  {
   "cell_type": "markdown",
   "metadata": {},
   "source": [
    "###### DecisionTree"
   ]
  },
  {
   "cell_type": "code",
   "execution_count": null,
   "metadata": {},
   "outputs": [],
   "source": [
    "#Trying RandomForestRegressor\n",
    "from sklearn.tree import DecisionTreeRegressor\n",
    "non_linear_models(model_data,DecisionTreeRegressor())\n",
    "#Decision Tree known for its infamous nature of overfitting has shown expected results here. \n",
    "# Test r2_score is way lower than train r2_score."
   ]
  },
  {
   "cell_type": "code",
   "execution_count": null,
   "metadata": {},
   "outputs": [],
   "source": [
    "#We will use our grid search function to find best parameters for randomforest.\n",
    "params_dt = {\n",
    "            'criterion':['mse','mae'],\n",
    "            'min_samples_split':[2,5,8,10,20,40,100],\n",
    "            'min_samples_leaf':[1,5,10,15,25,50,100],\n",
    "            \n",
    "                 }"
   ]
  },
  {
   "cell_type": "code",
   "execution_count": null,
   "metadata": {},
   "outputs": [],
   "source": [
    "#Creating train and test split for grid search\n",
    "x = model_data.drop('price',axis = 1)\n",
    "y = model_data.price\n",
    "x_train,x_test,y_train,y_test = train_test_split(x,y,test_size = 0.2,random_state = 6)\n",
    "best_param_dt = grid_search(DecisionTreeRegressor(),x = x_train, y = y_train,params = params_dt,cv = 5,verbose = 1)\n",
    "best_param_dt"
   ]
  },
  {
   "cell_type": "code",
   "execution_count": null,
   "metadata": {},
   "outputs": [],
   "source": [
    "non_linear_models(model_data,DecisionTreeRegressor(criterion = best_param_dt['criterion'],\n",
    "                                                   min_samples_leaf = best_param_dt['min_samples_leaf'],\n",
    "                                                   min_samples_split = best_param_dt['min_samples_split']))\n",
    "#The tuned parameters seem to reduce the amount of overfitting. \n",
    "#But still there is a big gap between train and test score."
   ]
  },
  {
   "cell_type": "markdown",
   "metadata": {},
   "source": [
    "###### RandomForest"
   ]
  },
  {
   "cell_type": "code",
   "execution_count": null,
   "metadata": {},
   "outputs": [],
   "source": [
    "#Trying RandomForestRegressor\n",
    "from sklearn.ensemble import RandomForestRegressor\n",
    "non_linear_models(model_data,RandomForestRegressor())\n",
    "\n",
    "#RandomForestRegressor is overfitting the data since we are getting a very high r2_score.\n",
    "#We can try hyperparameter tuning to try to reduce this problem."
   ]
  },
  {
   "cell_type": "code",
   "execution_count": null,
   "metadata": {},
   "outputs": [],
   "source": [
    "#We will use our grid search function to find best parameters for randomforest.\n",
    "\n",
    "\n",
    "params_rf = {'n_estimators': [25,50,100,150,200,225,250],\n",
    "            'criterion':['mse','mae'],\n",
    "            'min_samples_split':[2,5,8,10,20,40,100],\n",
    "            'min_samples_leaf':[1,5,10,15,25,50,100],\n",
    "            'bootstrap':[True,False]\n",
    "                 }"
   ]
  },
  {
   "cell_type": "code",
   "execution_count": null,
   "metadata": {},
   "outputs": [],
   "source": [
    "# #Creating train and test split for grid search\n",
    "# x = model_data.drop('price',axis = 1)\n",
    "# y = model_data.price\n",
    "# x_train,x_test,y_train,y_test = train_test_split(x,y,test_size = 0.2,random_state = 6)\n",
    "# best_param_rf = grid_search(RandomForestRegressor(),x = x_train, y = y_train,params = params_rf,cv = 5,verbose = 1)\n",
    "# best_param_rf"
   ]
  },
  {
   "cell_type": "code",
   "execution_count": null,
   "metadata": {},
   "outputs": [],
   "source": [
    "best_param_rf = {'bootstrap': True,\n",
    " 'criterion': 'mse',\n",
    " 'min_samples_leaf': 1,\n",
    " 'min_samples_split': 2,\n",
    " 'n_estimators': 225}"
   ]
  },
  {
   "cell_type": "code",
   "execution_count": null,
   "metadata": {},
   "outputs": [],
   "source": [
    "#Trying RandomForestRegressor\n",
    "from sklearn.ensemble import RandomForestRegressor\n",
    "non_linear_models(model_data,RandomForestRegressor(bootstrap = best_param_rf['bootstrap'],criterion = best_param_rf['criterion'],min_samples_leaf = best_param_rf['min_samples_leaf'],min_samples_split = best_param_rf['min_samples_split'],n_estimators = best_param_rf['n_estimators']))\n",
    "#RandomForestRegressor is overfitting the data since we are getting a very high r2_score.\n",
    "#We can try hyperparameter tuning to try to reduce this problem."
   ]
  },
  {
   "cell_type": "code",
   "execution_count": null,
   "metadata": {},
   "outputs": [],
   "source": [
    "#Apply cross validation on random forest to see if there is any change. (Currently the model is overfitting.)"
   ]
  },
  {
   "cell_type": "code",
   "execution_count": null,
   "metadata": {},
   "outputs": [],
   "source": [
    "#Creating a function for cross val score.\n",
    "def cross_val(estimator,X,y,cv,verbose = 0):\n",
    "    from sklearn.model_selection import cross_val_score\n",
    "    s = cross_val_score(estimator = estimator,X = X,y = y,cv = cv,verbose = verbose)\n",
    "    print(\"Min Cross_val_score:\",min(s))\n",
    "    print(\"Max Cross_val_score:\",max(s))\n",
    "    print(\"Average Cross_val_score:\",np.mean(s))"
   ]
  },
  {
   "cell_type": "code",
   "execution_count": null,
   "metadata": {},
   "outputs": [],
   "source": [
    "cross_val(estimator = RandomForestRegressor(bootstrap = True,criterion = 'mse',min_samples_leaf = 1,min_samples_split = 2,n_estimators = 225),X = x_train,y = y_train,cv = 5)\n",
    "#On the train data when we apply cross validation, we get below mean score. \n",
    "#This is inline with the test r2_score that we are getting above."
   ]
  },
  {
   "attachments": {
    "image.png": {
     "image/png": "[encoded data removed]"
    }
   },
   "cell_type": "markdown",
   "metadata": {},
   "source": [
    "### Adaboost (Adaptive Boosting):\n",
    "\n",
    "* Adaboost introduces the concept of weights into decision trees and random forests and is moving towards deep learning approaches.\n",
    "* Adaboost combines a lot of week learners to make classifications.\n",
    "* Some learners(tree stumps) get more say than others.\n",
    "* Each stump is made by taking the previous stumps mistakes into account.\n",
    "* At the start weights = (1/N (number of rows))\n",
    "* Classification is checked for each feature and correct and incorrect classifications are obtained.\n",
    "* Gini Index determines which stump will come first. Each stump is made of one feature. Lower gini index means feature will be the first stump.\n",
    "* Total error = Sum of weights of correctly classified samples. (0-1). Lower is better.\n",
    "* Amount of say (alpha):\n",
    "![image.png](attachment:image.png)"
   ]
  },
  {
   "attachments": {
    "image.png": {
     "image/png": "[encoded data removed]"
    }
   },
   "cell_type": "markdown",
   "metadata": {},
   "source": [
    "* **In below diagram negative means it will reverse the classification output to make the incorrect classification correct. If error is 0.5, amount of say is 0.**\n",
    "\n",
    "![image.png](attachment:image.png)\n",
    "\n",
    "* The new sample weight = old sample weight * e^amount of say."
   ]
  },
  {
   "attachments": {
    "image.png": {
     "image/png": "[encoded data removed]"
    }
   },
   "cell_type": "markdown",
   "metadata": {},
   "source": [
    "* Next we will decrease the sample weights = sample weight * e^-amount of say. This is done to improve performance.\n",
    "![image.png](attachment:image.png)\n",
    "* After we have found the sample weight we will make this the new weights for the correct and incorrect classifications and normalize them. These weights will now be used for the next stump. To create a new collection of samples and get rid of the old samples."
   ]
  },
  {
   "cell_type": "code",
   "execution_count": null,
   "metadata": {},
   "outputs": [],
   "source": [
    "from sklearn.ensemble import AdaBoostRegressor\n",
    "non_linear_models(model_data,AdaBoostRegressor())\n",
    "#Adaboost model without tuning seems to have reduced the gap between the train and the test RMSE by 0.4 basis pts."
   ]
  },
  {
   "cell_type": "code",
   "execution_count": null,
   "metadata": {},
   "outputs": [],
   "source": [
    "best_param_rf = {'bootstrap': True,\n",
    " 'criterion': 'mse',\n",
    " 'min_samples_leaf': 1,\n",
    " 'min_samples_split': 2,\n",
    " 'n_estimators': 225}"
   ]
  },
  {
   "cell_type": "code",
   "execution_count": null,
   "metadata": {},
   "outputs": [],
   "source": [
    "# # dt = DecisionTreeRegressor(criterion = best_param_dt['criterion'],\n",
    "# #                                                    min_samples_leaf = best_param_dt['min_samples_leaf'],\n",
    "# #                                                    min_samples_split = best_param_dt['min_samples_split'])\n",
    "\n",
    "# rf = RandomForestRegressor(bootstrap = best_param_rf['bootstrap'],\n",
    "#                            criterion = best_param_rf['criterion'],\n",
    "#                            min_samples_leaf = best_param_rf['min_samples_leaf'],\n",
    "#                            min_samples_split = best_param_rf['min_samples_split'],\n",
    "#                            n_estimators = best_param_rf['n_estimators'])\n",
    "\n",
    "# params_abr = {\n",
    "#     'base_estimator':[rf],\n",
    "#     'n_estimators': [25,50,100,150],\n",
    "#     'learning_rate':[0.1,0.5,1.0,1.5,2],\n",
    "# }\n",
    "\n",
    "# best_param_abr = grid_search(model = AdaBoostRegressor(),x = x_train,y = y_train,params = params_abr,cv = 5,verbose = 2)\n",
    "# best_param_abr"
   ]
  },
  {
   "cell_type": "code",
   "execution_count": null,
   "metadata": {},
   "outputs": [],
   "source": [
    "#RandomForestRegressor(n_estimators=225)\n",
    "best_param_abr = {'base_estimator': DecisionTreeRegressor(),\n",
    " 'learning_rate': 1.0,\n",
    " 'n_estimators': 100}"
   ]
  },
  {
   "cell_type": "code",
   "execution_count": null,
   "metadata": {},
   "outputs": [],
   "source": [
    "non_linear_models(model_data,AdaBoostRegressor(base_estimator = best_param_abr['base_estimator'],\n",
    "                                               n_estimators = best_param_abr['n_estimators'],\n",
    "                                               learning_rate = best_param_abr['learning_rate']))"
   ]
  },
  {
   "cell_type": "markdown",
   "metadata": {},
   "source": [
    "###### Since not all classifiers are considered equal and weights are playing a significant role, we have been able to increase our test score to 90% in this case. However I still feel the model is overfitting because our train score is 99% and testRMSE is grater than train RMSE. It took around 2.5 hours on my system to run the grid search!!!!"
   ]
  },
  {
   "cell_type": "code",
   "execution_count": null,
   "metadata": {
    "scrolled": true
   },
   "outputs": [],
   "source": [
    "#Applying cross validation score\n",
    "best_abr = AdaBoostRegressor(base_estimator = best_param_abr['base_estimator'],\n",
    "                                               n_estimators = best_param_abr['n_estimators'],\n",
    "                                               learning_rate = best_param_abr['learning_rate'])\n",
    "cross_val(estimator = best_abr,X = x_train,y = y_train,cv = 5,verbose = 2)"
   ]
  },
  {
   "cell_type": "markdown",
   "metadata": {},
   "source": [
    "###### Adaboost seems to be overfitting on my dataset at this instance. I would look at gradient boosting next. Where along with weights we are also reducing the error using gradient descent."
   ]
  },
  {
   "cell_type": "markdown",
   "metadata": {},
   "source": [
    "### GradientBoosting"
   ]
  },
  {
   "cell_type": "code",
   "execution_count": null,
   "metadata": {},
   "outputs": [],
   "source": [
    "from sklearn.ensemble import GradientBoostingRegressor\n",
    "non_linear_models(data = model_data,model = GradientBoostingRegressor())\n",
    "#Without applying any kind of parameter tuning, GradientBoosting is performing very well."
   ]
  },
  {
   "cell_type": "code",
   "execution_count": null,
   "metadata": {},
   "outputs": [],
   "source": [
    "params_gbr = {\n",
    "        'learning_rate': [0.001,0.01,0.05,0.1,0.5,1,1.5,2],\n",
    "        'n_estimators': [50,100,150,200,250,300],\n",
    "        'min_samples_leaf': [8,10,15,20,25,32],\n",
    "        'min_samples_split':[100,150,200,250],\n",
    "        'max_depth':[5,6,7,8],\n",
    "        'subsample':[0.1,0.5,0.8,1]\n",
    "}"
   ]
  },
  {
   "cell_type": "code",
   "execution_count": null,
   "metadata": {
    "scrolled": true
   },
   "outputs": [],
   "source": [
    "# gbr_best = grid_search(model = GradientBoostingRegressor(),\n",
    "#             x = x_train,\n",
    "#             y = y_train,\n",
    "#             params = params_gbr,\n",
    "#             cv = 5,\n",
    "#             verbose = 3,\n",
    "#             n_jobs = 4\n",
    "#            )\n",
    "# gbr_best"
   ]
  },
  {
   "cell_type": "code",
   "execution_count": null,
   "metadata": {},
   "outputs": [],
   "source": [
    "gbr_best = {'learning_rate': 0.1,\n",
    " 'max_depth': 8,\n",
    " 'min_samples_leaf': 8,\n",
    " 'min_samples_split': 100,\n",
    " 'n_estimators': 300,\n",
    " 'subsample': 0.8}"
   ]
  },
  {
   "cell_type": "code",
   "execution_count": null,
   "metadata": {},
   "outputs": [],
   "source": [
    "non_linear_models(data = model_data,\n",
    "                  model = GradientBoostingRegressor(\n",
    "                      learning_rate = gbr_best['learning_rate'],\n",
    "                      n_estimators = gbr_best['n_estimators'],\n",
    "                      min_samples_leaf = gbr_best['min_samples_leaf'],\n",
    "                      min_samples_split = gbr_best['min_samples_split'],\n",
    "                      max_depth = gbr_best['max_depth'],\n",
    "                      subsample = gbr_best['subsample']\n",
    "                  ))\n"
   ]
  },
  {
   "cell_type": "markdown",
   "metadata": {},
   "source": [
    "###### There is a slight reduction in the train score which tells me that gradient boosting has introduced some bias and reduced overfitting."
   ]
  },
  {
   "cell_type": "code",
   "execution_count": null,
   "metadata": {},
   "outputs": [],
   "source": [
    "gbr_model = GradientBoostingRegressor(\n",
    "                      learning_rate = gbr_best['learning_rate'],\n",
    "                      n_estimators = gbr_best['n_estimators'],\n",
    "                      min_samples_leaf = gbr_best['min_samples_leaf'],\n",
    "                      min_samples_split = gbr_best['min_samples_split'],\n",
    "                      max_depth = gbr_best['max_depth'],\n",
    "                      subsample = gbr_best['subsample']\n",
    "                  )\n",
    "gbr_model.fit(x_train,y_train)\n",
    "train_pred = gbr_model.predict(x_train)\n",
    "test_pred = gbr_model.predict(x_test)"
   ]
  },
  {
   "cell_type": "code",
   "execution_count": null,
   "metadata": {},
   "outputs": [],
   "source": [
    "metrics(y = y_train,ypred = train_pred,model_name = 'GradientBoostRegressor train')"
   ]
  },
  {
   "cell_type": "code",
   "execution_count": null,
   "metadata": {},
   "outputs": [],
   "source": [
    "metrics(y = y_test,ypred = test_pred,model_name = 'GradientBoostRegressor test')"
   ]
  },
  {
   "cell_type": "code",
   "execution_count": null,
   "metadata": {},
   "outputs": [],
   "source": [
    "#Apply cross_val_score on entire dataset.\n",
    "# cross_val(estimator = gbr_model,X = x,y = y,cv = 15,verbose = 1)"
   ]
  },
  {
   "cell_type": "code",
   "execution_count": null,
   "metadata": {},
   "outputs": [],
   "source": [
    "#Saving this model\n",
    "import pickle\n",
    "filename = 'gbrmodel.pickle'\n",
    "pickle.dump(obj = gbr_model,file = open('Saved Models/'+filename,'wb'))"
   ]
  },
  {
   "cell_type": "markdown",
   "metadata": {},
   "source": [
    "### XGBoost"
   ]
  },
  {
   "cell_type": "code",
   "execution_count": null,
   "metadata": {},
   "outputs": [],
   "source": [
    "import xgboost as xgb\n",
    "from xgboost import XGBRegressor"
   ]
  },
  {
   "cell_type": "code",
   "execution_count": null,
   "metadata": {},
   "outputs": [],
   "source": [
    "model_data.sample(5)"
   ]
  },
  {
   "cell_type": "code",
   "execution_count": null,
   "metadata": {
    "scrolled": true
   },
   "outputs": [],
   "source": [
    "reg_xgb = XGBRegressor()\n",
    "model_xgb = reg_xgb.fit(x_train,y_train,verbose = True,early_stopping_rounds = 20,eval_set = [(x_test,y_test)])"
   ]
  },
  {
   "cell_type": "code",
   "execution_count": null,
   "metadata": {},
   "outputs": [],
   "source": [
    "train_ypred = model_xgb.predict(x_train)\n",
    "metrics(y_train,train_ypred,model_name = 'train_xgbRegressor')\n",
    "\n",
    "test_ypred = model_xgb.predict(x_test)\n",
    "metrics(y_test,test_ypred,model_name = 'test_xgbRegressor')"
   ]
  },
  {
   "cell_type": "markdown",
   "metadata": {},
   "source": [
    "While the model is still overfitting. But the gap between train and test scores has reduced from gradientboost. Trying gridsearch to see if there is any improvement."
   ]
  },
  {
   "cell_type": "code",
   "execution_count": null,
   "metadata": {},
   "outputs": [],
   "source": [
    "xgb_params = {\n",
    "    'max_depth':[4,5,6],\n",
    "    'subsample': [0.7,0.8,0.9],\n",
    "    'n_estimators': list(range(150,300,50)),\n",
    "    'learning_rate': [0.07,0.1,0.5],\n",
    "    'colsample_bytree': [0.9]\n",
    "}"
   ]
  },
  {
   "cell_type": "code",
   "execution_count": null,
   "metadata": {},
   "outputs": [],
   "source": []
  },
  {
   "cell_type": "code",
   "execution_count": null,
   "metadata": {},
   "outputs": [],
   "source": [
    "xgb_best = grid_search(model = XGBRegressor(),x = x_train,y = y_train,params = xgb_params,cv = 5,verbose = 1,n_jobs = 6)\n",
    "xgb_best"
   ]
  },
  {
   "cell_type": "code",
   "execution_count": null,
   "metadata": {},
   "outputs": [],
   "source": [
    "# xgb_best = {'colsample_bytree': 0.9,\n",
    "#  'learning_rate': 0.1,\n",
    "#  'max_depth': 5,\n",
    "#  'n_estimators': 250,\n",
    "#  'subsample': 0.8}"
   ]
  },
  {
   "cell_type": "code",
   "execution_count": null,
   "metadata": {
    "scrolled": true
   },
   "outputs": [],
   "source": [
    "best_xgb = XGBRegressor(max_depth = xgb_best['max_depth'],\n",
    "                        subsample = xgb_best['subsample'],\n",
    "                        n_estimators = xgb_best['n_estimators'],\n",
    "                        learning_rate = xgb_best['learning_rate'],\n",
    "                        colsample_bytree = xgb_best['colsample_bytree'],\n",
    "                       random_state = 42)\n",
    "model_best = best_xgb.fit(x_train,y_train,verbose = False,early_stopping_rounds = 20,eval_set = [(x_test,y_test)])"
   ]
  },
  {
   "cell_type": "code",
   "execution_count": null,
   "metadata": {},
   "outputs": [],
   "source": []
  },
  {
   "cell_type": "code",
   "execution_count": null,
   "metadata": {},
   "outputs": [],
   "source": [
    "train_ypred1 = model_best.predict(x_train)\n",
    "metrics(y_train,train_ypred1,model_name = 'train_xgbRegressor')\n",
    "\n",
    "test_ypred1 = model_best.predict(x_test)\n",
    "metrics(y_test,test_ypred1,model_name = 'test_xgbRegressor')"
   ]
  },
  {
   "cell_type": "code",
   "execution_count": null,
   "metadata": {
    "scrolled": false
   },
   "outputs": [],
   "source": [
    "cross_val(estimator = best_xgb,X = x,y = y,cv = 8,verbose = 3)"
   ]
  },
  {
   "cell_type": "markdown",
   "metadata": {},
   "source": [
    "###### Saving the model"
   ]
  },
  {
   "cell_type": "code",
   "execution_count": null,
   "metadata": {},
   "outputs": [],
   "source": [
    "# #import pickle\n",
    "# filename = 'Saved Models/xgbmodel.model'\n",
    "# #pickle.dump(obj = best_xgb,file = open('Saved Models/'+filename,'wb'))\n",
    "# import joblib\n",
    "# #save model\n",
    "# joblib.dump(model_best, filename) \n",
    "\n",
    "# #load saved model\n",
    "# model = joblib.load(filename)"
   ]
  },
  {
   "cell_type": "markdown",
   "metadata": {},
   "source": [
    "###### Making predictions"
   ]
  },
  {
   "cell_type": "code",
   "execution_count": null,
   "metadata": {},
   "outputs": [],
   "source": [
    "# import pickle\n",
    "# model = pickle.load(open('C:/Users/tejas/Desktop/real-estate-price-prediction-end-to-end-project-with-deployment/Jupyter Notebooks/Saved Models/xgbmodel.pickle','rb'))"
   ]
  },
  {
   "cell_type": "markdown",
   "metadata": {},
   "source": [
    "###### Making predictions"
   ]
  },
  {
   "cell_type": "code",
   "execution_count": null,
   "metadata": {},
   "outputs": [],
   "source": [
    "def lat_long_gen(location):\n",
    "    import geopy\n",
    "    from geopy.geocoders import Nominatim\n",
    "    locator = Nominatim(user_agent=\"myGeocoder\")\n",
    "    locating = locator.geocode(location)\n",
    "    return locating.longitude,locating.latitude    "
   ]
  },
  {
   "cell_type": "code",
   "execution_count": null,
   "metadata": {},
   "outputs": [],
   "source": [
    "longitude,latitude = lat_long_gen('Colaba')"
   ]
  },
  {
   "cell_type": "code",
   "execution_count": null,
   "metadata": {},
   "outputs": [],
   "source": [
    "bathrooms = 3 \n",
    "BHK = 3#\n",
    "no_of_parking = 1\n",
    "area = 1400\n",
    "flat_floor_no = 7\n",
    "total_floors = 16\n",
    "Possession_Status_received = 1\n",
    "new_or_resale_Resale = 1\n",
    "furnishing_Semi_Furnished,furnishing_Unfurnished = [0,1]\n",
    "overlooking_other = 1\n",
    "config_Studio,config_apartment,config_other = [0,1,0]\n",
    "parking_type_open,parking_type_both = [1,0]"
   ]
  },
  {
   "cell_type": "code",
   "execution_count": null,
   "metadata": {},
   "outputs": [],
   "source": [
    "params = [bathrooms,BHK, no_of_parking, longitude, latitude,\n",
    "       np.log(area), np.log(flat_floor_no), np.log(total_floors),\n",
    "       Possession_Status_received, new_or_resale_Resale,\n",
    "       furnishing_Semi_Furnished, furnishing_Unfurnished,\n",
    "       overlooking_other, config_Studio, config_apartment,\n",
    "       config_other, parking_type_open, parking_type_both]\n",
    "\n",
    "col_names = ['bathrooms', 'BHK', 'no_of_parking', 'longitude', 'latitude',\n",
    "       'area_log', 'flat_floor_no_log', 'total_floors_log',\n",
    "       'Possession_Status_received', 'new_or_resale_Resale',\n",
    "       'furnishing_Semi-Furnished', 'furnishing_Unfurnished',\n",
    "       'overlooking_other', 'config_Studio', 'config_apartment',\n",
    "       'config_other', 'parking_type_Open', 'parking_type_both']\n",
    "\n",
    "data_to_predict = pd.DataFrame(params,index = col_names).T\n",
    "data_to_predict"
   ]
  },
  {
   "cell_type": "code",
   "execution_count": null,
   "metadata": {},
   "outputs": [],
   "source": []
  },
  {
   "cell_type": "code",
   "execution_count": null,
   "metadata": {},
   "outputs": [],
   "source": []
  },
  {
   "cell_type": "code",
   "execution_count": null,
   "metadata": {},
   "outputs": [],
   "source": []
  },
  {
   "cell_type": "code",
   "execution_count": null,
   "metadata": {},
   "outputs": [],
   "source": []
  },
  {
   "cell_type": "code",
   "execution_count": null,
   "metadata": {},
   "outputs": [],
   "source": []
  },
  {
   "cell_type": "code",
   "execution_count": null,
   "metadata": {},
   "outputs": [],
   "source": []
  },
  {
   "cell_type": "code",
   "execution_count": null,
   "metadata": {},
   "outputs": [],
   "source": []
  },
  {
   "cell_type": "code",
   "execution_count": null,
   "metadata": {},
   "outputs": [],
   "source": []
  }
 ],
 "metadata": {
  "kernelspec": {
   "display_name": "Python 3",
   "language": "python",
   "name": "python3"
  },
  "language_info": {
   "codemirror_mode": {
    "name": "ipython",
    "version": 3
   },
   "file_extension": ".py",
   "mimetype": "text/x-python",
   "name": "python",
   "nbconvert_exporter": "python",
   "pygments_lexer": "ipython3",
   "version": "3.7.4"
  }
 },
 "nbformat": 4,
 "nbformat_minor": 2
}
