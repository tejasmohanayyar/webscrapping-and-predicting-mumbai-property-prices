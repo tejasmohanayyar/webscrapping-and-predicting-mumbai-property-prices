{
 "cells": [
  {
   "cell_type": "markdown",
   "metadata": {},
   "source": [
    "## Predict the current Sale Price of a property in Mumbai\n",
    "\n",
    "###### Motivation for this project\n",
    "\n",
    "###### Challenges faced\n",
    "\n",
    "* **Location** column that was collected through webscrapping was in the form of a string list. 1st I removed the square brackets and then seperated by , to convert to a list. Then I extracted location and society name and created 2 new columns. Also while scrapping if in the entry there was no mention of society name then for last param of location we are getting carpet area. This could be solved by only considering the 1st value as location for any records having carpet area or super area.\n",
    "\n",
    "\n",
    "* **Floors** had nan values and I was not able to understand how to fill these values. I decided to drop these columns since we will be collecting data everyday and floor information is essential for the price.\n",
    "\n",
    "* **Parking** This column seemed to have many anomalies and also had mentions of open and closed parking. So I created 2 columns, 1 for the number of parking spaces and the other for the type of parking and checked whether either no. of parking or type of parking had any impact on price. I found the number of parking spaces has a higher impact on price than type of parking only when the number of parking spaces is more than one. There is not much difference in house price when no. of parking is 0 or 1.\n",
    "\n",
    "* **Location** This column according to my knowledge plays a significant role in the pricing of a property. Installing geppandas gave me some trouble however I was able to solve it by installing the library as administrator. I wanted to save whichever locations I have got the lat and long for since I did not want to call to geopy again and again for the same location. Latitude can be around 18 or 19 only and longitude around 72 or 73 degrees for Mumbai. Since not everyone puts generic location it becomes difficult to extract latitude and longitude. We are scaving such records into a seperate file called bad records and not discarding it. This allows us to check whether such a bad column ever occurs again reducing execution time.\n",
    "\n",
    "**These observations could change as we collect more data and it is esential for us to look into distributions and EDA everytime new data is added.**\n",
    "\n",
    "### Modelling Inferences:\n",
    "\n",
    "**Linear Regression**:\n",
    "\n",
    "* The initial Linear Regression model was giving is a poultry r2_score of 52%.\n",
    "* After performing the 5 tests of regresison we were able to get our score up to 73%. The main factor was performing log transform on the target variable that removed any heteroskedasticity present in the model. Although the model was still overfitting by about 6% (Difference between train and test r2_score).\n",
    "* Next we performed regularization techniques and were able to reduce the test and train r2_score difference to less than 3%. Next we could try some non-linear tree based approaches that maybe able to better generalze our model.\n",
    "------------------------------------------------------------------------------------------\n",
    "**Tree Based Models**:\n"
   ]
  },
  {
   "cell_type": "markdown",
   "metadata": {},
   "source": [
    "# Functions for plotting"
   ]
  },
  {
   "cell_type": "code",
   "execution_count": 1,
   "metadata": {},
   "outputs": [],
   "source": [
    "def box_plot(x,y,data):\n",
    "    import seaborn as sns\n",
    "    plt.figure(figsize = (15,6))\n",
    "    plt.title(x)\n",
    "    sns.boxplot(x = x,y = y, data = data)\n",
    "    plt.xticks(rotation = 90)\n",
    "    plt.tight_layout()\n",
    "    plt.show()"
   ]
  },
  {
   "cell_type": "code",
   "execution_count": 2,
   "metadata": {},
   "outputs": [],
   "source": [
    "def dis_plot(col,data):\n",
    "    import seaborn as sns\n",
    "    plt.figure(figsize = (15,6))\n",
    "    sns.displot(data = data,x = col)\n",
    "    plt.tight_layout()\n",
    "    plt.show()"
   ]
  },
  {
   "cell_type": "markdown",
   "metadata": {},
   "source": [
    "# Feature Engineering\n",
    "\n",
    "* Filling Missing values.\n",
    "* Combining certain values in columns to help the machine better generalize.\n",
    "* Creating new columns from existing columns like flat_type and BHK coming from the same column etc."
   ]
  },
  {
   "cell_type": "code",
   "execution_count": 3,
   "metadata": {},
   "outputs": [],
   "source": [
    "import pandas as pd\n",
    "import numpy as np\n",
    "import seaborn as sns\n",
    "import os\n",
    "import matplotlib.pyplot as plt\n",
    "import scipy.stats as stats"
   ]
  },
  {
   "cell_type": "code",
   "execution_count": 4,
   "metadata": {},
   "outputs": [],
   "source": [
    "#Location libraries\n",
    "import geopy\n",
    "from geopy.geocoders import Nominatim"
   ]
  },
  {
   "cell_type": "code",
   "execution_count": 5,
   "metadata": {},
   "outputs": [],
   "source": [
    "if len(os.listdir('Data'))<=2:\n",
    "    data = pd.read_csv('Data/scrapped.csv')\n",
    "else:\n",
    "    data = pd.read_csv('Data/'+os.listdir('Data')[-1])"
   ]
  },
  {
   "cell_type": "code",
   "execution_count": 6,
   "metadata": {},
   "outputs": [],
   "source": [
    "#Drop any duplicate values\n",
    "data.drop_duplicates(inplace = True)"
   ]
  },
  {
   "cell_type": "code",
   "execution_count": 7,
   "metadata": {},
   "outputs": [
    {
     "data": {
      "text/plain": [
       "(2088, 17)"
      ]
     },
     "execution_count": 7,
     "metadata": {},
     "output_type": "execute_result"
    }
   ],
   "source": [
    "data.shape"
   ]
  },
  {
   "cell_type": "markdown",
   "metadata": {},
   "source": [
    "## Handling the missing values"
   ]
  },
  {
   "cell_type": "code",
   "execution_count": 8,
   "metadata": {},
   "outputs": [],
   "source": [
    "# (data.isna().sum()/len(data)*100)[(data.isna().sum()/len(data)*100)!=0]"
   ]
  },
  {
   "cell_type": "code",
   "execution_count": 9,
   "metadata": {},
   "outputs": [],
   "source": [
    "#Drop the comments column\n",
    "f_data = data.drop('comments',axis = 1)"
   ]
  },
  {
   "cell_type": "code",
   "execution_count": 10,
   "metadata": {
    "scrolled": true
   },
   "outputs": [
    {
     "data": {
      "text/html": [
       "<div>\n",
       "<style scoped>\n",
       "    .dataframe tbody tr th:only-of-type {\n",
       "        vertical-align: middle;\n",
       "    }\n",
       "\n",
       "    .dataframe tbody tr th {\n",
       "        vertical-align: top;\n",
       "    }\n",
       "\n",
       "    .dataframe thead th {\n",
       "        text-align: right;\n",
       "    }\n",
       "</style>\n",
       "<table border=\"1\" class=\"dataframe\">\n",
       "  <thead>\n",
       "    <tr style=\"text-align: right;\">\n",
       "      <th></th>\n",
       "      <th>Area_Type</th>\n",
       "      <th>Possession_Status</th>\n",
       "      <th>Floors</th>\n",
       "      <th>new_or_resale</th>\n",
       "      <th>furnishing</th>\n",
       "      <th>society</th>\n",
       "      <th>bathrooms</th>\n",
       "      <th>advertiser_name</th>\n",
       "      <th>bhk</th>\n",
       "      <th>price</th>\n",
       "      <th>parking</th>\n",
       "      <th>location</th>\n",
       "      <th>date_of_posting</th>\n",
       "      <th>facing</th>\n",
       "      <th>overlooking</th>\n",
       "      <th>area</th>\n",
       "    </tr>\n",
       "  </thead>\n",
       "  <tbody>\n",
       "    <tr>\n",
       "      <th>0</th>\n",
       "      <td>super area</td>\n",
       "      <td>Ready to Move</td>\n",
       "      <td>NaN</td>\n",
       "      <td>New Property</td>\n",
       "      <td>Unfurnished</td>\n",
       "      <td>Jaswanti Woods</td>\n",
       "      <td>2.0</td>\n",
       "      <td>Ashray Sales Team</td>\n",
       "      <td>2 BHK Flat</td>\n",
       "      <td>₹ 1.32 Cr</td>\n",
       "      <td>1 Covered</td>\n",
       "      <td>['Jaswanti Woods,', 'in Mulund West']</td>\n",
       "      <td>Feb 05, '21</td>\n",
       "      <td>NaN</td>\n",
       "      <td>NaN</td>\n",
       "      <td>577 sqft</td>\n",
       "    </tr>\n",
       "    <tr>\n",
       "      <th>1</th>\n",
       "      <td>carpet area</td>\n",
       "      <td>Ready to Move</td>\n",
       "      <td>NaN</td>\n",
       "      <td>New Property</td>\n",
       "      <td>Unfurnished</td>\n",
       "      <td>Ekta Parksville</td>\n",
       "      <td>2.0</td>\n",
       "      <td>Ekta World</td>\n",
       "      <td>2 BHK Flat</td>\n",
       "      <td>₹ 50.7 Lac</td>\n",
       "      <td>1 Covered</td>\n",
       "      <td>['Ekta Parksville,', 'in Virar West']</td>\n",
       "      <td>Feb 05, '21</td>\n",
       "      <td>NaN</td>\n",
       "      <td>NaN</td>\n",
       "      <td>583 sqft</td>\n",
       "    </tr>\n",
       "    <tr>\n",
       "      <th>2</th>\n",
       "      <td>super area</td>\n",
       "      <td>Possession by Jun '24</td>\n",
       "      <td>NaN</td>\n",
       "      <td>New Property</td>\n",
       "      <td>Unfurnished</td>\n",
       "      <td>Terraform Dwarka</td>\n",
       "      <td>3.0</td>\n",
       "      <td>Terraform Realty</td>\n",
       "      <td>3 BHK Flat</td>\n",
       "      <td>₹ 3.04 Cr</td>\n",
       "      <td>1 Covered</td>\n",
       "      <td>['Terraform Dwarka,', 'in Ghatkopar East']</td>\n",
       "      <td>Feb 04, '21</td>\n",
       "      <td>NaN</td>\n",
       "      <td>NaN</td>\n",
       "      <td>945 sqft</td>\n",
       "    </tr>\n",
       "    <tr>\n",
       "      <th>3</th>\n",
       "      <td>carpet area</td>\n",
       "      <td>Possession by Jun '24</td>\n",
       "      <td>19 out of 23 floors</td>\n",
       "      <td>New Property</td>\n",
       "      <td>Unfurnished</td>\n",
       "      <td>GS 47th Avenue</td>\n",
       "      <td>2.0</td>\n",
       "      <td>GS GROUP</td>\n",
       "      <td>2 BHK Flat</td>\n",
       "      <td>₹ 1.10 Cr</td>\n",
       "      <td>NaN</td>\n",
       "      <td>['GS 47th Avenue,', 'in Vikhroli East']</td>\n",
       "      <td>Feb 05, '21</td>\n",
       "      <td>NaN</td>\n",
       "      <td>NaN</td>\n",
       "      <td>581 sqft</td>\n",
       "    </tr>\n",
       "    <tr>\n",
       "      <th>4</th>\n",
       "      <td>super area</td>\n",
       "      <td>Possession by Jun '24</td>\n",
       "      <td>NaN</td>\n",
       "      <td>New Property</td>\n",
       "      <td>Unfurnished</td>\n",
       "      <td>Terraform Dwarka</td>\n",
       "      <td>2.0</td>\n",
       "      <td>Terraform Realty</td>\n",
       "      <td>1 BHK Flat</td>\n",
       "      <td>₹ 1.25 Cr</td>\n",
       "      <td>1 Covered</td>\n",
       "      <td>['Terraform Dwarka,', 'in Ghatkopar East']</td>\n",
       "      <td>Jan 31, '21</td>\n",
       "      <td>NaN</td>\n",
       "      <td>NaN</td>\n",
       "      <td>377 sqft</td>\n",
       "    </tr>\n",
       "  </tbody>\n",
       "</table>\n",
       "</div>"
      ],
      "text/plain": [
       "     Area_Type      Possession_Status               Floors new_or_resale  \\\n",
       "0   super area          Ready to Move                  NaN  New Property   \n",
       "1  carpet area          Ready to Move                  NaN  New Property   \n",
       "2   super area  Possession by Jun '24                  NaN  New Property   \n",
       "3  carpet area  Possession by Jun '24  19 out of 23 floors  New Property   \n",
       "4   super area  Possession by Jun '24                  NaN  New Property   \n",
       "\n",
       "    furnishing           society  bathrooms    advertiser_name         bhk  \\\n",
       "0  Unfurnished    Jaswanti Woods        2.0  Ashray Sales Team  2 BHK Flat   \n",
       "1  Unfurnished   Ekta Parksville        2.0         Ekta World  2 BHK Flat   \n",
       "2  Unfurnished  Terraform Dwarka        3.0   Terraform Realty  3 BHK Flat   \n",
       "3  Unfurnished    GS 47th Avenue        2.0           GS GROUP  2 BHK Flat   \n",
       "4  Unfurnished  Terraform Dwarka        2.0   Terraform Realty  1 BHK Flat   \n",
       "\n",
       "        price    parking                                    location  \\\n",
       "0   ₹ 1.32 Cr  1 Covered       ['Jaswanti Woods,', 'in Mulund West']   \n",
       "1  ₹ 50.7 Lac  1 Covered       ['Ekta Parksville,', 'in Virar West']   \n",
       "2   ₹ 3.04 Cr  1 Covered  ['Terraform Dwarka,', 'in Ghatkopar East']   \n",
       "3   ₹ 1.10 Cr        NaN     ['GS 47th Avenue,', 'in Vikhroli East']   \n",
       "4   ₹ 1.25 Cr  1 Covered  ['Terraform Dwarka,', 'in Ghatkopar East']   \n",
       "\n",
       "  date_of_posting facing overlooking      area  \n",
       "0     Feb 05, '21    NaN         NaN  577 sqft  \n",
       "1     Feb 05, '21    NaN         NaN  583 sqft  \n",
       "2     Feb 04, '21    NaN         NaN  945 sqft  \n",
       "3     Feb 05, '21    NaN         NaN  581 sqft  \n",
       "4     Jan 31, '21    NaN         NaN  377 sqft  "
      ]
     },
     "execution_count": 10,
     "metadata": {},
     "output_type": "execute_result"
    }
   ],
   "source": [
    "f_data.head()"
   ]
  },
  {
   "cell_type": "code",
   "execution_count": 11,
   "metadata": {},
   "outputs": [],
   "source": [
    "#Handle the location column\n",
    "def replace_area_loc(x,i):\n",
    "    if x == 'carpet area' or x =='super area':\n",
    "        return d['society'][i]\n",
    "    else:\n",
    "        return d['location'][i]\n",
    "    \n",
    "\n",
    "first_val = [i.strip('][').split(',')[0].strip(\"''\") for i in data['location']]\n",
    "second_val = [i.strip('][').split(',')[-1].strip(\" '\") for i in data['location']]\n",
    "\n",
    "d = pd.DataFrame({'society':first_val,'location':second_val})\n",
    "loc = []\n",
    "for i in range(len(data['location'])):\n",
    "    if replace_area_loc(d['location'][i],i).split()[0] == 'in':\n",
    "        loc.append(replace_area_loc(d['location'][i],i)[3:])\n",
    "    else:\n",
    "        loc.append(replace_area_loc(d['location'][i],i))\n",
    "\n",
    "f_data['location'] = loc #Saving"
   ]
  },
  {
   "cell_type": "code",
   "execution_count": 12,
   "metadata": {},
   "outputs": [],
   "source": [
    "#drop society name since I do not consider it to be an important factor\n",
    "f_data.drop('society',axis = 1,inplace = True)"
   ]
  },
  {
   "cell_type": "code",
   "execution_count": 13,
   "metadata": {},
   "outputs": [],
   "source": [
    "# (f_data.isna().sum()/len(f_data)*100)[(f_data.isna().sum()/len(data)*100)!=0]"
   ]
  },
  {
   "cell_type": "code",
   "execution_count": 14,
   "metadata": {},
   "outputs": [],
   "source": [
    "#Furnishing is more likely to be unfurnished in my experience.\n",
    "f_data['furnishing'].fillna(f_data['furnishing'].mode().values[0],inplace = True)"
   ]
  },
  {
   "cell_type": "code",
   "execution_count": 15,
   "metadata": {},
   "outputs": [],
   "source": [
    "#From what I have observed on the site, usually when parking is not mentioned \n",
    "#it means that no parking is available with the listing. \n",
    "f_data['parking'].fillna('None',inplace = True)"
   ]
  },
  {
   "cell_type": "code",
   "execution_count": 16,
   "metadata": {},
   "outputs": [],
   "source": [
    "#Getting number of rooms in the house\n",
    "BHK = []\n",
    "for i in f_data['bhk']:\n",
    "    if len(i.split()[0].lower()) > 5:\n",
    "        BHK.append('1')\n",
    "    else:\n",
    "        BHK.append(i.split()[0])\n",
    "f_data['BHK'] = [int(i) for i in BHK]"
   ]
  },
  {
   "cell_type": "code",
   "execution_count": 17,
   "metadata": {},
   "outputs": [],
   "source": [
    "#Config of room (Apartment,Flat,Penthouse,Builder Floor,Studio etc.)\n",
    "config = []\n",
    "for i in f_data['bhk']:\n",
    "    if i.split()[0].lower() == 'studio':\n",
    "        config.append('Studio')\n",
    "    elif i.split()[-1].lower() == 'flat' or i.split()[-1].lower() == 'apartment':\n",
    "        config.append('apartment') \n",
    "    elif i.split()[-1].lower() == 'penthouse':\n",
    "        config.append(i.split()[-1]) \n",
    "    else:\n",
    "        config.append('other')\n",
    "f_data['config'] = config"
   ]
  },
  {
   "cell_type": "code",
   "execution_count": 18,
   "metadata": {},
   "outputs": [],
   "source": [
    "# (f_data.isna().sum()/len(f_data)*100)[(f_data.isna().sum()/len(data)*100)!=0]"
   ]
  },
  {
   "cell_type": "code",
   "execution_count": 19,
   "metadata": {},
   "outputs": [
    {
     "name": "stderr",
     "output_type": "stream",
     "text": [
      "C:\\Users\\tejas\\Anaconda3\\lib\\site-packages\\ipykernel_launcher.py:3: SettingWithCopyWarning: \n",
      "A value is trying to be set on a copy of a slice from a DataFrame\n",
      "\n",
      "See the caveats in the documentation: https://pandas.pydata.org/pandas-docs/stable/user_guide/indexing.html#returning-a-view-versus-a-copy\n",
      "  This is separate from the ipykernel package so we can avoid doing imports until\n"
     ]
    }
   ],
   "source": [
    "# imputation for bathroom feature\n",
    "for i in f_data[f_data['bathrooms'].isna()].index:\n",
    "    f_data['bathrooms'][i] = f_data['BHK'][i]"
   ]
  },
  {
   "cell_type": "code",
   "execution_count": 20,
   "metadata": {},
   "outputs": [],
   "source": [
    "#possession_status. Later we will be creating more columns using this column like\n",
    "#construction or ready to move, possession pending and create possession date column as well.\n",
    "f_data['Possession_Status'] = f_data['Possession_Status'].fillna('unavailable')"
   ]
  },
  {
   "cell_type": "code",
   "execution_count": 21,
   "metadata": {},
   "outputs": [],
   "source": [
    "#floors\n",
    "f_data = f_data.dropna(subset = ['Floors'])"
   ]
  },
  {
   "cell_type": "code",
   "execution_count": 22,
   "metadata": {},
   "outputs": [],
   "source": [
    "#overlooking\n",
    "f_data['overlooking'] = f_data['overlooking'].fillna(f_data['overlooking'].mode().values[0])"
   ]
  },
  {
   "cell_type": "code",
   "execution_count": 23,
   "metadata": {},
   "outputs": [],
   "source": [
    "#facing\n",
    "f_data['facing'] = f_data['facing'].fillna('None')"
   ]
  },
  {
   "cell_type": "code",
   "execution_count": 24,
   "metadata": {},
   "outputs": [],
   "source": [
    "#overlooking can be converted to main road or other\n",
    "f_data['overlooking'] = ['other' if i.lower() != 'main road' else 'main road' for i in f_data['overlooking']]"
   ]
  },
  {
   "cell_type": "markdown",
   "metadata": {},
   "source": [
    "###### Missing values have now been filled. Now let us further perform imputations on our columns."
   ]
  },
  {
   "cell_type": "code",
   "execution_count": 25,
   "metadata": {},
   "outputs": [],
   "source": [
    "#Checking Sqft column\n",
    "# First convert the sqft to a number by removing all non numeric figures and change dtype\n",
    "# Check if super area or carpet area. \n",
    "# If super area then change to carpet area. \n",
    "# Carpet area is 70% of super area according to magicbricks.\n",
    "l = []\n",
    "for i in f_data['area']:\n",
    "    try:\n",
    "        l.append(int(i[:-4].strip()))\n",
    "    except:\n",
    "        l.append(np.nan)\n",
    "f_data['area'] = l"
   ]
  },
  {
   "cell_type": "code",
   "execution_count": 26,
   "metadata": {},
   "outputs": [],
   "source": [
    "# Drop records having nan in area\n",
    "f_data = f_data.dropna(subset = ['area'])"
   ]
  },
  {
   "cell_type": "markdown",
   "metadata": {},
   "source": [
    "###### All missing values have now been handled"
   ]
  },
  {
   "cell_type": "code",
   "execution_count": 27,
   "metadata": {},
   "outputs": [],
   "source": [
    "#Drop the OG bhk,advertiser_name, column\n",
    "f_data = f_data.drop(['bhk','advertiser_name'],axis=1)\n",
    "f_data = f_data.reset_index(drop = True)"
   ]
  },
  {
   "cell_type": "code",
   "execution_count": 28,
   "metadata": {},
   "outputs": [
    {
     "name": "stderr",
     "output_type": "stream",
     "text": [
      "C:\\Users\\tejas\\Anaconda3\\lib\\site-packages\\ipykernel_launcher.py:4: SettingWithCopyWarning: \n",
      "A value is trying to be set on a copy of a slice from a DataFrame\n",
      "\n",
      "See the caveats in the documentation: https://pandas.pydata.org/pandas-docs/stable/user_guide/indexing.html#returning-a-view-versus-a-copy\n",
      "  after removing the cwd from sys.path.\n"
     ]
    }
   ],
   "source": [
    "#Converting super area to carpet\n",
    "for i in range(len(f_data)):\n",
    "    if f_data['Area_Type'][i] == 'super area':\n",
    "        f_data['area'][i] = round(0.7*f_data['area'][i])\n",
    "    else:\n",
    "        pass\n",
    "f_data = f_data.drop('Area_Type',axis = 1)"
   ]
  },
  {
   "cell_type": "code",
   "execution_count": 29,
   "metadata": {},
   "outputs": [],
   "source": [
    "#Convert Possession_Status to received and not received\n",
    "f_data['Possession_Status'] = ['received' if i.lower() == 'ready to move' else 'not received' for i in f_data['Possession_Status']]"
   ]
  },
  {
   "cell_type": "code",
   "execution_count": 30,
   "metadata": {},
   "outputs": [],
   "source": [
    "#Floors Create 2 columns flat_floor_no.,total_floors\n",
    "f_data['flat_floor_no.'] = f_data['Floors'].apply(lambda x: x.split()[0])\n",
    "\n",
    "total_floors = []\n",
    "for i in f_data['Floors']:\n",
    "    try:\n",
    "        total_floors.append(i.split()[-2])\n",
    "    except:\n",
    "        total_floors.append(np.nan)\n",
    "f_data['total_floors'] = total_floors\n",
    "f_data = f_data.drop('Floors',axis = 1).dropna(subset = ['total_floors'])"
   ]
  },
  {
   "cell_type": "code",
   "execution_count": 31,
   "metadata": {},
   "outputs": [],
   "source": [
    "#price. We will have to bring lacs and crores into one scale. So we will convert lac to crore.\n",
    "true_price = []\n",
    "for i in f_data['price']:\n",
    "    if i.split()[-1].lower() == 'lac':\n",
    "        true_price.append(round(float(i.split()[1])*0.01,2))\n",
    "    else:\n",
    "        true_price.append(float(i.split()[1]))\n",
    "f_data['price'] = true_price"
   ]
  },
  {
   "cell_type": "code",
   "execution_count": 32,
   "metadata": {},
   "outputs": [],
   "source": [
    "#1. Create a column for parking available\n",
    "first_extract_parking = [0 if len(i.split())==1 else int(i.split()[0]) for i in f_data['parking']]\n",
    "final_extract_parking = [i if i<10 else 1 for i in first_extract_parking]\n",
    "f_data['no_of_parking'] = final_extract_parking"
   ]
  },
  {
   "cell_type": "code",
   "execution_count": 33,
   "metadata": {},
   "outputs": [],
   "source": [
    "#2. Create a column as open,closed,both,none\n",
    "def parking_imputer(x):\n",
    "    if len(x.split())>2:\n",
    "        return 'both'\n",
    "    elif len(x.split())==2:\n",
    "        return x.split()[1]\n",
    "    else:\n",
    "        return 'Open'\n",
    "\n",
    "    \n",
    "f_data['parking_type'] = f_data['parking'].apply(parking_imputer)"
   ]
  },
  {
   "cell_type": "code",
   "execution_count": 34,
   "metadata": {},
   "outputs": [],
   "source": [
    "#Drop Parking column\n",
    "f_data = f_data.drop(['parking'],axis = 1)\n",
    "f_data = f_data.reset_index(drop = True)"
   ]
  },
  {
   "cell_type": "code",
   "execution_count": 35,
   "metadata": {},
   "outputs": [],
   "source": [
    "#Date column can be dropped at the time of modelling since date_of_posting has no relation with property price.\n",
    "#Hoever it can be used for analysis and to check modelling, trend and seasonality once we have an entire years data."
   ]
  },
  {
   "cell_type": "markdown",
   "metadata": {},
   "source": [
    "###### Handling the data types for each column"
   ]
  },
  {
   "cell_type": "code",
   "execution_count": 36,
   "metadata": {},
   "outputs": [],
   "source": [
    "#Converting total_floors from object to integer\n",
    "f_data['total_floors'] = f_data['total_floors'].astype(\"int64\")"
   ]
  },
  {
   "cell_type": "code",
   "execution_count": 37,
   "metadata": {},
   "outputs": [
    {
     "data": {
      "text/plain": [
       "array(['19', '41', '8', '7', '2', '1', '16', '28', '45', '20', '5', '13',\n",
       "       '9', '11', '22', '10', '12', '6', '26', '15', '14', '3', '33',\n",
       "       '18', '30', 'Ground', 'Upper', '17', '24', '4', '35', '36', '27',\n",
       "       '25', 'Lower', '23', '42', '37', '39', '21', '32', '50', '46',\n",
       "       '29', '34', '31', '44', '40', '59', '48', '38'], dtype=object)"
      ]
     },
     "execution_count": 37,
     "metadata": {},
     "output_type": "execute_result"
    }
   ],
   "source": [
    "#Checking flat_floor_no to see what anomalies are present.\n",
    "f_data['flat_floor_no.'].unique()"
   ]
  },
  {
   "cell_type": "code",
   "execution_count": 38,
   "metadata": {},
   "outputs": [],
   "source": [
    "def flat_flr_no_impute(x):\n",
    "    if x.lower().strip()=='ground':\n",
    "        return 1\n",
    "    else:\n",
    "        return x\n",
    "f_data['flat_floor_no.'] = f_data['flat_floor_no.'].apply(flat_flr_no_impute)"
   ]
  },
  {
   "cell_type": "code",
   "execution_count": 39,
   "metadata": {},
   "outputs": [
    {
     "name": "stderr",
     "output_type": "stream",
     "text": [
      "C:\\Users\\tejas\\Anaconda3\\lib\\site-packages\\ipykernel_launcher.py:8: SettingWithCopyWarning: \n",
      "A value is trying to be set on a copy of a slice from a DataFrame\n",
      "\n",
      "See the caveats in the documentation: https://pandas.pydata.org/pandas-docs/stable/user_guide/indexing.html#returning-a-view-versus-a-copy\n",
      "  \n",
      "C:\\Users\\tejas\\Anaconda3\\lib\\site-packages\\ipykernel_launcher.py:6: SettingWithCopyWarning: \n",
      "A value is trying to be set on a copy of a slice from a DataFrame\n",
      "\n",
      "See the caveats in the documentation: https://pandas.pydata.org/pandas-docs/stable/user_guide/indexing.html#returning-a-view-versus-a-copy\n",
      "  \n"
     ]
    }
   ],
   "source": [
    "#Convert Ground to 1, 'Lower' to 0.2*total_floors, and 'Upper' as 0.7*total_floors\n",
    "\n",
    "#For lower and upper exact floor number is not given. We can take 20% of total floors for lower, and 70% of total floors for upper\n",
    "for i in range(len(f_data)):\n",
    "    if f_data['flat_floor_no.'][i] == 'Lower':\n",
    "        f_data['flat_floor_no.'][i] = round(f_data['total_floors'][i]*0.2)\n",
    "    elif f_data['flat_floor_no.'][i] == 'Upper':\n",
    "        f_data['flat_floor_no.'][i] = round(f_data['total_floors'][i]*0.7)\n",
    "    else:\n",
    "        pass\n",
    "f_data['flat_floor_no.'] = f_data['flat_floor_no.'].astype(\"int64\")"
   ]
  },
  {
   "cell_type": "code",
   "execution_count": 40,
   "metadata": {
    "scrolled": true
   },
   "outputs": [],
   "source": [
    "#Create a dictionary that would contain the location data so that we dont have to call geopy again and again\n",
    "def location_convert(base_location,loc_path,loc_col):\n",
    "    import pandas as pd\n",
    "    bad_l = pd.read_csv('locations/Bad locations/latest_bad_loc.csv')['location'].unique()\n",
    "    try:\n",
    "        import json\n",
    "        #If directory not present\n",
    "        if 'location.json' not in os.listdir('locations'):\n",
    "            open(loc_path,mode = 'w')\n",
    "        else:\n",
    "            pass\n",
    "\n",
    "        \n",
    "        locator = Nominatim(user_agent=\"myGeocoder\") #Assigning the user agent or API for the locations\n",
    "        base_location = base_location+',' #Adding comma so that we get Mumbai,Andheri East for example.\n",
    "        \n",
    "        with open(loc_path) as loc_input: \n",
    "            location_dict = json.load(loc_input) #Loading the json file from directory.\n",
    "\n",
    "        error_vals = [] #For the values in this list, geopy failed to load latitude and longitude data.\n",
    "        \n",
    "    #Looping over all values in dataset and if not present in location_dict then using geopy to get lat and long\n",
    "        for i in loc_col:\n",
    "            try:\n",
    "                if i not in location_dict.keys():\n",
    "                    if i not in bad_l:\n",
    "                        locating = locator.geocode(base_location+i)\n",
    "                        location_dict.setdefault(i,(locating.latitude,locating.longitude))\n",
    "                else:\n",
    "                    pass\n",
    "            except Exception as e:\n",
    "                print(e)\n",
    "                error_vals.append(i)\n",
    "\n",
    "\n",
    "        #Saving dictionary as a local json   \n",
    "        json.dumps(location_dict) #To create a json file of our dictionary.\n",
    "        with open(loc_path,mode='w') as output:\n",
    "            json.dump(location_dict,output)\n",
    "        return location_dict,error_vals\n",
    "    except:\n",
    "        print(\"The location is not receiving any geocode from geopy. Check location value\")"
   ]
  },
  {
   "cell_type": "code",
   "execution_count": 41,
   "metadata": {
    "scrolled": true
   },
   "outputs": [],
   "source": [
    "location_dict,error_vals = location_convert(base_location = 'Mumbai',loc_path = r'locations/location.json',loc_col = f_data['location'].unique())"
   ]
  },
  {
   "cell_type": "code",
   "execution_count": 42,
   "metadata": {},
   "outputs": [],
   "source": [
    "#Getting latitude and longitude from dictionary\n",
    "def mapping_latitude(x):\n",
    "    try:\n",
    "        return location_dict[x][0]\n",
    "    except:\n",
    "        return np.nan\n",
    "    \n",
    "def mapping_longitude(x):\n",
    "    import numpy as np\n",
    "    try:\n",
    "        return location_dict[x][1]\n",
    "    except:\n",
    "        return np.nan\n",
    "    \n",
    "f_data['longitude'] = f_data['location'].apply(mapping_longitude) #Mapping longitude values to new column\n",
    "f_data['latitude'] = f_data['location'].apply(mapping_latitude)   #Mapping latitude values to new column"
   ]
  },
  {
   "cell_type": "code",
   "execution_count": 43,
   "metadata": {},
   "outputs": [],
   "source": [
    "#Create a csv file for all records that were not mapped as bad records\n",
    "bad_data = f_data[((f_data['longitude'].isna()) | (f_data['latitude'].isna()) | (f_data['longitude']<0) | (f_data['latitude']<0)| (f_data['longitude']>75) | (f_data['latitude']<18))]\n",
    "if len(os.listdir('Locations/Bad locations'))==0:\n",
    "    bad_data.to_csv('Locations/Bad locations/badloc.csv',index = False)\n",
    "else:\n",
    "    og_bad = pd.read_csv('Locations/Bad locations/badloc.csv')\n",
    "    pd.concat((bad_data,og_bad)).to_csv('Locations/Bad locations/latest_bad_loc.csv',index = False)"
   ]
  },
  {
   "cell_type": "code",
   "execution_count": 44,
   "metadata": {},
   "outputs": [],
   "source": [
    "f_data = f_data[~((f_data['longitude'].isna()) | (f_data['latitude'].isna()) | (f_data['longitude']<0) | (f_data['latitude']<0) | (f_data['longitude']>75) | (f_data['latitude']<18) )]"
   ]
  },
  {
   "cell_type": "code",
   "execution_count": 45,
   "metadata": {},
   "outputs": [],
   "source": [
    "#Dropping the location column since it latitude and longitude will work for machine and also dropping any nan values.\n",
    "f_data = f_data.drop('location',axis = 1).dropna()"
   ]
  },
  {
   "cell_type": "markdown",
   "metadata": {},
   "source": [
    "# Exploratory Data Analysis for feature manipulation"
   ]
  },
  {
   "cell_type": "markdown",
   "metadata": {},
   "source": [
    "### Univariate Analysis"
   ]
  },
  {
   "cell_type": "code",
   "execution_count": 46,
   "metadata": {},
   "outputs": [
    {
     "name": "stdout",
     "output_type": "stream",
     "text": [
      "<class 'pandas.core.frame.DataFrame'>\n",
      "Int64Index: 1583 entries, 0 to 1901\n",
      "Data columns (total 17 columns):\n",
      " #   Column             Non-Null Count  Dtype  \n",
      "---  ------             --------------  -----  \n",
      " 0   Possession_Status  1583 non-null   object \n",
      " 1   new_or_resale      1583 non-null   object \n",
      " 2   furnishing         1583 non-null   object \n",
      " 3   bathrooms          1583 non-null   float64\n",
      " 4   price              1583 non-null   float64\n",
      " 5   date_of_posting    1583 non-null   object \n",
      " 6   facing             1583 non-null   object \n",
      " 7   overlooking        1583 non-null   object \n",
      " 8   area               1583 non-null   float64\n",
      " 9   BHK                1583 non-null   int64  \n",
      " 10  config             1583 non-null   object \n",
      " 11  flat_floor_no.     1583 non-null   int64  \n",
      " 12  total_floors       1583 non-null   int64  \n",
      " 13  no_of_parking      1583 non-null   int64  \n",
      " 14  parking_type       1583 non-null   object \n",
      " 15  longitude          1583 non-null   float64\n",
      " 16  latitude           1583 non-null   float64\n",
      "dtypes: float64(5), int64(4), object(8)\n",
      "memory usage: 222.6+ KB\n"
     ]
    }
   ],
   "source": [
    "f_data.info()"
   ]
  },
  {
   "cell_type": "code",
   "execution_count": 47,
   "metadata": {},
   "outputs": [
    {
     "data": {
      "image/png": "[encoded data removed]",
      "text/plain": [
       "<Figure size 1080x864 with 9 Axes>"
      ]
     },
     "metadata": {
      "needs_background": "light"
     },
     "output_type": "display_data"
    }
   ],
   "source": [
    "#Plotting distributions\n",
    "import warnings\n",
    "warnings.simplefilter('ignore')\n",
    "fig,ax = plt.subplots(nrows = 3,ncols = 3,figsize = (15,12))\n",
    "for variables,plotsubs in zip(f_data.select_dtypes(np.number).columns,ax.flatten()):\n",
    "    sns.distplot(a = f_data[variables],ax = plotsubs)\n",
    "    plt.tight_layout()\n",
    "plt.show()\n",
    "#A lot of our numerical columns are psitively skewed. We could apply log or boxcox transformation on these columns."
   ]
  },
  {
   "cell_type": "code",
   "execution_count": 48,
   "metadata": {},
   "outputs": [],
   "source": [
    "#Log transformation seems to be a good option for area,flat_floor_no.,total_floors.\n",
    "f_data['area_log'] = np.log(f_data['area'])\n",
    "f_data['flat_floor_no_log'] = np.log(f_data['flat_floor_no.'])\n",
    "f_data['total_floors_log'] = np.log(f_data['total_floors'])"
   ]
  },
  {
   "cell_type": "code",
   "execution_count": 49,
   "metadata": {},
   "outputs": [
    {
     "data": {
      "image/png": "[encoded data removed]",
      "text/plain": [
       "<Figure size 1080x216 with 3 Axes>"
      ]
     },
     "metadata": {
      "needs_background": "light"
     },
     "output_type": "display_data"
    }
   ],
   "source": [
    "import warnings\n",
    "warnings.simplefilter('ignore')\n",
    "fig,ax = plt.subplots(nrows = 1,ncols = 3,figsize = (15,3))\n",
    "for variables,plotsubs in zip(f_data.select_dtypes(np.number)[['area_log','flat_floor_no_log','total_floors_log']].columns,ax.flatten()):\n",
    "    sns.distplot(a = f_data[variables],ax = plotsubs)\n",
    "    plt.tight_layout()\n",
    "plt.show()\n",
    "#Now we can see that all our skewed variables are now showing a more normal distribution."
   ]
  },
  {
   "cell_type": "code",
   "execution_count": 50,
   "metadata": {},
   "outputs": [
    {
     "data": {
      "text/plain": [
       "Index(['Possession_Status', 'new_or_resale', 'furnishing', 'bathrooms',\n",
       "       'price', 'date_of_posting', 'facing', 'overlooking', 'area', 'BHK',\n",
       "       'config', 'flat_floor_no.', 'total_floors', 'no_of_parking',\n",
       "       'parking_type', 'longitude', 'latitude', 'area_log',\n",
       "       'flat_floor_no_log', 'total_floors_log'],\n",
       "      dtype='object')"
      ]
     },
     "execution_count": 50,
     "metadata": {},
     "output_type": "execute_result"
    }
   ],
   "source": [
    "f_data.columns"
   ]
  },
  {
   "cell_type": "code",
   "execution_count": 51,
   "metadata": {},
   "outputs": [
    {
     "data": {
      "image/png": "[encoded data removed]",
      "text/plain": [
       "<Figure size 432x288 with 1 Axes>"
      ]
     },
     "metadata": {
      "needs_background": "light"
     },
     "output_type": "display_data"
    },
    {
     "data": {
      "image/png": "[encoded data removed]",
      "text/plain": [
       "<Figure size 432x288 with 1 Axes>"
      ]
     },
     "metadata": {
      "needs_background": "light"
     },
     "output_type": "display_data"
    },
    {
     "data": {
      "image/png": "[encoded data removed]",
      "text/plain": [
       "<Figure size 432x288 with 1 Axes>"
      ]
     },
     "metadata": {
      "needs_background": "light"
     },
     "output_type": "display_data"
    },
    {
     "data": {
      "image/png": "[encoded data removed]",
      "text/plain": [
       "<Figure size 432x288 with 1 Axes>"
      ]
     },
     "metadata": {
      "needs_background": "light"
     },
     "output_type": "display_data"
    },
    {
     "data": {
      "image/png": "[encoded data removed]",
      "text/plain": [
       "<Figure size 432x288 with 1 Axes>"
      ]
     },
     "metadata": {
      "needs_background": "light"
     },
     "output_type": "display_data"
    },
    {
     "data": {
      "image/png": "[encoded data removed]",
      "text/plain": [
       "<Figure size 432x288 with 1 Axes>"
      ]
     },
     "metadata": {
      "needs_background": "light"
     },
     "output_type": "display_data"
    },
    {
     "data": {
      "image/png": "[encoded data removed]",
      "text/plain": [
       "<Figure size 432x288 with 1 Axes>"
      ]
     },
     "metadata": {
      "needs_background": "light"
     },
     "output_type": "display_data"
    }
   ],
   "source": [
    "#Univariate analysis of categorical variables.\n",
    "for i in f_data[['Possession_Status', 'new_or_resale', 'furnishing','facing', 'overlooking','config','parking_type']].columns:\n",
    "    f_data.groupby(i)[i].count().sort_values().plot(kind = 'barh')\n",
    "    plt.show()"
   ]
  },
  {
   "cell_type": "markdown",
   "metadata": {},
   "source": [
    "###### Once data for entire year is collected we can use the date posted column as well to check trends in the market."
   ]
  },
  {
   "cell_type": "markdown",
   "metadata": {},
   "source": [
    "###### Inferences from first collection of data\n",
    "* There are more properties listed on magicbricks that have received possession than properties that have not.\n",
    "* More resale properties are available on the market compared to newer projects.\n",
    "* More houses are east facing which is known to be good auspiciously. This is an India specific sentiment.\n",
    "* There as many property that face the main road as property that don't face the main road.\n",
    "* There are more properties having open parking than covered parking.\n",
    "* Price is almost always skewed in any dataset that we see. The same is true even in this webscrapped dataset."
   ]
  },
  {
   "cell_type": "markdown",
   "metadata": {},
   "source": [
    "### Bivariate Analysis"
   ]
  },
  {
   "cell_type": "code",
   "execution_count": 52,
   "metadata": {},
   "outputs": [
    {
     "data": {
      "image/png": "[encoded data removed]",
      "text/plain": [
       "<Figure size 1080x432 with 1 Axes>"
      ]
     },
     "metadata": {
      "needs_background": "light"
     },
     "output_type": "display_data"
    },
    {
     "data": {
      "image/png": "[encoded data removed]",
      "text/plain": [
       "<Figure size 1080x432 with 1 Axes>"
      ]
     },
     "metadata": {
      "needs_background": "light"
     },
     "output_type": "display_data"
    },
    {
     "data": {
      "image/png": "[encoded data removed]",
      "text/plain": [
       "<Figure size 1080x432 with 1 Axes>"
      ]
     },
     "metadata": {
      "needs_background": "light"
     },
     "output_type": "display_data"
    },
    {
     "data": {
      "image/png": "[encoded data removed]",
      "text/plain": [
       "<Figure size 1080x432 with 1 Axes>"
      ]
     },
     "metadata": {
      "needs_background": "light"
     },
     "output_type": "display_data"
    },
    {
     "data": {
      "image/png": "[encoded data removed]",
      "text/plain": [
       "<Figure size 1080x432 with 1 Axes>"
      ]
     },
     "metadata": {
      "needs_background": "light"
     },
     "output_type": "display_data"
    },
    {
     "data": {
      "image/png": "[encoded data removed]",
      "text/plain": [
       "<Figure size 1080x432 with 1 Axes>"
      ]
     },
     "metadata": {
      "needs_background": "light"
     },
     "output_type": "display_data"
    },
    {
     "data": {
      "image/png": "[encoded data removed]",
      "text/plain": [
       "<Figure size 1080x432 with 1 Axes>"
      ]
     },
     "metadata": {
      "needs_background": "light"
     },
     "output_type": "display_data"
    }
   ],
   "source": [
    "#Plotting box plots for all categorical columns\n",
    "for i in f_data[['Possession_Status', 'new_or_resale', 'furnishing','facing', 'overlooking','config','parking_type']].columns:\n",
    "    box_plot(i,'price',data = f_data)\n",
    "#There area some categorical features that do have subtle differences in price. \n",
    "#For example furnished flats tend to be more expensive than unfurnished.\n",
    "#Resale is tending to fetch slightly more price compared to new property.\n",
    "#Receiving possession is also driving the price up.\n",
    "#Properties proving covered parking tend to be more expensive."
   ]
  },
  {
   "cell_type": "code",
   "execution_count": 53,
   "metadata": {},
   "outputs": [],
   "source": [
    "#We could change the facing column to good and bad but as input we would keep directions as options. \n",
    "#We would make the imputations at the backend as good and bad.\n",
    "#according to Vastu, the East, North and Northeast are considered good and the rest are not that great.\n",
    "gorb = ['Unknown','Good','Bad','Good','Good','Good','Bad','Bad','Bad']\n",
    "f_data['facing'].unique()\n",
    "facing_mapper = dict(zip(f_data['facing'].unique(),gorb))\n",
    "\n",
    "f_data['Vastu_direction'] = f_data['facing'].map(facing_mapper)"
   ]
  },
  {
   "cell_type": "code",
   "execution_count": 54,
   "metadata": {},
   "outputs": [],
   "source": [
    "#Dropping area,flat_floor_no,total_floors\n",
    "f_data = f_data.drop(['area','flat_floor_no.','total_floors'],axis = 1)"
   ]
  },
  {
   "cell_type": "code",
   "execution_count": 55,
   "metadata": {},
   "outputs": [],
   "source": [
    "#Dropping date of posting\n",
    "f_data = f_data.drop('date_of_posting',axis  = 1)"
   ]
  },
  {
   "cell_type": "code",
   "execution_count": 56,
   "metadata": {},
   "outputs": [],
   "source": [
    "#Dropping the facing column since I have generalized it as can be seen above.\n",
    "f_data = f_data.drop('facing',axis = 1)"
   ]
  },
  {
   "cell_type": "code",
   "execution_count": 57,
   "metadata": {},
   "outputs": [
    {
     "name": "stdout",
     "output_type": "stream",
     "text": [
      "<class 'pandas.core.frame.DataFrame'>\n",
      "Int64Index: 1583 entries, 0 to 1901\n",
      "Data columns (total 16 columns):\n",
      " #   Column             Non-Null Count  Dtype  \n",
      "---  ------             --------------  -----  \n",
      " 0   Possession_Status  1583 non-null   object \n",
      " 1   new_or_resale      1583 non-null   object \n",
      " 2   furnishing         1583 non-null   object \n",
      " 3   bathrooms          1583 non-null   float64\n",
      " 4   price              1583 non-null   float64\n",
      " 5   overlooking        1583 non-null   object \n",
      " 6   BHK                1583 non-null   int64  \n",
      " 7   config             1583 non-null   object \n",
      " 8   no_of_parking      1583 non-null   int64  \n",
      " 9   parking_type       1583 non-null   object \n",
      " 10  longitude          1583 non-null   float64\n",
      " 11  latitude           1583 non-null   float64\n",
      " 12  area_log           1583 non-null   float64\n",
      " 13  flat_floor_no_log  1583 non-null   float64\n",
      " 14  total_floors_log   1583 non-null   float64\n",
      " 15  Vastu_direction    1583 non-null   object \n",
      "dtypes: float64(7), int64(2), object(7)\n",
      "memory usage: 274.8+ KB\n"
     ]
    }
   ],
   "source": [
    "f_data.info()"
   ]
  },
  {
   "cell_type": "markdown",
   "metadata": {},
   "source": [
    "### Statistical Analysis"
   ]
  },
  {
   "cell_type": "markdown",
   "metadata": {},
   "source": [
    "###### Performing independent T-test on columns having 2 categories."
   ]
  },
  {
   "cell_type": "code",
   "execution_count": 58,
   "metadata": {},
   "outputs": [],
   "source": [
    "#Creating a function for independent ttest\n",
    "def ttest_calc(col_name):\n",
    "    ttest_pos_rec = f_data[f_data[col_name] == f_data[col_name].unique()[0]]['price']\n",
    "    ttest_pos_nrec = f_data[f_data[col_name] == f_data[col_name].unique()[1]]['price']\n",
    "    teststat,pval = stats.ttest_ind(ttest_pos_rec,ttest_pos_nrec)\n",
    "    if pval<0.05:\n",
    "        print(\"T-test for {} is having:\\np-value: {}\\nWe can conclude that {} feature is significant for predictions.\\n\".format(col_name,pval,col_name))\n",
    "    else:\n",
    "        print(\"T-test for {} is having:\\np-value: {}\\n{} feature is not significant for predictions and can be dropped.\\n\".format(col_name,pval,col_name))"
   ]
  },
  {
   "cell_type": "code",
   "execution_count": 59,
   "metadata": {},
   "outputs": [
    {
     "name": "stdout",
     "output_type": "stream",
     "text": [
      "T-test for Possession_Status is having:\n",
      "p-value: 7.54595293798891e-05\n",
      "We can conclude that Possession_Status feature is significant for predictions.\n",
      "\n",
      "T-test for new_or_resale is having:\n",
      "p-value: 0.007671323788715217\n",
      "We can conclude that new_or_resale feature is significant for predictions.\n",
      "\n",
      "T-test for overlooking is having:\n",
      "p-value: 0.10628126803428503\n",
      "overlooking feature is not significant for predictions and can be dropped.\n",
      "\n"
     ]
    }
   ],
   "source": [
    "for i in f_data.nunique()[f_data.nunique()==2].index:\n",
    "    ttest_calc(col_name = i)"
   ]
  },
  {
   "cell_type": "code",
   "execution_count": 60,
   "metadata": {},
   "outputs": [
    {
     "name": "stdout",
     "output_type": "stream",
     "text": [
      "                     df       sum_sq     mean_sq          F        PR(>F)\n",
      "furnishing          2.0    49.066690   24.533345   4.141399  1.607429e-02\n",
      "config              3.0   241.529846   80.509949  13.590640  9.361159e-09\n",
      "parking_type        2.0   280.511546  140.255773  23.676151  7.401294e-11\n",
      "Vastu_direction     2.0     8.408434    4.204217   0.709701  4.919486e-01\n",
      "Residual         1573.0  9318.336135    5.923926        NaN           NaN\n"
     ]
    }
   ],
   "source": [
    "#Let us perform Anova test on the other columns\n",
    "import statsmodels.api as sm\n",
    "from statsmodels.formula.api import ols\n",
    "an_model = ols(\"price~furnishing+config+parking_type+Vastu_direction\",f_data).fit()\n",
    "anova_table = sm.stats.anova_lm(an_model)\n",
    "print(anova_table)"
   ]
  },
  {
   "cell_type": "code",
   "execution_count": 61,
   "metadata": {},
   "outputs": [
    {
     "data": {
      "text/html": [
       "<div>\n",
       "<style scoped>\n",
       "    .dataframe tbody tr th:only-of-type {\n",
       "        vertical-align: middle;\n",
       "    }\n",
       "\n",
       "    .dataframe tbody tr th {\n",
       "        vertical-align: top;\n",
       "    }\n",
       "\n",
       "    .dataframe thead th {\n",
       "        text-align: right;\n",
       "    }\n",
       "</style>\n",
       "<table border=\"1\" class=\"dataframe\">\n",
       "  <thead>\n",
       "    <tr style=\"text-align: right;\">\n",
       "      <th></th>\n",
       "      <th>df</th>\n",
       "      <th>sum_sq</th>\n",
       "      <th>mean_sq</th>\n",
       "      <th>F</th>\n",
       "      <th>PR(&gt;F)</th>\n",
       "    </tr>\n",
       "  </thead>\n",
       "  <tbody>\n",
       "    <tr>\n",
       "      <th>Vastu_direction</th>\n",
       "      <td>2.0</td>\n",
       "      <td>8.408434</td>\n",
       "      <td>4.204217</td>\n",
       "      <td>0.709701</td>\n",
       "      <td>0.491949</td>\n",
       "    </tr>\n",
       "  </tbody>\n",
       "</table>\n",
       "</div>"
      ],
      "text/plain": [
       "                  df    sum_sq   mean_sq         F    PR(>F)\n",
       "Vastu_direction  2.0  8.408434  4.204217  0.709701  0.491949"
      ]
     },
     "execution_count": 61,
     "metadata": {},
     "output_type": "execute_result"
    }
   ],
   "source": [
    "anova_table[anova_table.loc[:,'PR(>F)']>0.05]\n",
    "#Vastu_direction as expected does not seem to have a significant impact on our model and \n",
    "#can be dropped."
   ]
  },
  {
   "cell_type": "code",
   "execution_count": 62,
   "metadata": {},
   "outputs": [],
   "source": [
    "#Performing TukeyHSD to check how each parameter affects price\n",
    "def tukey(col):\n",
    "    from statsmodels.stats.multicomp import pairwise_tukeyhsd\n",
    "    print(pairwise_tukeyhsd(f_data['price'],f_data[col]))"
   ]
  },
  {
   "cell_type": "code",
   "execution_count": 63,
   "metadata": {},
   "outputs": [
    {
     "name": "stdout",
     "output_type": "stream",
     "text": [
      "        Multiple Comparison of Means - Tukey HSD, FWER=0.05         \n",
      "====================================================================\n",
      "    group1         group2     meandiff p-adj   lower   upper  reject\n",
      "--------------------------------------------------------------------\n",
      "     Furnished Semi-Furnished  -0.1303  0.744 -0.5677  0.3071  False\n",
      "     Furnished    Unfurnished  -0.4251 0.0387 -0.8328 -0.0173   True\n",
      "Semi-Furnished    Unfurnished  -0.2948 0.0948 -0.6277  0.0381  False\n",
      "--------------------------------------------------------------------\n"
     ]
    }
   ],
   "source": [
    "tukey('furnishing')\n",
    "#Flat being furnished and unfurnished. Semi-furnished does not play a significant role. "
   ]
  },
  {
   "cell_type": "code",
   "execution_count": 64,
   "metadata": {
    "scrolled": true
   },
   "outputs": [
    {
     "name": "stdout",
     "output_type": "stream",
     "text": [
      "    Multiple Comparison of Means - Tukey HSD, FWER=0.05    \n",
      "===========================================================\n",
      "  group1    group2  meandiff p-adj   lower    upper  reject\n",
      "-----------------------------------------------------------\n",
      "Penthouse    Studio  -8.9694  0.001 -12.7914 -5.1474   True\n",
      "Penthouse apartment  -7.1604  0.001 -10.3446 -3.9762   True\n",
      "Penthouse     other  -7.8179  0.001 -11.4237  -4.212   True\n",
      "   Studio apartment   1.8091 0.1267  -0.3171  3.9352  False\n",
      "   Studio     other   1.1516 0.6735  -1.5658   3.869  False\n",
      "apartment     other  -0.6575 0.7294  -2.3649    1.05  False\n",
      "-----------------------------------------------------------\n"
     ]
    }
   ],
   "source": [
    "tukey('config')\n",
    "#Penthouse seems to be a significant cateogory when compared with other categories."
   ]
  },
  {
   "cell_type": "code",
   "execution_count": 65,
   "metadata": {},
   "outputs": [
    {
     "name": "stdout",
     "output_type": "stream",
     "text": [
      " Multiple Comparison of Means - Tukey HSD, FWER=0.05 \n",
      "=====================================================\n",
      " group1 group2 meandiff p-adj   lower   upper  reject\n",
      "-----------------------------------------------------\n",
      "Covered   Open  -0.7847  0.001 -1.0821 -0.4872   True\n",
      "Covered   both   0.0771    0.9 -0.8554  1.0096  False\n",
      "   Open   both   0.8618 0.0748 -0.0651  1.7887  False\n",
      "-----------------------------------------------------\n"
     ]
    }
   ],
   "source": [
    "tukey('parking_type')\n",
    "#Open and covered seems to play the most significant role in predicting price. \n",
    "#Both can be dropped."
   ]
  },
  {
   "cell_type": "code",
   "execution_count": 66,
   "metadata": {},
   "outputs": [
    {
     "name": "stdout",
     "output_type": "stream",
     "text": [
      "Multiple Comparison of Means - Tukey HSD, FWER=0.05 \n",
      "====================================================\n",
      "group1  group2 meandiff p-adj   lower  upper  reject\n",
      "----------------------------------------------------\n",
      "   Bad    Good   0.2086   0.38 -0.1593 0.5765  False\n",
      "   Bad Unknown   0.2375 0.5446 -0.2946 0.7695  False\n",
      "  Good Unknown   0.0289    0.9 -0.4325 0.4903  False\n",
      "----------------------------------------------------\n"
     ]
    }
   ],
   "source": [
    "tukey('Vastu_direction')\n",
    "#Vastu does not seem to play any role and can be dropped."
   ]
  },
  {
   "cell_type": "markdown",
   "metadata": {},
   "source": [
    "### Inferences from our statistical Analysis\n",
    "###### Tests were done on 1457 records.\n",
    "* Possession_Status,New_or_resale and overlooking all play a significant role for predicting price.\n",
    "* Furnishing,config,parking_type are also significant in predicting price.\n",
    "* Vastu can be dropped since it is not significant in predicting price.\n",
    "* Semi-Furnished as a category is not playing a significant role in predicting price.\n",
    "* For parking \"Both\" category is not palying a significant role in predicting price. This could change with an increase in data and hence I won't be removing this category for now."
   ]
  },
  {
   "cell_type": "code",
   "execution_count": 67,
   "metadata": {},
   "outputs": [],
   "source": [
    "f_data = f_data.drop('Vastu_direction',axis = 1)"
   ]
  },
  {
   "cell_type": "markdown",
   "metadata": {},
   "source": [
    "# Modelling"
   ]
  },
  {
   "cell_type": "code",
   "execution_count": 68,
   "metadata": {},
   "outputs": [],
   "source": [
    "#Checking for overfitting\n",
    "def metrics(y,ypred,model_name = 'Unknown'):\n",
    "    from sklearn.metrics import mean_squared_error,r2_score\n",
    "    RMSE = np.sqrt(mean_squared_error(y,ypred))\n",
    "    r2score = r2_score(y,ypred)\n",
    "    print(\"{} RMSE is: {}\".format(model_name,RMSE))\n",
    "    print(\"{} r2_score is: {}\".format(model_name,r2score))"
   ]
  },
  {
   "cell_type": "code",
   "execution_count": 69,
   "metadata": {},
   "outputs": [
    {
     "name": "stdout",
     "output_type": "stream",
     "text": [
      "                            OLS Regression Results                            \n",
      "==============================================================================\n",
      "Dep. Variable:                  price   R-squared:                       0.616\n",
      "Model:                            OLS   Adj. R-squared:                  0.610\n",
      "Method:                 Least Squares   F-statistic:                     110.9\n",
      "Date:                Sun, 07 Feb 2021   Prob (F-statistic):          1.80e-243\n",
      "Time:                        00:33:08   Log-Likelihood:                -2258.8\n",
      "No. Observations:                1266   AIC:                             4556.\n",
      "Df Residuals:                    1247   BIC:                             4653.\n",
      "Df Model:                          18                                         \n",
      "Covariance Type:            nonrobust                                         \n",
      "==============================================================================================\n",
      "                                 coef    std err          t      P>|t|      [0.025      0.975]\n",
      "----------------------------------------------------------------------------------------------\n",
      "const                        360.3819     50.097      7.194      0.000     262.098     458.666\n",
      "bathrooms                      1.1697      0.090     13.031      0.000       0.994       1.346\n",
      "BHK                            0.5142      0.089      5.800      0.000       0.340       0.688\n",
      "no_of_parking                  0.2128      0.065      3.259      0.001       0.085       0.341\n",
      "longitude                     -3.4305      0.696     -4.931      0.000      -4.795      -2.066\n",
      "latitude                      -5.8760      0.443    -13.272      0.000      -6.745      -5.007\n",
      "area_log                       0.5145      0.100      5.120      0.000       0.317       0.712\n",
      "flat_floor_no_log              0.0269      0.058      0.461      0.645      -0.088       0.141\n",
      "total_floors_log               0.1778      0.084      2.126      0.034       0.014       0.342\n",
      "Possession_Status_received     0.3623      0.138      2.624      0.009       0.091       0.633\n",
      "new_or_resale_Resale           0.0612      0.129      0.475      0.635      -0.192       0.314\n",
      "furnishing_Semi-Furnished     -0.0933      0.125     -0.744      0.457      -0.339       0.153\n",
      "furnishing_Unfurnished        -0.1670      0.125     -1.341      0.180      -0.411       0.077\n",
      "overlooking_other             -0.0871      0.087     -1.000      0.318      -0.258       0.084\n",
      "config_Studio                 -3.4646      1.017     -3.408      0.001      -5.459      -1.470\n",
      "config_apartment              -3.5200      0.849     -4.145      0.000      -5.186      -1.854\n",
      "config_other                  -3.2665      0.968     -3.376      0.001      -5.165      -1.368\n",
      "parking_type_Open              0.1300      0.111      1.167      0.243      -0.089       0.349\n",
      "parking_type_both              0.1377      0.269      0.513      0.608      -0.389       0.665\n",
      "==============================================================================\n",
      "Omnibus:                     1192.107   Durbin-Watson:                   2.009\n",
      "Prob(Omnibus):                  0.000   Jarque-Bera (JB):            78356.018\n",
      "Skew:                           4.178   Prob(JB):                         0.00\n",
      "Kurtosis:                      40.625   Cond. No.                     9.31e+04\n",
      "==============================================================================\n",
      "\n",
      "Warnings:\n",
      "[1] Standard Errors assume that the covariance matrix of the errors is correctly specified.\n",
      "[2] The condition number is large, 9.31e+04. This might indicate that there are\n",
      "strong multicollinearity or other numerical problems.\n"
     ]
    }
   ],
   "source": [
    "import statsmodels.api as sm\n",
    "from statsmodels.api import OLS\n",
    "from sklearn.model_selection import train_test_split\n",
    "#Data for modelling\n",
    "model_data = pd.get_dummies(f_data,drop_first = True)\n",
    "\n",
    "x = model_data.drop('price',axis= 1)\n",
    "y = model_data.price\n",
    "x1 = sm.add_constant(x)\n",
    "\n",
    "x_train,x_test,y_train,y_test = train_test_split(x1,y,test_size = 0.2,random_state = 6)\n",
    "\n",
    "model = OLS(y_train,x_train).fit()\n",
    "\n",
    "print(model.summary())"
   ]
  },
  {
   "cell_type": "code",
   "execution_count": 70,
   "metadata": {},
   "outputs": [
    {
     "name": "stdout",
     "output_type": "stream",
     "text": [
      "OLS all params train RMSE is: 1.440837899420673\n",
      "OLS all params train r2_score is: 0.6155333313342602\n",
      "OLS all params test RMSE is: 2.387657077648101\n",
      "OLS all params test r2_score is: 0.4030862675224298\n"
     ]
    }
   ],
   "source": [
    "metrics(y_train,model.predict(x_train),model_name = 'OLS all params train')\n",
    "metrics(y_test,model.predict(x_test),model_name = 'OLS all params test')\n",
    "#Model is underfitting."
   ]
  },
  {
   "cell_type": "markdown",
   "metadata": {},
   "source": [
    "#### inferences from the initial Linear Regression model\n",
    "\n",
    "* Adjusted R2 score is only 50% which probably tells me that either we need more data or this model is non-linear.\n",
    "* P-value of F-stat is less than 0.05 which means the model is ok. It is demonsrtating some relation between the variables.\n",
    "* P-value is more than 0.05 for some parameters. Such parameters are not able to create significant impact on the model.\n",
    "* P-value of constant is less than 0.05 which means this model is genralized and would be able to predict features even beyond the regression line. However I would still consider such predictions to be spurious.\n",
    "* Durbin Watson is between 1.5 and 2.5 which means there is no autocorrelation in the model.\n",
    "* Jarque Bera p-value below 0.05 tells me that the model is normally distributed.\n",
    "* High condition number means that there is some multicollinearity. Ideally we want the number less than 100 but it is too high here.\n",
    "* Model seems to be positively skewed as well towards the right and model seems to have a high kurtosis value which means it is heavier at the tail.\n"
   ]
  },
  {
   "cell_type": "markdown",
   "metadata": {},
   "source": [
    "###### Performing the 5 tests for regression\n",
    "\n",
    "* **Normality**: Model appears to be normal. Concluded from Jarque-Bera\n",
    "* **Linearity**\n",
    "* Heteroskedasticity\n",
    "* **Auto-Correlation** : Model has no auto-correlation. Concluded from durbin watson test.\n",
    "* Multi-Collinearity"
   ]
  },
  {
   "cell_type": "code",
   "execution_count": 71,
   "metadata": {},
   "outputs": [
    {
     "data": {
      "image/png": "[encoded data removed]",
      "text/plain": [
       "<Figure size 432x288 with 1 Axes>"
      ]
     },
     "metadata": {
      "needs_background": "light"
     },
     "output_type": "display_data"
    },
    {
     "name": "stdout",
     "output_type": "stream",
     "text": [
      "(1.3227665365298367, 0.0002488110968021465)\n"
     ]
    }
   ],
   "source": [
    "#Linearity\n",
    "from scipy.stats import probplot\n",
    "import statsmodels.api as sm\n",
    "probplot(model.resid,plot = plt)\n",
    "plt.show()\n",
    "print(sm.stats.diagnostic.linear_rainbow(model))\n",
    "#Model fails the test of linearity accoring to the linear_rainbow test since its p-value is less than 0.05 and we \n",
    "#reject the null hypothesis."
   ]
  },
  {
   "cell_type": "code",
   "execution_count": 72,
   "metadata": {},
   "outputs": [
    {
     "data": {
      "image/png": "[encoded data removed]",
      "text/plain": [
       "<Figure size 432x288 with 1 Axes>"
      ]
     },
     "metadata": {
      "needs_background": "light"
     },
     "output_type": "display_data"
    }
   ],
   "source": [
    "#Heteroskedasticity\n",
    "test_stat,p_value,ftest,p_valftest = sm.stats.diagnostic.het_breuschpagan(model.resid,x_train)\n",
    "p_value\n",
    "#Model is heteroskedastic since p_value is less than 0.05\n",
    "sns.residplot(model.fittedvalues,model.resid)\n",
    "plt.show('Heteroskedastic pattern')\n",
    "plt.show()\n",
    "#We clearly can see a heteroskedastic pattern here."
   ]
  },
  {
   "cell_type": "code",
   "execution_count": 73,
   "metadata": {},
   "outputs": [
    {
     "data": {
      "text/html": [
       "<div>\n",
       "<style scoped>\n",
       "    .dataframe tbody tr th:only-of-type {\n",
       "        vertical-align: middle;\n",
       "    }\n",
       "\n",
       "    .dataframe tbody tr th {\n",
       "        vertical-align: top;\n",
       "    }\n",
       "\n",
       "    .dataframe thead th {\n",
       "        text-align: right;\n",
       "    }\n",
       "</style>\n",
       "<table border=\"1\" class=\"dataframe\">\n",
       "  <thead>\n",
       "    <tr style=\"text-align: right;\">\n",
       "      <th></th>\n",
       "      <th>Features</th>\n",
       "      <th>VIF</th>\n",
       "    </tr>\n",
       "  </thead>\n",
       "  <tbody>\n",
       "    <tr>\n",
       "      <th>0</th>\n",
       "      <td>BHK</td>\n",
       "      <td>7.222686</td>\n",
       "    </tr>\n",
       "    <tr>\n",
       "      <th>1</th>\n",
       "      <td>no_of_parking</td>\n",
       "      <td>3.020849</td>\n",
       "    </tr>\n",
       "    <tr>\n",
       "      <th>2</th>\n",
       "      <td>flat_floor_no_log</td>\n",
       "      <td>4.979280</td>\n",
       "    </tr>\n",
       "    <tr>\n",
       "      <th>3</th>\n",
       "      <td>Possession_Status_received</td>\n",
       "      <td>6.924721</td>\n",
       "    </tr>\n",
       "    <tr>\n",
       "      <th>4</th>\n",
       "      <td>new_or_resale_Resale</td>\n",
       "      <td>5.958853</td>\n",
       "    </tr>\n",
       "    <tr>\n",
       "      <th>5</th>\n",
       "      <td>furnishing_Semi-Furnished</td>\n",
       "      <td>2.350945</td>\n",
       "    </tr>\n",
       "    <tr>\n",
       "      <th>6</th>\n",
       "      <td>furnishing_Unfurnished</td>\n",
       "      <td>3.194370</td>\n",
       "    </tr>\n",
       "    <tr>\n",
       "      <th>7</th>\n",
       "      <td>overlooking_other</td>\n",
       "      <td>2.434461</td>\n",
       "    </tr>\n",
       "    <tr>\n",
       "      <th>8</th>\n",
       "      <td>config_Studio</td>\n",
       "      <td>1.020493</td>\n",
       "    </tr>\n",
       "    <tr>\n",
       "      <th>9</th>\n",
       "      <td>config_other</td>\n",
       "      <td>1.052182</td>\n",
       "    </tr>\n",
       "    <tr>\n",
       "      <th>10</th>\n",
       "      <td>parking_type_Open</td>\n",
       "      <td>2.858177</td>\n",
       "    </tr>\n",
       "    <tr>\n",
       "      <th>11</th>\n",
       "      <td>parking_type_both</td>\n",
       "      <td>1.071183</td>\n",
       "    </tr>\n",
       "  </tbody>\n",
       "</table>\n",
       "</div>"
      ],
      "text/plain": [
       "                      Features       VIF\n",
       "0                          BHK  7.222686\n",
       "1                no_of_parking  3.020849\n",
       "2            flat_floor_no_log  4.979280\n",
       "3   Possession_Status_received  6.924721\n",
       "4         new_or_resale_Resale  5.958853\n",
       "5    furnishing_Semi-Furnished  2.350945\n",
       "6       furnishing_Unfurnished  3.194370\n",
       "7            overlooking_other  2.434461\n",
       "8                config_Studio  1.020493\n",
       "9                 config_other  1.052182\n",
       "10           parking_type_Open  2.858177\n",
       "11           parking_type_both  1.071183"
      ]
     },
     "execution_count": 73,
     "metadata": {},
     "output_type": "execute_result"
    }
   ],
   "source": [
    "#Multi-Collinearity\n",
    "from statsmodels.stats.outliers_influence import variance_inflation_factor as vif\n",
    "scores = []\n",
    "d_1 = x.drop(['config_apartment','total_floors_log','bathrooms','longitude','latitude','area_log'],axis =1)\n",
    "\n",
    "for i in range(len(d_1.columns)):\n",
    "    scores.append(vif(d_1.values,i))\n",
    "vif_summary = pd.DataFrame({'Features':d_1.columns,'VIF':scores})\n",
    "vif_summary\n",
    "#Though latitude and longitude show large multicollinearity, I believe that these features are important to determine price."
   ]
  },
  {
   "cell_type": "code",
   "execution_count": 74,
   "metadata": {},
   "outputs": [
    {
     "name": "stdout",
     "output_type": "stream",
     "text": [
      "                            OLS Regression Results                            \n",
      "==============================================================================\n",
      "Dep. Variable:                  price   R-squared:                       0.465\n",
      "Model:                            OLS   Adj. R-squared:                  0.460\n",
      "Method:                 Least Squares   F-statistic:                     90.94\n",
      "Date:                Sun, 07 Feb 2021   Prob (F-statistic):          6.59e-161\n",
      "Time:                        00:33:08   Log-Likelihood:                -2467.3\n",
      "No. Observations:                1266   AIC:                             4961.\n",
      "Df Residuals:                    1253   BIC:                             5027.\n",
      "Df Model:                          12                                         \n",
      "Covariance Type:            nonrobust                                         \n",
      "==============================================================================================\n",
      "                                 coef    std err          t      P>|t|      [0.025      0.975]\n",
      "----------------------------------------------------------------------------------------------\n",
      "const                         -1.7117      0.252     -6.800      0.000      -2.206      -1.218\n",
      "BHK                            1.6671      0.060     27.908      0.000       1.550       1.784\n",
      "no_of_parking                  0.3091      0.076      4.074      0.000       0.160       0.458\n",
      "flat_floor_no_log              0.1110      0.057      1.938      0.053      -0.001       0.223\n",
      "Possession_Status_received     0.4427      0.159      2.783      0.005       0.131       0.755\n",
      "new_or_resale_Resale          -0.0821      0.151     -0.544      0.587      -0.378       0.214\n",
      "furnishing_Semi-Furnished     -0.0449      0.146     -0.308      0.758      -0.331       0.241\n",
      "furnishing_Unfurnished        -0.2051      0.143     -1.429      0.153      -0.487       0.076\n",
      "overlooking_other             -0.0872      0.101     -0.860      0.390      -0.286       0.112\n",
      "config_Studio                  0.2208      0.654      0.338      0.736      -1.062       1.503\n",
      "config_other                  -0.3549      0.553     -0.641      0.521      -1.441       0.731\n",
      "parking_type_Open              0.1096      0.126      0.872      0.383      -0.137       0.356\n",
      "parking_type_both             -0.1259      0.314     -0.401      0.688      -0.742       0.490\n",
      "==============================================================================\n",
      "Omnibus:                     1174.992   Durbin-Watson:                   1.936\n",
      "Prob(Omnibus):                  0.000   Jarque-Bera (JB):            64387.211\n",
      "Skew:                           4.153   Prob(JB):                         0.00\n",
      "Kurtosis:                      36.936   Cond. No.                         47.6\n",
      "==============================================================================\n",
      "\n",
      "Warnings:\n",
      "[1] Standard Errors assume that the covariance matrix of the errors is correctly specified.\n"
     ]
    }
   ],
   "source": [
    "#Model after removing collinear variables\n",
    "import statsmodels.api as sm\n",
    "from statsmodels.api import OLS\n",
    "from sklearn.model_selection import train_test_split\n",
    "#Data for modelling\n",
    "model_data = pd.get_dummies(f_data,drop_first = True)\n",
    "\n",
    "x_ = model_data[vif_summary['Features'].values]\n",
    "y = model_data.price\n",
    "x1 = sm.add_constant(x_)\n",
    "\n",
    "x_train,x_test,y_train,y_test = train_test_split(x1,y,test_size = 0.2,random_state = 6)\n",
    "\n",
    "model_pvif = OLS(y_train,x_train).fit()\n",
    "\n",
    "print(model_pvif.summary())\n",
    "#While we have seen a massive reduction in multicollinearity, our adjusted r2_score has also taken a hit. "
   ]
  },
  {
   "cell_type": "code",
   "execution_count": 75,
   "metadata": {},
   "outputs": [
    {
     "name": "stdout",
     "output_type": "stream",
     "text": [
      "OLS removing multicollinearity train RMSE is: 1.69886903423354\n",
      "OLS removing multicollinearity train r2_score is: 0.46549933684479317\n",
      "OLS removing multicollinearity test RMSE is: 2.5901852879730463\n",
      "OLS removing multicollinearity test r2_score is: 0.29752749526660505\n"
     ]
    }
   ],
   "source": [
    "metrics(y_train,model_pvif.predict(x_train),'OLS removing multicollinearity train')\n",
    "metrics(y_test,model_pvif.predict(x_test),'OLS removing multicollinearity test')"
   ]
  },
  {
   "cell_type": "markdown",
   "metadata": {},
   "source": [
    "* Our train RMSE is much greater than the test RMSE. This means that the model has underfit.\n",
    "* The difference between the test and train metrics have not reduced which tells me that our underfitting problem has not been solved.\n",
    "* Probably regularization can be tried at this stage since the difference betweeen train and test scores is high.\n",
    "* My hunch is that using ridge, lasso or elastic net which penalizes coefficients would do a better job here.\n",
    "* We should also apply log transformation on the target variable and check if our model improves."
   ]
  },
  {
   "cell_type": "code",
   "execution_count": 76,
   "metadata": {},
   "outputs": [],
   "source": [
    "#Performing log transform on 'price' column of f_data to reduce heteroskedasticity\n",
    "f_data['price'] = np.log(f_data['price'])"
   ]
  },
  {
   "cell_type": "code",
   "execution_count": 77,
   "metadata": {},
   "outputs": [
    {
     "data": {
      "image/png": "[encoded data removed]",
      "text/plain": [
       "<Figure size 432x288 with 1 Axes>"
      ]
     },
     "metadata": {
      "needs_background": "light"
     },
     "output_type": "display_data"
    },
    {
     "name": "stdout",
     "output_type": "stream",
     "text": [
      "                            OLS Regression Results                            \n",
      "==============================================================================\n",
      "Dep. Variable:                  price   R-squared:                       0.731\n",
      "Model:                            OLS   Adj. R-squared:                  0.727\n",
      "Method:                 Least Squares   F-statistic:                     188.5\n",
      "Date:                Sun, 07 Feb 2021   Prob (F-statistic):               0.00\n",
      "Time:                        00:33:08   Log-Likelihood:                -615.63\n",
      "No. Observations:                1266   AIC:                             1269.\n",
      "Df Residuals:                    1247   BIC:                             1367.\n",
      "Df Model:                          18                                         \n",
      "Covariance Type:            nonrobust                                         \n",
      "==============================================================================================\n",
      "                                 coef    std err          t      P>|t|      [0.025      0.975]\n",
      "----------------------------------------------------------------------------------------------\n",
      "const                        133.5618     13.682      9.762      0.000     106.720     160.404\n",
      "bathrooms                      0.1414      0.025      5.770      0.000       0.093       0.190\n",
      "BHK                            0.3976      0.024     16.420      0.000       0.350       0.445\n",
      "no_of_parking                  0.0358      0.018      2.010      0.045       0.001       0.071\n",
      "longitude                     -1.1673      0.190     -6.144      0.000      -1.540      -0.795\n",
      "latitude                      -2.6052      0.121    -21.546      0.000      -2.842      -2.368\n",
      "area_log                       0.1559      0.027      5.679      0.000       0.102       0.210\n",
      "flat_floor_no_log              0.0261      0.016      1.638      0.102      -0.005       0.057\n",
      "total_floors_log               0.0902      0.023      3.946      0.000       0.045       0.135\n",
      "Possession_Status_received     0.1318      0.038      3.494      0.000       0.058       0.206\n",
      "new_or_resale_Resale           0.0338      0.035      0.961      0.337      -0.035       0.103\n",
      "furnishing_Semi-Furnished     -0.1235      0.034     -3.604      0.000      -0.191      -0.056\n",
      "furnishing_Unfurnished        -0.1789      0.034     -5.261      0.000      -0.246      -0.112\n",
      "overlooking_other             -0.0597      0.024     -2.506      0.012      -0.106      -0.013\n",
      "config_Studio                 -0.9232      0.278     -3.325      0.001      -1.468      -0.379\n",
      "config_apartment              -0.4622      0.232     -1.993      0.046      -0.917      -0.007\n",
      "config_other                  -0.3295      0.264     -1.247      0.213      -0.848       0.189\n",
      "parking_type_Open             -0.0792      0.030     -2.604      0.009      -0.139      -0.020\n",
      "parking_type_both             -0.1519      0.073     -2.071      0.039      -0.296      -0.008\n",
      "==============================================================================\n",
      "Omnibus:                      314.579   Durbin-Watson:                   1.954\n",
      "Prob(Omnibus):                  0.000   Jarque-Bera (JB):             1072.198\n",
      "Skew:                          -1.193   Prob(JB):                    1.50e-233\n",
      "Kurtosis:                       6.825   Cond. No.                     9.31e+04\n",
      "==============================================================================\n",
      "\n",
      "Warnings:\n",
      "[1] Standard Errors assume that the covariance matrix of the errors is correctly specified.\n",
      "[2] The condition number is large, 9.31e+04. This might indicate that there are\n",
      "strong multicollinearity or other numerical problems.\n"
     ]
    }
   ],
   "source": [
    "#We could maybe try to apply log transformation on the target variable and keep all parameters to improve this.\n",
    "import statsmodels.api as sm\n",
    "from statsmodels.api import OLS\n",
    "from sklearn.model_selection import train_test_split\n",
    "#Data for modelling\n",
    "model_data = pd.get_dummies(f_data,drop_first = True)\n",
    "\n",
    "x = model_data.drop('price',axis= 1)\n",
    "y = model_data.price\n",
    "x1 = sm.add_constant(x)\n",
    "\n",
    "x_train,x_test,y_train,y_test = train_test_split(x1,y,test_size = 0.2,random_state = 6)\n",
    "\n",
    "model = OLS(y_train,x_train).fit()\n",
    "\n",
    "sns.residplot(model.fittedvalues,model.resid)\n",
    "plt.title('Homoskedastic Pattern')\n",
    "plt.show()\n",
    "#As can be observed we have reduced the heteroskedastic nature of the model. Let us check the model summary\n",
    "print(model.summary())\n",
    "#Our model sees a massive jump in the r2_score. I think we must perform log transform on the target variable."
   ]
  },
  {
   "cell_type": "code",
   "execution_count": 78,
   "metadata": {},
   "outputs": [
    {
     "name": "stdout",
     "output_type": "stream",
     "text": [
      "OLS all params (log on target) train RMSE is: 0.39350519517721066\n",
      "OLS all params (log on target) train r2_score is: 0.731294804422097\n",
      "OLS all params (log on target) test RMSE is: 0.41894353993139455\n",
      "OLS all params (log on target) test r2_score is: 0.7343559275009583\n"
     ]
    }
   ],
   "source": [
    "metrics(y_train,model.predict(x_train),model_name = 'OLS all params (log on target) train')\n",
    "metrics(y_test,model.predict(x_test),model_name = 'OLS all params (log on target) test')\n",
    "#Model is still overfitting but r2_score has increased."
   ]
  },
  {
   "cell_type": "markdown",
   "metadata": {},
   "source": [
    "### Regularization\n",
    "\n",
    "**Regularization Libraries**"
   ]
  },
  {
   "cell_type": "code",
   "execution_count": 79,
   "metadata": {},
   "outputs": [],
   "source": [
    "from sklearn.linear_model import Ridge,Lasso,ElasticNet"
   ]
  },
  {
   "cell_type": "code",
   "execution_count": 80,
   "metadata": {},
   "outputs": [],
   "source": [
    "#Function for fitting regularized models\n",
    "def regularized_models(data,target,model_name = 'Ridge',model = Ridge(alpha = 1)):\n",
    "    from sklearn.model_selection import train_test_split\n",
    "    from sklearn.linear_model import Ridge,Lasso,ElasticNet\n",
    "    import pandas as pd\n",
    "    import numpy as np\n",
    "    \n",
    "    #Function for calculating RMSE and r2score\n",
    "    def metrics(y,ypred,model_name = 'Unknown'):\n",
    "        from sklearn.metrics import mean_squared_error,r2_score\n",
    "        RMSE = np.sqrt(mean_squared_error(y,ypred))\n",
    "        r2score = r2_score(y,ypred)\n",
    "        print(\"{} RMSE is: {}\".format(model_name,RMSE))\n",
    "        print(\"{} r2_score is: {}\".format(model_name,r2score))\n",
    "    \n",
    "    #Get dummies for data\n",
    "    d = pd.get_dummies(data,drop_first = True)\n",
    "    \n",
    "    #Create x and y for seperating dependent and independent variables\n",
    "    x = d.drop(target,axis = 1)\n",
    "    y = d[target]\n",
    "    \n",
    "    #Split into train and test\n",
    "    x_train,x_test,y_train,y_test = train_test_split(x,y,test_size = 0.2,random_state = 1)\n",
    "    m = model\n",
    "    m.fit(x_train,y_train)\n",
    "    \n",
    "    #Printing metrics\n",
    "    metrics(y_train,model.predict(x_train),model_name+' train')\n",
    "    metrics(y_test,model.predict(x_test),model_name+' test')"
   ]
  },
  {
   "cell_type": "code",
   "execution_count": 81,
   "metadata": {},
   "outputs": [],
   "source": [
    "#Function to find best parameters\n",
    "def grid_search(model,x,y,params,cv = 5,verbose = 0,n_jobs = -1):\n",
    "    from sklearn.model_selection import GridSearchCV\n",
    "    grid = GridSearchCV(estimator = model,param_grid = params,scoring='r2',cv = cv,verbose = verbose,n_jobs = n_jobs)\n",
    "    grid.fit(x,y)\n",
    "    return grid.best_params_"
   ]
  },
  {
   "cell_type": "markdown",
   "metadata": {},
   "source": [
    "###### Lasso"
   ]
  },
  {
   "cell_type": "code",
   "execution_count": 82,
   "metadata": {},
   "outputs": [
    {
     "name": "stdout",
     "output_type": "stream",
     "text": [
      "Lasso train RMSE is: 0.7811673917303434\n",
      "Lasso train r2_score is: 0.0\n",
      "Lasso test RMSE is: 0.7298376025129355\n",
      "Lasso test r2_score is: -0.011188602335234776\n"
     ]
    }
   ],
   "source": [
    "#Without hyperpararmeter tuning\n",
    "regularized_models(f_data,target = 'price',model_name = 'Lasso',model = Lasso(alpha = 1))"
   ]
  },
  {
   "cell_type": "code",
   "execution_count": 83,
   "metadata": {},
   "outputs": [
    {
     "data": {
      "text/plain": [
       "{'alpha': 0.001}"
      ]
     },
     "execution_count": 83,
     "metadata": {},
     "output_type": "execute_result"
    }
   ],
   "source": [
    "params = {'alpha':[0.001,0.005,0.05,0.01,0.1,1,1.5,2,5,10]}\n",
    "grid_search(Lasso(),x_train,y_train,params = params)"
   ]
  },
  {
   "cell_type": "code",
   "execution_count": 84,
   "metadata": {},
   "outputs": [
    {
     "name": "stdout",
     "output_type": "stream",
     "text": [
      "Lasso train RMSE is: 0.4040577727141733\n",
      "Lasso train r2_score is: 0.7324538421280364\n",
      "Lasso test RMSE is: 0.38062664488677933\n",
      "Lasso test r2_score is: 0.7249712664812153\n"
     ]
    }
   ],
   "source": [
    "regularized_models(f_data,target = 'price',model_name = 'Lasso',model = Lasso(alpha = 0.001))"
   ]
  },
  {
   "cell_type": "markdown",
   "metadata": {},
   "source": [
    "###### Ridge"
   ]
  },
  {
   "cell_type": "code",
   "execution_count": 85,
   "metadata": {},
   "outputs": [
    {
     "name": "stdout",
     "output_type": "stream",
     "text": [
      "ridge train RMSE is: 0.4037625738483191\n",
      "ridge train r2_score is: 0.7328446301643707\n",
      "ridge test RMSE is: 0.38063350716192135\n",
      "ridge test r2_score is: 0.7249613494673651\n"
     ]
    }
   ],
   "source": [
    "#Without hyperparameter tuning\n",
    "regularized_models(f_data,target = 'price',model_name = 'ridge')"
   ]
  },
  {
   "cell_type": "code",
   "execution_count": 86,
   "metadata": {},
   "outputs": [
    {
     "data": {
      "text/plain": [
       "{'alpha': 1}"
      ]
     },
     "execution_count": 86,
     "metadata": {},
     "output_type": "execute_result"
    }
   ],
   "source": [
    "params = {'alpha':[0.001,0.005,0.05,0.01,0.1,1,1.5,2,5,10]}\n",
    "grid_search(Ridge(),x_train,y_train,params = params)"
   ]
  },
  {
   "cell_type": "code",
   "execution_count": 87,
   "metadata": {},
   "outputs": [
    {
     "name": "stdout",
     "output_type": "stream",
     "text": [
      "ridge train RMSE is: 0.40286679566712097\n",
      "ridge train r2_score is: 0.7340287244852868\n",
      "ridge test RMSE is: 0.38053356772790653\n",
      "ridge test r2_score is: 0.7251057592369621\n"
     ]
    }
   ],
   "source": [
    "regularized_models(f_data,target = 'price',model_name = 'ridge',model = Ridge(alpha = 0.1))"
   ]
  },
  {
   "cell_type": "markdown",
   "metadata": {},
   "source": [
    "###### ElasticNet"
   ]
  },
  {
   "cell_type": "code",
   "execution_count": 88,
   "metadata": {},
   "outputs": [
    {
     "name": "stdout",
     "output_type": "stream",
     "text": [
      "ElasticNet train RMSE is: 0.7674349633213334\n",
      "ElasticNet train r2_score is: 0.03484970021141032\n",
      "ElasticNet test RMSE is: 0.7182970025339884\n",
      "ElasticNet test r2_score is: 0.02053752148002086\n"
     ]
    }
   ],
   "source": [
    "#Without hyperparameter tuning\n",
    "regularized_models(f_data,target = 'price',model_name = 'ElasticNet',model = ElasticNet(alpha = 1,l1_ratio = 0.5))"
   ]
  },
  {
   "cell_type": "code",
   "execution_count": 89,
   "metadata": {},
   "outputs": [
    {
     "data": {
      "text/plain": [
       "{'alpha': 0.001, 'l1_ratio': 0.5}"
      ]
     },
     "execution_count": 89,
     "metadata": {},
     "output_type": "execute_result"
    }
   ],
   "source": [
    "params_e = {'alpha':[0.001,0.005,0.05,0.01,0.1,1,1.5,2,5,10],'l1_ratio':[0.001,0.005,0.05,0.01,0.1,0.5,1,1.2,1.6]}\n",
    "b_e = grid_search(ElasticNet(),x_train,y_train,params = params_e)\n",
    "b_e"
   ]
  },
  {
   "cell_type": "code",
   "execution_count": 90,
   "metadata": {},
   "outputs": [
    {
     "name": "stdout",
     "output_type": "stream",
     "text": [
      "ElasticNet train RMSE is: 0.4039951240766727\n",
      "ElasticNet train r2_score is: 0.7325368010709109\n",
      "ElasticNet test RMSE is: 0.3807533005989228\n",
      "ElasticNet test r2_score is: 0.7247882012325135\n"
     ]
    }
   ],
   "source": [
    "regularized_models(model_data,target = 'price',model_name = 'ElasticNet',model = ElasticNet(alpha = b_e['alpha'],l1_ratio = b_e['l1_ratio']))"
   ]
  },
  {
   "cell_type": "markdown",
   "metadata": {},
   "source": [
    "## Trying non-linear models on our dataset"
   ]
  },
  {
   "cell_type": "code",
   "execution_count": 91,
   "metadata": {},
   "outputs": [],
   "source": [
    "def non_linear_models(data,model):\n",
    "    from sklearn.model_selection import train_test_split\n",
    "    model = model\n",
    "    x = data.drop('price',axis = 1)\n",
    "    y = data.price\n",
    "    x_train,x_test,y_train,y_test = train_test_split(x,y,test_size = 0.2,random_state = 6)\n",
    "    model.fit(x_train,y_train)\n",
    "    \n",
    "    def metrics(y,ypred,model_name = 'Unknown'):\n",
    "        from sklearn.metrics import mean_squared_error,r2_score\n",
    "        RMSE = np.sqrt(mean_squared_error(y,ypred))\n",
    "        r2score = r2_score(y,ypred)\n",
    "        print(\"{} RMSE is: {}\".format(model_name,RMSE))\n",
    "        print(\"{} r2_score is: {}\".format(model_name,r2score))\n",
    "\n",
    "    \n",
    "    metrics(y_train,model.predict(x_train),str(model)+' train')\n",
    "    metrics(y_test,model.predict(x_test),str(model)+' test')"
   ]
  },
  {
   "cell_type": "markdown",
   "metadata": {},
   "source": [
    "###### DecisionTree"
   ]
  },
  {
   "cell_type": "code",
   "execution_count": 92,
   "metadata": {},
   "outputs": [
    {
     "name": "stdout",
     "output_type": "stream",
     "text": [
      "DecisionTreeRegressor() train RMSE is: 0.0018995760215528795\n",
      "DecisionTreeRegressor() train r2_score is: 0.9999937383544415\n",
      "DecisionTreeRegressor() test RMSE is: 0.41857685734573286\n",
      "DecisionTreeRegressor() test r2_score is: 0.7348207368037162\n"
     ]
    }
   ],
   "source": [
    "#Trying RandomForestRegressor\n",
    "from sklearn.tree import DecisionTreeRegressor\n",
    "non_linear_models(model_data,DecisionTreeRegressor())\n",
    "#Decision Tree known for its infamous nature of overfitting has shown expected results here. \n",
    "# Test r2_score is way lower than train r2_score."
   ]
  },
  {
   "cell_type": "code",
   "execution_count": 93,
   "metadata": {},
   "outputs": [],
   "source": [
    "#We will use our grid search function to find best parameters for randomforest.\n",
    "params_dt = {\n",
    "            'criterion':['mse','mae'],\n",
    "            'min_samples_split':[2,5,8,10,20,40,100],\n",
    "            'min_samples_leaf':[1,5,10,15,25,50,100],\n",
    "            \n",
    "                 }"
   ]
  },
  {
   "cell_type": "code",
   "execution_count": 94,
   "metadata": {},
   "outputs": [
    {
     "name": "stdout",
     "output_type": "stream",
     "text": [
      "Fitting 5 folds for each of 98 candidates, totalling 490 fits\n"
     ]
    },
    {
     "name": "stderr",
     "output_type": "stream",
     "text": [
      "[Parallel(n_jobs=-1)]: Using backend LokyBackend with 8 concurrent workers.\n",
      "[Parallel(n_jobs=-1)]: Done  56 tasks      | elapsed:    0.2s\n",
      "[Parallel(n_jobs=-1)]: Done 490 out of 490 | elapsed:    2.9s finished\n"
     ]
    },
    {
     "data": {
      "text/plain": [
       "{'criterion': 'mse', 'min_samples_leaf': 1, 'min_samples_split': 8}"
      ]
     },
     "execution_count": 94,
     "metadata": {},
     "output_type": "execute_result"
    }
   ],
   "source": [
    "#Creating train and test split for grid search\n",
    "x = model_data.drop('price',axis = 1)\n",
    "y = model_data.price\n",
    "x_train,x_test,y_train,y_test = train_test_split(x,y,test_size = 0.2,random_state = 6)\n",
    "best_param_dt = grid_search(DecisionTreeRegressor(),x = x_train, y = y_train,params = params_dt,cv = 5,verbose = 1)\n",
    "best_param_dt"
   ]
  },
  {
   "cell_type": "code",
   "execution_count": 95,
   "metadata": {},
   "outputs": [
    {
     "name": "stdout",
     "output_type": "stream",
     "text": [
      "DecisionTreeRegressor(min_samples_split=8) train RMSE is: 0.12212126192876993\n",
      "DecisionTreeRegressor(min_samples_split=8) train r2_score is: 0.9741203922361205\n",
      "DecisionTreeRegressor(min_samples_split=8) test RMSE is: 0.4085771849504265\n",
      "DecisionTreeRegressor(min_samples_split=8) test r2_score is: 0.7473394964746233\n"
     ]
    }
   ],
   "source": [
    "non_linear_models(model_data,DecisionTreeRegressor(criterion = best_param_dt['criterion'],\n",
    "                                                   min_samples_leaf = best_param_dt['min_samples_leaf'],\n",
    "                                                   min_samples_split = best_param_dt['min_samples_split']))\n",
    "#The tuned parameters seem to reduce the amount of overfitting. \n",
    "#But still there is a big gap between train and test score."
   ]
  },
  {
   "cell_type": "markdown",
   "metadata": {},
   "source": [
    "###### RandomForest"
   ]
  },
  {
   "cell_type": "code",
   "execution_count": 96,
   "metadata": {},
   "outputs": [
    {
     "name": "stdout",
     "output_type": "stream",
     "text": [
      "RandomForestRegressor() train RMSE is: 0.09910881091094027\n",
      "RandomForestRegressor() train r2_score is: 0.9829548960478337\n",
      "RandomForestRegressor() test RMSE is: 0.3172759148711801\n",
      "RandomForestRegressor() test r2_score is: 0.8476426733265489\n"
     ]
    }
   ],
   "source": [
    "#Trying RandomForestRegressor\n",
    "from sklearn.ensemble import RandomForestRegressor\n",
    "non_linear_models(model_data,RandomForestRegressor())\n",
    "\n",
    "#RandomForestRegressor is overfitting the data since we are getting a very high r2_score.\n",
    "#We can try hyperparameter tuning to try to reduce this problem."
   ]
  },
  {
   "cell_type": "code",
   "execution_count": 97,
   "metadata": {},
   "outputs": [],
   "source": [
    "#We will use our grid search function to find best parameters for randomforest.\n",
    "\n",
    "\n",
    "params_rf = {'n_estimators': [25,50,100,150,200,225,250],\n",
    "            'criterion':['mse','mae'],\n",
    "            'min_samples_split':[2,5,8,10,20,40,100],\n",
    "            'min_samples_leaf':[1,5,10,15,25,50,100],\n",
    "            'bootstrap':[True,False]\n",
    "                 }"
   ]
  },
  {
   "cell_type": "code",
   "execution_count": 98,
   "metadata": {},
   "outputs": [],
   "source": [
    "# #Creating train and test split for grid search\n",
    "# x = model_data.drop('price',axis = 1)\n",
    "# y = model_data.price\n",
    "# x_train,x_test,y_train,y_test = train_test_split(x,y,test_size = 0.2,random_state = 6)\n",
    "# best_param_rf = grid_search(RandomForestRegressor(),x = x_train, y = y_train,params = params_rf,cv = 5,verbose = 1)\n",
    "# best_param_rf"
   ]
  },
  {
   "cell_type": "code",
   "execution_count": 99,
   "metadata": {},
   "outputs": [],
   "source": [
    "best_param_rf = {'bootstrap': True,\n",
    " 'criterion': 'mse',\n",
    " 'min_samples_leaf': 1,\n",
    " 'min_samples_split': 2,\n",
    " 'n_estimators': 225}"
   ]
  },
  {
   "cell_type": "code",
   "execution_count": 100,
   "metadata": {},
   "outputs": [
    {
     "name": "stdout",
     "output_type": "stream",
     "text": [
      "RandomForestRegressor(n_estimators=225) train RMSE is: 0.10091071218496306\n",
      "RandomForestRegressor(n_estimators=225) train r2_score is: 0.9823294663450538\n",
      "RandomForestRegressor(n_estimators=225) test RMSE is: 0.3134806755002619\n",
      "RandomForestRegressor(n_estimators=225) test r2_score is: 0.8512658549344121\n"
     ]
    }
   ],
   "source": [
    "#Trying RandomForestRegressor\n",
    "from sklearn.ensemble import RandomForestRegressor\n",
    "non_linear_models(model_data,RandomForestRegressor(bootstrap = best_param_rf['bootstrap'],criterion = best_param_rf['criterion'],min_samples_leaf = best_param_rf['min_samples_leaf'],min_samples_split = best_param_rf['min_samples_split'],n_estimators = best_param_rf['n_estimators']))\n",
    "#RandomForestRegressor is overfitting the data since we are getting a very high r2_score.\n",
    "#We can try hyperparameter tuning to try to reduce this problem."
   ]
  },
  {
   "cell_type": "code",
   "execution_count": 101,
   "metadata": {},
   "outputs": [],
   "source": [
    "#Apply cross validation on random forest to see if there is any change. (Currently the model is overfitting.)"
   ]
  },
  {
   "cell_type": "code",
   "execution_count": 102,
   "metadata": {},
   "outputs": [],
   "source": [
    "#Creating a function for cross val score.\n",
    "def cross_val(estimator,X,y,cv,verbose = 0):\n",
    "    from sklearn.model_selection import cross_val_score\n",
    "    s = cross_val_score(estimator = estimator,X = X,y = y,cv = cv,verbose = verbose)\n",
    "    print(\"Min Cross_val_score:\",min(s))\n",
    "    print(\"Max Cross_val_score:\",max(s))\n",
    "    print(\"Average Cross_val_score:\",np.mean(s))"
   ]
  },
  {
   "cell_type": "code",
   "execution_count": 103,
   "metadata": {},
   "outputs": [
    {
     "name": "stdout",
     "output_type": "stream",
     "text": [
      "Min Cross_val_score: 0.812147834141308\n",
      "Max Cross_val_score: 0.8933554757806562\n",
      "Average Cross_val_score: 0.8626910159051177\n"
     ]
    }
   ],
   "source": [
    "cross_val(estimator = RandomForestRegressor(bootstrap = True,criterion = 'mse',min_samples_leaf = 1,min_samples_split = 2,n_estimators = 225),X = x_train,y = y_train,cv = 5)\n",
    "#On the train data when we apply cross validation, we get below mean score. \n",
    "#This is inline with the test r2_score that we are getting above."
   ]
  },
  {
   "attachments": {
    "image.png": {
     "image/png": "[encoded data removed]"
    }
   },
   "cell_type": "markdown",
   "metadata": {},
   "source": [
    "### Adaboost (Adaptive Boosting):\n",
    "\n",
    "* Adaboost introduces the concept of weights into decision trees and random forests and is moving towards deep learning approaches.\n",
    "* Adaboost combines a lot of week learners to make classifications.\n",
    "* Some learners(tree stumps) get more say than others.\n",
    "* Each stump is made by taking the previous stumps mistakes into account.\n",
    "* At the start weights = (1/N (number of rows))\n",
    "* Classification is checked for each feature and correct and incorrect classifications are obtained.\n",
    "* Gini Index determines which stump will come first. Each stump is made of one feature. Lower gini index means feature will be the first stump.\n",
    "* Total error = Sum of weights of correctly classified samples. (0-1). Lower is better.\n",
    "* Amount of say (alpha):\n",
    "![image.png](attachment:image.png)"
   ]
  },
  {
   "attachments": {
    "image.png": {
     "image/png": "[encoded data removed]"
    }
   },
   "cell_type": "markdown",
   "metadata": {},
   "source": [
    "* **In below diagram negative means it will reverse the classification output to make the incorrect classification correct. If error is 0.5, amount of say is 0.**\n",
    "\n",
    "![image.png](attachment:image.png)\n",
    "\n",
    "* The new sample weight = old sample weight * e^amount of say."
   ]
  },
  {
   "attachments": {
    "image.png": {
     "image/png": "[encoded data removed]"
    }
   },
   "cell_type": "markdown",
   "metadata": {},
   "source": [
    "* Next we will decrease the sample weights = sample weight * e^-amount of say. This is done to \n",
    "![image.png](attachment:image.png)\n",
    "* After we have found the sample weight we will make this the new weights for the correct and incorrect classifications and normalize them. These weights will now be used for the next stump. To create a new collection of samples and get rid of the old samples."
   ]
  },
  {
   "cell_type": "code",
   "execution_count": 104,
   "metadata": {},
   "outputs": [
    {
     "name": "stdout",
     "output_type": "stream",
     "text": [
      "AdaBoostRegressor() train RMSE is: 0.39052886865985376\n",
      "AdaBoostRegressor() train r2_score is: 0.7353442039559974\n",
      "AdaBoostRegressor() test RMSE is: 0.4506349193198997\n",
      "AdaBoostRegressor() test r2_score is: 0.6926460370462872\n"
     ]
    }
   ],
   "source": [
    "from sklearn.ensemble import AdaBoostRegressor\n",
    "non_linear_models(model_data,AdaBoostRegressor())\n",
    "#Adaboost model without tuning seems to have reduced the gap between the train and the test RMSE by 0.4 basis pts."
   ]
  },
  {
   "cell_type": "code",
   "execution_count": 105,
   "metadata": {},
   "outputs": [],
   "source": [
    "best_param_rf = {'bootstrap': True,\n",
    " 'criterion': 'mse',\n",
    " 'min_samples_leaf': 1,\n",
    " 'min_samples_split': 2,\n",
    " 'n_estimators': 225}"
   ]
  },
  {
   "cell_type": "code",
   "execution_count": 106,
   "metadata": {},
   "outputs": [],
   "source": [
    "# # dt = DecisionTreeRegressor(criterion = best_param_dt['criterion'],\n",
    "# #                                                    min_samples_leaf = best_param_dt['min_samples_leaf'],\n",
    "# #                                                    min_samples_split = best_param_dt['min_samples_split'])\n",
    "\n",
    "# rf = RandomForestRegressor(bootstrap = best_param_rf['bootstrap'],\n",
    "#                            criterion = best_param_rf['criterion'],\n",
    "#                            min_samples_leaf = best_param_rf['min_samples_leaf'],\n",
    "#                            min_samples_split = best_param_rf['min_samples_split'],\n",
    "#                            n_estimators = best_param_rf['n_estimators'])\n",
    "\n",
    "# params_abr = {\n",
    "#     'base_estimator':[rf],\n",
    "#     'n_estimators': [25,50,100,150],\n",
    "#     'learning_rate':[0.1,0.5,1.0,1.5,2],\n",
    "# }\n",
    "\n",
    "# best_param_abr = grid_search(model = AdaBoostRegressor(),x = x_train,y = y_train,params = params_abr,cv = 5,verbose = 2)\n",
    "# best_param_abr"
   ]
  },
  {
   "cell_type": "code",
   "execution_count": 107,
   "metadata": {},
   "outputs": [],
   "source": [
    "best_param_abr = {'base_estimator': RandomForestRegressor(n_estimators=225),\n",
    " 'learning_rate': 1.0,\n",
    " 'n_estimators': 100}"
   ]
  },
  {
   "cell_type": "code",
   "execution_count": 108,
   "metadata": {},
   "outputs": [],
   "source": [
    "# non_linear_models(model_data,AdaBoostRegressor(base_estimator = best_param_abr['base_estimator'],\n",
    "#                                                n_estimators = best_param_abr['n_estimators'],\n",
    "#                                                learning_rate = best_param_abr['learning_rate']))"
   ]
  },
  {
   "cell_type": "markdown",
   "metadata": {},
   "source": [
    "###### Since not all classifiers are considered equal and weights are playing a significant role, we have been able to increase our test score to 90% in this case. However I still feel the model is overfitting because our train score is 99% and testRMSE is grater than train RMSE. It took around 2.5 hours on my system to run the grid search!!!!"
   ]
  },
  {
   "cell_type": "code",
   "execution_count": 109,
   "metadata": {
    "scrolled": true
   },
   "outputs": [],
   "source": [
    "# #Applying cross validation score\n",
    "# best_abr = AdaBoostRegressor(base_estimator = best_param_abr['base_estimator'],\n",
    "#                                                n_estimators = best_param_abr['n_estimators'],\n",
    "#                                                learning_rate = best_param_abr['learning_rate'])\n",
    "# cross_val(estimator = best_abr,X = x_train,y = y_train,cv = 5,verbose = 2)"
   ]
  },
  {
   "cell_type": "markdown",
   "metadata": {},
   "source": [
    "###### Adaboost seems to be overfitting on my dataset at this instance. I would look at gradient boosting next. Where along with weights we are also reducing the error using gradient descent."
   ]
  },
  {
   "cell_type": "markdown",
   "metadata": {},
   "source": [
    "### GradientBoosting"
   ]
  },
  {
   "cell_type": "code",
   "execution_count": 110,
   "metadata": {},
   "outputs": [
    {
     "name": "stdout",
     "output_type": "stream",
     "text": [
      "GradientBoostingRegressor() train RMSE is: 0.2343529608503499\n",
      "GradientBoostingRegressor() train r2_score is: 0.9046949282426947\n",
      "GradientBoostingRegressor() test RMSE is: 0.33331046480549353\n",
      "GradientBoostingRegressor() test r2_score is: 0.8318538096528498\n"
     ]
    }
   ],
   "source": [
    "from sklearn.ensemble import GradientBoostingRegressor\n",
    "non_linear_models(data = model_data,model = GradientBoostingRegressor())\n",
    "#Without applying any kind of parameter tuning, GradientBoosting is performing very well."
   ]
  },
  {
   "cell_type": "code",
   "execution_count": 111,
   "metadata": {},
   "outputs": [],
   "source": [
    "params_gbr = {\n",
    "        'learning_rate': [0.001,0.01,0.05,0.1,0.5,1,1.5,2],\n",
    "        'n_estimators': [50,100,150,200,250,300],\n",
    "        'min_samples_leaf': [8,10,15,20,25,32],\n",
    "        'min_samples_split':[100,150,200,250],\n",
    "        'max_depth':[5,6,7,8],\n",
    "        'subsample':[0.1,0.5,0.8,1]\n",
    "}"
   ]
  },
  {
   "cell_type": "code",
   "execution_count": 112,
   "metadata": {
    "scrolled": true
   },
   "outputs": [],
   "source": [
    "# gbr_best = grid_search(model = GradientBoostingRegressor(),\n",
    "#             x = x_train,\n",
    "#             y = y_train,\n",
    "#             params = params_gbr,\n",
    "#             cv = 5,\n",
    "#             verbose = 3,\n",
    "#             n_jobs = 4\n",
    "#            )\n",
    "# gbr_best"
   ]
  },
  {
   "cell_type": "code",
   "execution_count": 113,
   "metadata": {},
   "outputs": [],
   "source": [
    "gbr_best = {'learning_rate': 0.1,\n",
    " 'max_depth': 8,\n",
    " 'min_samples_leaf': 8,\n",
    " 'min_samples_split': 100,\n",
    " 'n_estimators': 300,\n",
    " 'subsample': 0.8}"
   ]
  },
  {
   "cell_type": "code",
   "execution_count": 114,
   "metadata": {},
   "outputs": [
    {
     "name": "stdout",
     "output_type": "stream",
     "text": [
      "GradientBoostingRegressor(max_depth=8, min_samples_leaf=8,\n",
      "                          min_samples_split=100, n_estimators=300,\n",
      "                          subsample=0.8) train RMSE is: 0.09258500678645878\n",
      "GradientBoostingRegressor(max_depth=8, min_samples_leaf=8,\n",
      "                          min_samples_split=100, n_estimators=300,\n",
      "                          subsample=0.8) train r2_score is: 0.9851250180127988\n",
      "GradientBoostingRegressor(max_depth=8, min_samples_leaf=8,\n",
      "                          min_samples_split=100, n_estimators=300,\n",
      "                          subsample=0.8) test RMSE is: 0.30293612991115065\n",
      "GradientBoostingRegressor(max_depth=8, min_samples_leaf=8,\n",
      "                          min_samples_split=100, n_estimators=300,\n",
      "                          subsample=0.8) test r2_score is: 0.8611035073233411\n"
     ]
    }
   ],
   "source": [
    "non_linear_models(data = model_data,\n",
    "                  model = GradientBoostingRegressor(\n",
    "                      learning_rate = gbr_best['learning_rate'],\n",
    "                      n_estimators = gbr_best['n_estimators'],\n",
    "                      min_samples_leaf = gbr_best['min_samples_leaf'],\n",
    "                      min_samples_split = gbr_best['min_samples_split'],\n",
    "                      max_depth = gbr_best['max_depth'],\n",
    "                      subsample = gbr_best['subsample']\n",
    "                  ))\n"
   ]
  },
  {
   "cell_type": "markdown",
   "metadata": {},
   "source": [
    "###### There is a slight reduction in the train score which tells me that gradient boosting has introduced some bias and reduced overfitting."
   ]
  },
  {
   "cell_type": "code",
   "execution_count": 115,
   "metadata": {},
   "outputs": [],
   "source": [
    "gbr_model = GradientBoostingRegressor(\n",
    "                      learning_rate = gbr_best['learning_rate'],\n",
    "                      n_estimators = gbr_best['n_estimators'],\n",
    "                      min_samples_leaf = gbr_best['min_samples_leaf'],\n",
    "                      min_samples_split = gbr_best['min_samples_split'],\n",
    "                      max_depth = gbr_best['max_depth'],\n",
    "                      subsample = gbr_best['subsample']\n",
    "                  )\n",
    "gbr_model.fit(x_train,y_train)\n",
    "train_pred = gbr_model.predict(x_train)\n",
    "test_pred = gbr_model.predict(x_test)"
   ]
  },
  {
   "cell_type": "code",
   "execution_count": 116,
   "metadata": {},
   "outputs": [
    {
     "name": "stdout",
     "output_type": "stream",
     "text": [
      "GradientBoostRegressor train RMSE is: 0.09192653993225001\n",
      "GradientBoostRegressor train r2_score is: 0.9853358481012128\n"
     ]
    }
   ],
   "source": [
    "metrics(y = y_train,ypred = train_pred,model_name = 'GradientBoostRegressor train')"
   ]
  },
  {
   "cell_type": "code",
   "execution_count": 117,
   "metadata": {},
   "outputs": [
    {
     "name": "stdout",
     "output_type": "stream",
     "text": [
      "GradientBoostRegressor test RMSE is: 0.2982957815269382\n",
      "GradientBoostRegressor test r2_score is: 0.8653261248348907\n"
     ]
    }
   ],
   "source": [
    "metrics(y = y_test,ypred = test_pred,model_name = 'GradientBoostRegressor test')"
   ]
  },
  {
   "cell_type": "code",
   "execution_count": 118,
   "metadata": {},
   "outputs": [],
   "source": [
    "#Apply cross_val_score on entire dataset.\n",
    "# cross_val(estimator = gbr_model,X = x,y = y,cv = 15,verbose = 1)"
   ]
  },
  {
   "cell_type": "code",
   "execution_count": 119,
   "metadata": {},
   "outputs": [],
   "source": [
    "#Saving this model\n",
    "import pickle\n",
    "filename = 'gbrmodel.pickle'\n",
    "pickle.dump(obj = gbr_model,file = open('Saved Models/'+filename,'wb'))"
   ]
  },
  {
   "cell_type": "markdown",
   "metadata": {},
   "source": [
    "### XGBoost"
   ]
  },
  {
   "cell_type": "code",
   "execution_count": 120,
   "metadata": {},
   "outputs": [],
   "source": [
    "import xgboost as xgb\n",
    "from xgboost import XGBRegressor"
   ]
  },
  {
   "cell_type": "code",
   "execution_count": 121,
   "metadata": {},
   "outputs": [
    {
     "data": {
      "text/html": [
       "<div>\n",
       "<style scoped>\n",
       "    .dataframe tbody tr th:only-of-type {\n",
       "        vertical-align: middle;\n",
       "    }\n",
       "\n",
       "    .dataframe tbody tr th {\n",
       "        vertical-align: top;\n",
       "    }\n",
       "\n",
       "    .dataframe thead th {\n",
       "        text-align: right;\n",
       "    }\n",
       "</style>\n",
       "<table border=\"1\" class=\"dataframe\">\n",
       "  <thead>\n",
       "    <tr style=\"text-align: right;\">\n",
       "      <th></th>\n",
       "      <th>bathrooms</th>\n",
       "      <th>price</th>\n",
       "      <th>BHK</th>\n",
       "      <th>no_of_parking</th>\n",
       "      <th>longitude</th>\n",
       "      <th>latitude</th>\n",
       "      <th>area_log</th>\n",
       "      <th>flat_floor_no_log</th>\n",
       "      <th>total_floors_log</th>\n",
       "      <th>Possession_Status_received</th>\n",
       "      <th>new_or_resale_Resale</th>\n",
       "      <th>furnishing_Semi-Furnished</th>\n",
       "      <th>furnishing_Unfurnished</th>\n",
       "      <th>overlooking_other</th>\n",
       "      <th>config_Studio</th>\n",
       "      <th>config_apartment</th>\n",
       "      <th>config_other</th>\n",
       "      <th>parking_type_Open</th>\n",
       "      <th>parking_type_both</th>\n",
       "    </tr>\n",
       "  </thead>\n",
       "  <tbody>\n",
       "    <tr>\n",
       "      <th>1429</th>\n",
       "      <td>3.0</td>\n",
       "      <td>2.251292</td>\n",
       "      <td>4</td>\n",
       "      <td>2</td>\n",
       "      <td>72.830860</td>\n",
       "      <td>18.996332</td>\n",
       "      <td>7.824046</td>\n",
       "      <td>2.890372</td>\n",
       "      <td>4.077537</td>\n",
       "      <td>1</td>\n",
       "      <td>1</td>\n",
       "      <td>1</td>\n",
       "      <td>0</td>\n",
       "      <td>1</td>\n",
       "      <td>0</td>\n",
       "      <td>1</td>\n",
       "      <td>0</td>\n",
       "      <td>0</td>\n",
       "      <td>0</td>\n",
       "    </tr>\n",
       "    <tr>\n",
       "      <th>293</th>\n",
       "      <td>2.0</td>\n",
       "      <td>0.139762</td>\n",
       "      <td>1</td>\n",
       "      <td>0</td>\n",
       "      <td>72.862232</td>\n",
       "      <td>19.076838</td>\n",
       "      <td>6.040255</td>\n",
       "      <td>1.609438</td>\n",
       "      <td>1.945910</td>\n",
       "      <td>1</td>\n",
       "      <td>1</td>\n",
       "      <td>1</td>\n",
       "      <td>0</td>\n",
       "      <td>1</td>\n",
       "      <td>0</td>\n",
       "      <td>1</td>\n",
       "      <td>0</td>\n",
       "      <td>1</td>\n",
       "      <td>0</td>\n",
       "    </tr>\n",
       "    <tr>\n",
       "      <th>1087</th>\n",
       "      <td>1.0</td>\n",
       "      <td>-0.105361</td>\n",
       "      <td>1</td>\n",
       "      <td>1</td>\n",
       "      <td>72.951196</td>\n",
       "      <td>19.171972</td>\n",
       "      <td>6.124683</td>\n",
       "      <td>3.091042</td>\n",
       "      <td>4.204693</td>\n",
       "      <td>0</td>\n",
       "      <td>0</td>\n",
       "      <td>0</td>\n",
       "      <td>1</td>\n",
       "      <td>1</td>\n",
       "      <td>0</td>\n",
       "      <td>1</td>\n",
       "      <td>0</td>\n",
       "      <td>0</td>\n",
       "      <td>0</td>\n",
       "    </tr>\n",
       "    <tr>\n",
       "      <th>1497</th>\n",
       "      <td>3.0</td>\n",
       "      <td>1.011601</td>\n",
       "      <td>3</td>\n",
       "      <td>0</td>\n",
       "      <td>72.833968</td>\n",
       "      <td>19.117249</td>\n",
       "      <td>6.813445</td>\n",
       "      <td>1.609438</td>\n",
       "      <td>2.564949</td>\n",
       "      <td>1</td>\n",
       "      <td>1</td>\n",
       "      <td>0</td>\n",
       "      <td>1</td>\n",
       "      <td>0</td>\n",
       "      <td>0</td>\n",
       "      <td>1</td>\n",
       "      <td>0</td>\n",
       "      <td>1</td>\n",
       "      <td>0</td>\n",
       "    </tr>\n",
       "    <tr>\n",
       "      <th>832</th>\n",
       "      <td>5.0</td>\n",
       "      <td>2.602690</td>\n",
       "      <td>5</td>\n",
       "      <td>5</td>\n",
       "      <td>72.840290</td>\n",
       "      <td>19.103873</td>\n",
       "      <td>7.043160</td>\n",
       "      <td>2.397895</td>\n",
       "      <td>2.639057</td>\n",
       "      <td>1</td>\n",
       "      <td>1</td>\n",
       "      <td>0</td>\n",
       "      <td>1</td>\n",
       "      <td>0</td>\n",
       "      <td>0</td>\n",
       "      <td>1</td>\n",
       "      <td>0</td>\n",
       "      <td>0</td>\n",
       "      <td>0</td>\n",
       "    </tr>\n",
       "  </tbody>\n",
       "</table>\n",
       "</div>"
      ],
      "text/plain": [
       "      bathrooms     price  BHK  no_of_parking  longitude   latitude  area_log  \\\n",
       "1429        3.0  2.251292    4              2  72.830860  18.996332  7.824046   \n",
       "293         2.0  0.139762    1              0  72.862232  19.076838  6.040255   \n",
       "1087        1.0 -0.105361    1              1  72.951196  19.171972  6.124683   \n",
       "1497        3.0  1.011601    3              0  72.833968  19.117249  6.813445   \n",
       "832         5.0  2.602690    5              5  72.840290  19.103873  7.043160   \n",
       "\n",
       "      flat_floor_no_log  total_floors_log  Possession_Status_received  \\\n",
       "1429           2.890372          4.077537                           1   \n",
       "293            1.609438          1.945910                           1   \n",
       "1087           3.091042          4.204693                           0   \n",
       "1497           1.609438          2.564949                           1   \n",
       "832            2.397895          2.639057                           1   \n",
       "\n",
       "      new_or_resale_Resale  furnishing_Semi-Furnished  furnishing_Unfurnished  \\\n",
       "1429                     1                          1                       0   \n",
       "293                      1                          1                       0   \n",
       "1087                     0                          0                       1   \n",
       "1497                     1                          0                       1   \n",
       "832                      1                          0                       1   \n",
       "\n",
       "      overlooking_other  config_Studio  config_apartment  config_other  \\\n",
       "1429                  1              0                 1             0   \n",
       "293                   1              0                 1             0   \n",
       "1087                  1              0                 1             0   \n",
       "1497                  0              0                 1             0   \n",
       "832                   0              0                 1             0   \n",
       "\n",
       "      parking_type_Open  parking_type_both  \n",
       "1429                  0                  0  \n",
       "293                   1                  0  \n",
       "1087                  0                  0  \n",
       "1497                  1                  0  \n",
       "832                   0                  0  "
      ]
     },
     "execution_count": 121,
     "metadata": {},
     "output_type": "execute_result"
    }
   ],
   "source": [
    "model_data.sample(5)"
   ]
  },
  {
   "cell_type": "code",
   "execution_count": 122,
   "metadata": {
    "scrolled": true
   },
   "outputs": [
    {
     "name": "stdout",
     "output_type": "stream",
     "text": [
      "[0]\tvalidation_0-rmse:0.65818\n",
      "[1]\tvalidation_0-rmse:0.54986\n",
      "[2]\tvalidation_0-rmse:0.47215\n",
      "[3]\tvalidation_0-rmse:0.42487\n",
      "[4]\tvalidation_0-rmse:0.38892\n",
      "[5]\tvalidation_0-rmse:0.37441\n",
      "[6]\tvalidation_0-rmse:0.35368\n",
      "[7]\tvalidation_0-rmse:0.34737\n",
      "[8]\tvalidation_0-rmse:0.34229\n",
      "[9]\tvalidation_0-rmse:0.33699\n",
      "[10]\tvalidation_0-rmse:0.33306\n",
      "[11]\tvalidation_0-rmse:0.32766\n",
      "[12]\tvalidation_0-rmse:0.32128\n",
      "[13]\tvalidation_0-rmse:0.31986\n",
      "[14]\tvalidation_0-rmse:0.31722\n",
      "[15]\tvalidation_0-rmse:0.31525\n",
      "[16]\tvalidation_0-rmse:0.31360\n",
      "[17]\tvalidation_0-rmse:0.31188\n",
      "[18]\tvalidation_0-rmse:0.31145\n",
      "[19]\tvalidation_0-rmse:0.30814\n",
      "[20]\tvalidation_0-rmse:0.30863\n",
      "[21]\tvalidation_0-rmse:0.30464\n",
      "[22]\tvalidation_0-rmse:0.30192\n",
      "[23]\tvalidation_0-rmse:0.30066\n",
      "[24]\tvalidation_0-rmse:0.30057\n",
      "[25]\tvalidation_0-rmse:0.30001\n",
      "[26]\tvalidation_0-rmse:0.29879\n",
      "[27]\tvalidation_0-rmse:0.29781\n",
      "[28]\tvalidation_0-rmse:0.29763\n",
      "[29]\tvalidation_0-rmse:0.29762\n",
      "[30]\tvalidation_0-rmse:0.29701\n",
      "[31]\tvalidation_0-rmse:0.29532\n",
      "[32]\tvalidation_0-rmse:0.29487\n",
      "[33]\tvalidation_0-rmse:0.29338\n",
      "[34]\tvalidation_0-rmse:0.29308\n",
      "[35]\tvalidation_0-rmse:0.29025\n",
      "[36]\tvalidation_0-rmse:0.29034\n",
      "[37]\tvalidation_0-rmse:0.28966\n",
      "[38]\tvalidation_0-rmse:0.28942\n",
      "[39]\tvalidation_0-rmse:0.28892\n",
      "[40]\tvalidation_0-rmse:0.28863\n",
      "[41]\tvalidation_0-rmse:0.28881\n",
      "[42]\tvalidation_0-rmse:0.28616\n",
      "[43]\tvalidation_0-rmse:0.28608\n",
      "[44]\tvalidation_0-rmse:0.28627\n",
      "[45]\tvalidation_0-rmse:0.28636\n",
      "[46]\tvalidation_0-rmse:0.28620\n",
      "[47]\tvalidation_0-rmse:0.28629\n",
      "[48]\tvalidation_0-rmse:0.28623\n",
      "[49]\tvalidation_0-rmse:0.28596\n",
      "[50]\tvalidation_0-rmse:0.28593\n",
      "[51]\tvalidation_0-rmse:0.28550\n",
      "[52]\tvalidation_0-rmse:0.28546\n",
      "[53]\tvalidation_0-rmse:0.28519\n",
      "[54]\tvalidation_0-rmse:0.28499\n",
      "[55]\tvalidation_0-rmse:0.28425\n",
      "[56]\tvalidation_0-rmse:0.28403\n",
      "[57]\tvalidation_0-rmse:0.28396\n",
      "[58]\tvalidation_0-rmse:0.28393\n",
      "[59]\tvalidation_0-rmse:0.28419\n",
      "[60]\tvalidation_0-rmse:0.28364\n",
      "[61]\tvalidation_0-rmse:0.28360\n",
      "[62]\tvalidation_0-rmse:0.28357\n",
      "[63]\tvalidation_0-rmse:0.28356\n",
      "[64]\tvalidation_0-rmse:0.28336\n",
      "[65]\tvalidation_0-rmse:0.28342\n",
      "[66]\tvalidation_0-rmse:0.28331\n",
      "[67]\tvalidation_0-rmse:0.28339\n",
      "[68]\tvalidation_0-rmse:0.28345\n",
      "[69]\tvalidation_0-rmse:0.28359\n",
      "[70]\tvalidation_0-rmse:0.28387\n",
      "[71]\tvalidation_0-rmse:0.28376\n",
      "[72]\tvalidation_0-rmse:0.28364\n",
      "[73]\tvalidation_0-rmse:0.28365\n",
      "[74]\tvalidation_0-rmse:0.28354\n",
      "[75]\tvalidation_0-rmse:0.28314\n",
      "[76]\tvalidation_0-rmse:0.28284\n",
      "[77]\tvalidation_0-rmse:0.28275\n",
      "[78]\tvalidation_0-rmse:0.28254\n",
      "[79]\tvalidation_0-rmse:0.28229\n",
      "[80]\tvalidation_0-rmse:0.28255\n",
      "[81]\tvalidation_0-rmse:0.28247\n",
      "[82]\tvalidation_0-rmse:0.28238\n",
      "[83]\tvalidation_0-rmse:0.28276\n",
      "[84]\tvalidation_0-rmse:0.28250\n",
      "[85]\tvalidation_0-rmse:0.28278\n",
      "[86]\tvalidation_0-rmse:0.28255\n",
      "[87]\tvalidation_0-rmse:0.28263\n",
      "[88]\tvalidation_0-rmse:0.28295\n",
      "[89]\tvalidation_0-rmse:0.28284\n",
      "[90]\tvalidation_0-rmse:0.28277\n",
      "[91]\tvalidation_0-rmse:0.28252\n",
      "[92]\tvalidation_0-rmse:0.28246\n",
      "[93]\tvalidation_0-rmse:0.28244\n",
      "[94]\tvalidation_0-rmse:0.28238\n",
      "[95]\tvalidation_0-rmse:0.28216\n",
      "[96]\tvalidation_0-rmse:0.28208\n",
      "[97]\tvalidation_0-rmse:0.28220\n",
      "[98]\tvalidation_0-rmse:0.28215\n",
      "[99]\tvalidation_0-rmse:0.28212\n"
     ]
    }
   ],
   "source": [
    "reg_xgb = XGBRegressor()\n",
    "model_xgb = reg_xgb.fit(x_train,y_train,verbose = True,early_stopping_rounds = 20,eval_set = [(x_test,y_test)])"
   ]
  },
  {
   "cell_type": "code",
   "execution_count": 123,
   "metadata": {},
   "outputs": [
    {
     "name": "stdout",
     "output_type": "stream",
     "text": [
      "train_xgbRegressor RMSE is: 0.02923902074679237\n",
      "train_xgbRegressor r2_score is: 0.9985164548439216\n",
      "test_xgbRegressor RMSE is: 0.2820782618803202\n",
      "test_xgbRegressor r2_score is: 0.8795717511244685\n"
     ]
    }
   ],
   "source": [
    "train_ypred = model_xgb.predict(x_train)\n",
    "metrics(y_train,train_ypred,model_name = 'train_xgbRegressor')\n",
    "\n",
    "test_ypred = model_xgb.predict(x_test)\n",
    "metrics(y_test,test_ypred,model_name = 'test_xgbRegressor')"
   ]
  },
  {
   "cell_type": "markdown",
   "metadata": {},
   "source": [
    "While the model is still overfitting. But the gap between train and test scores has reduced from gradientboost. Trying gridsearch to see if there is any improvement."
   ]
  },
  {
   "cell_type": "code",
   "execution_count": 306,
   "metadata": {},
   "outputs": [],
   "source": [
    "xgb_params = {\n",
    "    'max_depth':list(range(20)),\n",
    "    'subsample': [0.4,0.5,0.6,0.7,0.8],\n",
    "    'n_estimators': list(range(50,300,50)),\n",
    "    'learning_rate': [0.01,0.05,0.07,0.1,0.5,0.7,0.9],\n",
    "    'colsample_bytree': [0.7,0.8,0.9]\n",
    "}"
   ]
  },
  {
   "cell_type": "code",
   "execution_count": null,
   "metadata": {},
   "outputs": [],
   "source": []
  },
  {
   "cell_type": "code",
   "execution_count": 307,
   "metadata": {},
   "outputs": [
    {
     "name": "stdout",
     "output_type": "stream",
     "text": [
      "Fitting 5 folds for each of 10500 candidates, totalling 52500 fits\n"
     ]
    },
    {
     "name": "stderr",
     "output_type": "stream",
     "text": [
      "[Parallel(n_jobs=6)]: Using backend LokyBackend with 6 concurrent workers.\n",
      "[Parallel(n_jobs=6)]: Done  38 tasks      | elapsed:    4.2s\n",
      "[Parallel(n_jobs=6)]: Done 322 tasks      | elapsed:   11.6s\n",
      "[Parallel(n_jobs=6)]: Done 720 tasks      | elapsed:   36.8s\n",
      "[Parallel(n_jobs=6)]: Done 1070 tasks      | elapsed:  1.4min\n",
      "[Parallel(n_jobs=6)]: Done 1520 tasks      | elapsed:  3.1min\n",
      "[Parallel(n_jobs=6)]: Done 2070 tasks      | elapsed:  6.0min\n",
      "[Parallel(n_jobs=6)]: Done 2720 tasks      | elapsed:  9.0min\n",
      "[Parallel(n_jobs=6)]: Done 3470 tasks      | elapsed: 10.1min\n",
      "[Parallel(n_jobs=6)]: Done 4320 tasks      | elapsed: 13.7min\n",
      "[Parallel(n_jobs=6)]: Done 5380 tasks      | elapsed: 18.7min\n",
      "[Parallel(n_jobs=6)]: Done 6500 tasks      | elapsed: 21.6min\n",
      "[Parallel(n_jobs=6)]: Done 7650 tasks      | elapsed: 28.0min\n",
      "[Parallel(n_jobs=6)]: Done 8900 tasks      | elapsed: 30.6min\n",
      "[Parallel(n_jobs=6)]: Done 10250 tasks      | elapsed: 37.2min\n",
      "[Parallel(n_jobs=6)]: Done 11700 tasks      | elapsed: 40.3min\n",
      "[Parallel(n_jobs=6)]: Done 13250 tasks      | elapsed: 43.7min\n",
      "[Parallel(n_jobs=6)]: Done 14900 tasks      | elapsed: 48.3min\n",
      "[Parallel(n_jobs=6)]: Done 16650 tasks      | elapsed: 51.6min\n",
      "[Parallel(n_jobs=6)]: Done 18740 tasks      | elapsed: 56.4min\n",
      "[Parallel(n_jobs=6)]: Done 20690 tasks      | elapsed: 64.1min\n",
      "[Parallel(n_jobs=6)]: Done 22740 tasks      | elapsed: 73.4min\n",
      "[Parallel(n_jobs=6)]: Done 24890 tasks      | elapsed: 82.1min\n",
      "[Parallel(n_jobs=6)]: Done 27140 tasks      | elapsed: 89.8min\n",
      "[Parallel(n_jobs=6)]: Done 29490 tasks      | elapsed: 96.6min\n",
      "[Parallel(n_jobs=6)]: Done 31940 tasks      | elapsed: 102.2min\n",
      "[Parallel(n_jobs=6)]: Done 34490 tasks      | elapsed: 108.0min\n",
      "[Parallel(n_jobs=6)]: Done 37140 tasks      | elapsed: 116.6min\n",
      "[Parallel(n_jobs=6)]: Done 39890 tasks      | elapsed: 128.1min\n",
      "[Parallel(n_jobs=6)]: Done 42740 tasks      | elapsed: 139.2min\n",
      "[Parallel(n_jobs=6)]: Done 45690 tasks      | elapsed: 149.4min\n",
      "[Parallel(n_jobs=6)]: Done 48914 tasks      | elapsed: 157.2min\n",
      "[Parallel(n_jobs=6)]: Done 52232 tasks      | elapsed: 165.4min\n",
      "[Parallel(n_jobs=6)]: Done 52500 out of 52500 | elapsed: 166.2min finished\n"
     ]
    },
    {
     "data": {
      "text/plain": [
       "{'colsample_bytree': 0.9,\n",
       " 'learning_rate': 0.1,\n",
       " 'max_depth': 5,\n",
       " 'n_estimators': 250,\n",
       " 'subsample': 0.8}"
      ]
     },
     "execution_count": 307,
     "metadata": {},
     "output_type": "execute_result"
    }
   ],
   "source": [
    "xgb_best = grid_search(model = XGBRegressor(),x = x_train,y = y_train,params = xgb_params,cv = 5,verbose = 1,n_jobs = 6)\n",
    "xgb_best"
   ]
  },
  {
   "cell_type": "code",
   "execution_count": null,
   "metadata": {},
   "outputs": [],
   "source": [
    "xgb_best = {'colsample_bytree': 0.9,\n",
    " 'learning_rate': 0.1,\n",
    " 'max_depth': 5,\n",
    " 'n_estimators': 250,\n",
    " 'subsample': 0.8}"
   ]
  },
  {
   "cell_type": "code",
   "execution_count": 308,
   "metadata": {
    "scrolled": true
   },
   "outputs": [],
   "source": [
    "best_xgb = XGBRegressor(max_depth = xgb_best['max_depth'],\n",
    "                        subsample = xgb_best['subsample'],\n",
    "                        n_estimators = xgb_best['n_estimators'],\n",
    "                        learning_rate = xgb_best['learning_rate'],\n",
    "                        colsample_bytree = xgb_best['colsample_bytree'],\n",
    "                       random_state = 42)\n",
    "model_best = best_xgb.fit(x_train,y_train,verbose = False,early_stopping_rounds = 20,eval_set = [(x_test,y_test)])"
   ]
  },
  {
   "cell_type": "code",
   "execution_count": 318,
   "metadata": {},
   "outputs": [
    {
     "data": {
      "text/plain": [
       "XGBRegressor(base_score=0.5, booster='gbtree', colsample_bylevel=1,\n",
       "             colsample_bynode=1, colsample_bytree=0.9, gamma=0, gpu_id=-1,\n",
       "             importance_type='gain', interaction_constraints='',\n",
       "             learning_rate=0.1, max_delta_step=0, max_depth=5,\n",
       "             min_child_weight=1, missing=nan, monotone_constraints='()',\n",
       "             n_estimators=250, n_jobs=8, num_parallel_tree=1, random_state=42,\n",
       "             reg_alpha=0, reg_lambda=1, scale_pos_weight=1, subsample=0.8,\n",
       "             tree_method='exact', validate_parameters=1, verbosity=None)"
      ]
     },
     "execution_count": 318,
     "metadata": {},
     "output_type": "execute_result"
    }
   ],
   "source": []
  },
  {
   "cell_type": "code",
   "execution_count": 309,
   "metadata": {},
   "outputs": [
    {
     "name": "stdout",
     "output_type": "stream",
     "text": [
      "train_xgbRegressor RMSE is: 0.06423864894784224\n",
      "train_xgbRegressor r2_score is: 0.9928390948749428\n",
      "test_xgbRegressor RMSE is: 0.28676656330688854\n",
      "test_xgbRegressor r2_score is: 0.8755353114022753\n"
     ]
    }
   ],
   "source": [
    "train_ypred1 = model_best.predict(x_train)\n",
    "metrics(y_train,train_ypred1,model_name = 'train_xgbRegressor')\n",
    "\n",
    "test_ypred1 = model_best.predict(x_test)\n",
    "metrics(y_test,test_ypred1,model_name = 'test_xgbRegressor')"
   ]
  },
  {
   "cell_type": "code",
   "execution_count": 310,
   "metadata": {
    "scrolled": false
   },
   "outputs": [
    {
     "name": "stdout",
     "output_type": "stream",
     "text": [
      "[CV]  ................................................................\n"
     ]
    },
    {
     "name": "stderr",
     "output_type": "stream",
     "text": [
      "[Parallel(n_jobs=1)]: Using backend SequentialBackend with 1 concurrent workers.\n"
     ]
    },
    {
     "name": "stdout",
     "output_type": "stream",
     "text": [
      "[CV] .................................... , score=0.950, total=   0.6s\n",
      "[CV]  ................................................................\n"
     ]
    },
    {
     "name": "stderr",
     "output_type": "stream",
     "text": [
      "[Parallel(n_jobs=1)]: Done   1 out of   1 | elapsed:    0.5s remaining:    0.0s\n"
     ]
    },
    {
     "name": "stdout",
     "output_type": "stream",
     "text": [
      "[CV] .................................... , score=0.923, total=   0.6s\n",
      "[CV]  ................................................................\n"
     ]
    },
    {
     "name": "stderr",
     "output_type": "stream",
     "text": [
      "[Parallel(n_jobs=1)]: Done   2 out of   2 | elapsed:    1.1s remaining:    0.0s\n"
     ]
    },
    {
     "name": "stdout",
     "output_type": "stream",
     "text": [
      "[CV] .................................... , score=0.897, total=   0.6s\n",
      "[CV]  ................................................................\n",
      "[CV] .................................... , score=0.884, total=   0.6s\n",
      "[CV]  ................................................................\n",
      "[CV] .................................... , score=0.916, total=   0.6s\n",
      "[CV]  ................................................................\n",
      "[CV] .................................... , score=0.927, total=   0.5s\n",
      "[CV]  ................................................................\n",
      "[CV] .................................... , score=0.931, total=   0.5s\n",
      "[CV]  ................................................................\n",
      "[CV] .................................... , score=0.916, total=   0.5s\n",
      "Min Cross_val_score: 0.8843751506798786\n",
      "Max Cross_val_score: 0.9504813081575362\n",
      "Average Cross_val_score: 0.9180596888914598\n"
     ]
    },
    {
     "name": "stderr",
     "output_type": "stream",
     "text": [
      "[Parallel(n_jobs=1)]: Done   8 out of   8 | elapsed:    4.4s finished\n"
     ]
    }
   ],
   "source": [
    "cross_val(estimator = best_xgb,X = x,y = y,cv = 8,verbose = 3)"
   ]
  },
  {
   "cell_type": "markdown",
   "metadata": {},
   "source": [
    "###### Saving the model"
   ]
  },
  {
   "cell_type": "code",
   "execution_count": 311,
   "metadata": {},
   "outputs": [],
   "source": [
    "#import pickle\n",
    "filename = 'Saved Models/xgbmodel.model'\n",
    "#pickle.dump(obj = best_xgb,file = open('Saved Models/'+filename,'wb'))\n",
    "import joblib\n",
    "#save model\n",
    "joblib.dump(model_best, filename) \n",
    "\n",
    "#load saved model\n",
    "model = joblib.load(filename)"
   ]
  },
  {
   "cell_type": "markdown",
   "metadata": {},
   "source": [
    "###### Making predictions"
   ]
  },
  {
   "cell_type": "code",
   "execution_count": 312,
   "metadata": {},
   "outputs": [],
   "source": [
    "# import pickle\n",
    "# model = pickle.load(open('C:/Users/tejas/Desktop/real-estate-price-prediction-end-to-end-project-with-deployment/Jupyter Notebooks/Saved Models/xgbmodel.pickle','rb'))"
   ]
  },
  {
   "cell_type": "markdown",
   "metadata": {},
   "source": [
    "###### Making predictions"
   ]
  },
  {
   "cell_type": "code",
   "execution_count": 313,
   "metadata": {},
   "outputs": [],
   "source": [
    "def lat_long_gen(location):\n",
    "    import geopy\n",
    "    from geopy.geocoders import Nominatim\n",
    "    locator = Nominatim(user_agent=\"myGeocoder\")\n",
    "    locating = locator.geocode(location)\n",
    "    return locating.longitude,locating.latitude    "
   ]
  },
  {
   "cell_type": "code",
   "execution_count": 314,
   "metadata": {},
   "outputs": [],
   "source": [
    "longitude,latitude = lat_long_gen('Thane West')"
   ]
  },
  {
   "cell_type": "code",
   "execution_count": 315,
   "metadata": {},
   "outputs": [],
   "source": [
    "bathrooms = 2 \n",
    "BHK = 2#\n",
    "no_of_parking = 1\n",
    "area = 661\n",
    "flat_floor_no = 7\n",
    "total_floors = 42\n",
    "Possession_Status_received = 1\n",
    "new_or_resale_Resale = 0\n",
    "furnishing_Semi_Furnished,furnishing_Unfurnished = [0,1]\n",
    "overlooking_other = 1\n",
    "config_Studio,config_apartment,config_other = [0,1,0]\n",
    "parking_type_open,parking_type_both = [1,0]"
   ]
  },
  {
   "cell_type": "code",
   "execution_count": 316,
   "metadata": {},
   "outputs": [
    {
     "data": {
      "text/html": [
       "<div>\n",
       "<style scoped>\n",
       "    .dataframe tbody tr th:only-of-type {\n",
       "        vertical-align: middle;\n",
       "    }\n",
       "\n",
       "    .dataframe tbody tr th {\n",
       "        vertical-align: top;\n",
       "    }\n",
       "\n",
       "    .dataframe thead th {\n",
       "        text-align: right;\n",
       "    }\n",
       "</style>\n",
       "<table border=\"1\" class=\"dataframe\">\n",
       "  <thead>\n",
       "    <tr style=\"text-align: right;\">\n",
       "      <th></th>\n",
       "      <th>bathrooms</th>\n",
       "      <th>BHK</th>\n",
       "      <th>no_of_parking</th>\n",
       "      <th>longitude</th>\n",
       "      <th>latitude</th>\n",
       "      <th>area_log</th>\n",
       "      <th>flat_floor_no_log</th>\n",
       "      <th>total_floors_log</th>\n",
       "      <th>Possession_Status_received</th>\n",
       "      <th>new_or_resale_Resale</th>\n",
       "      <th>furnishing_Semi-Furnished</th>\n",
       "      <th>furnishing_Unfurnished</th>\n",
       "      <th>overlooking_other</th>\n",
       "      <th>config_Studio</th>\n",
       "      <th>config_apartment</th>\n",
       "      <th>config_other</th>\n",
       "      <th>parking_type_Open</th>\n",
       "      <th>parking_type_both</th>\n",
       "    </tr>\n",
       "  </thead>\n",
       "  <tbody>\n",
       "    <tr>\n",
       "      <th>0</th>\n",
       "      <td>2.0</td>\n",
       "      <td>2.0</td>\n",
       "      <td>1.0</td>\n",
       "      <td>72.977564</td>\n",
       "      <td>19.19146</td>\n",
       "      <td>6.493754</td>\n",
       "      <td>1.94591</td>\n",
       "      <td>3.73767</td>\n",
       "      <td>1.0</td>\n",
       "      <td>0.0</td>\n",
       "      <td>0.0</td>\n",
       "      <td>1.0</td>\n",
       "      <td>1.0</td>\n",
       "      <td>0.0</td>\n",
       "      <td>1.0</td>\n",
       "      <td>0.0</td>\n",
       "      <td>1.0</td>\n",
       "      <td>0.0</td>\n",
       "    </tr>\n",
       "  </tbody>\n",
       "</table>\n",
       "</div>"
      ],
      "text/plain": [
       "   bathrooms  BHK  no_of_parking  longitude  latitude  area_log  \\\n",
       "0        2.0  2.0            1.0  72.977564  19.19146  6.493754   \n",
       "\n",
       "   flat_floor_no_log  total_floors_log  Possession_Status_received  \\\n",
       "0            1.94591           3.73767                         1.0   \n",
       "\n",
       "   new_or_resale_Resale  furnishing_Semi-Furnished  furnishing_Unfurnished  \\\n",
       "0                   0.0                        0.0                     1.0   \n",
       "\n",
       "   overlooking_other  config_Studio  config_apartment  config_other  \\\n",
       "0                1.0            0.0               1.0           0.0   \n",
       "\n",
       "   parking_type_Open  parking_type_both  \n",
       "0                1.0                0.0  "
      ]
     },
     "execution_count": 316,
     "metadata": {},
     "output_type": "execute_result"
    }
   ],
   "source": [
    "params = [bathrooms,BHK, no_of_parking, longitude, latitude,\n",
    "       np.log(area), np.log(flat_floor_no), np.log(total_floors),\n",
    "       Possession_Status_received, new_or_resale_Resale,\n",
    "       furnishing_Semi_Furnished, furnishing_Unfurnished,\n",
    "       overlooking_other, config_Studio, config_apartment,\n",
    "       config_other, parking_type_open, parking_type_both]\n",
    "\n",
    "col_names = ['bathrooms', 'BHK', 'no_of_parking', 'longitude', 'latitude',\n",
    "       'area_log', 'flat_floor_no_log', 'total_floors_log',\n",
    "       'Possession_Status_received', 'new_or_resale_Resale',\n",
    "       'furnishing_Semi-Furnished', 'furnishing_Unfurnished',\n",
    "       'overlooking_other', 'config_Studio', 'config_apartment',\n",
    "       'config_other', 'parking_type_Open', 'parking_type_both']\n",
    "\n",
    "data_to_predict = pd.DataFrame(params,index = col_names).T\n",
    "data_to_predict"
   ]
  },
  {
   "cell_type": "code",
   "execution_count": 317,
   "metadata": {},
   "outputs": [
    {
     "data": {
      "text/plain": [
       "array([1.0108318], dtype=float32)"
      ]
     },
     "execution_count": 317,
     "metadata": {},
     "output_type": "execute_result"
    }
   ],
   "source": [
    "np.exp(model_best.predict(data_to_predict)) "
   ]
  },
  {
   "cell_type": "code",
   "execution_count": null,
   "metadata": {},
   "outputs": [],
   "source": []
  },
  {
   "cell_type": "code",
   "execution_count": null,
   "metadata": {},
   "outputs": [],
   "source": []
  },
  {
   "cell_type": "code",
   "execution_count": null,
   "metadata": {},
   "outputs": [],
   "source": []
  },
  {
   "cell_type": "code",
   "execution_count": null,
   "metadata": {},
   "outputs": [],
   "source": []
  },
  {
   "cell_type": "code",
   "execution_count": null,
   "metadata": {},
   "outputs": [],
   "source": []
  },
  {
   "cell_type": "code",
   "execution_count": null,
   "metadata": {},
   "outputs": [],
   "source": []
  },
  {
   "cell_type": "code",
   "execution_count": null,
   "metadata": {},
   "outputs": [],
   "source": []
  }
 ],
 "metadata": {
  "kernelspec": {
   "display_name": "Python 3",
   "language": "python",
   "name": "python3"
  },
  "language_info": {
   "codemirror_mode": {
    "name": "ipython",
    "version": 3
   },
   "file_extension": ".py",
   "mimetype": "text/x-python",
   "name": "python",
   "nbconvert_exporter": "python",
   "pygments_lexer": "ipython3",
   "version": "3.7.4"
  }
 },
 "nbformat": 4,
 "nbformat_minor": 2
}
