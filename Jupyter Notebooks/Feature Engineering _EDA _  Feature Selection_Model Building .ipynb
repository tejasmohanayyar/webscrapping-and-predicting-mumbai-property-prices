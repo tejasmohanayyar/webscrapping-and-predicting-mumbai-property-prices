{
 "cells": [
  {
   "cell_type": "markdown",
   "metadata": {},
   "source": [
    "## Predict the current Sale Price of a property in Mumbai\n",
    "\n",
    "###### Motivation for this project\n",
    "\n",
    "###### Challenges faced\n",
    "\n",
    "* **Location** column that was collected through webscrapping was in the form of a string list. 1st I removed the square brackets and then seperated by , to convert to a list. Then I extracted location and society name and created 2 new columns. Also while scrapping if in the entry there was no mention of society name then for last param of location we are getting carpet area. This could be solved by only considering the 1st value as location for any records having carpet area or super area.\n",
    "\n",
    "\n",
    "* **Floors** had nan values and I was not able to understand how to fill these values. I decided to drop these columns since we will be collecting data everyday and floor information is essential for the price.\n",
    "\n",
    "* **Parking** This column seemed to have many anomalies and also had mentions of open and closed parking. So I created 2 columns, 1 for the number of parking spaces and the other for the type of parking and checked whether either no. of parking or type of parking had any impact on price. I found the number of parking spaces has a higher impact on price than type of parking only when the number of parking spaces is more than one. There is not much difference in house price when no. of parking is 0 or 1.\n",
    "\n",
    "* **Location** This column according to my knowledge plays a significant role in the pricing of a property. Installing geppandas gave me some trouble however I was able to solve it by installing the library as administrator. I wanted to save whichever locations I have got the lat and long for since I did not want to call to geopy again and again for the same location. Latitude can be around 18 or 19 only and longitude around 72 or 73 degrees for Mumbai. Since not everyone puts generic location it becomes difficult to extract latitude and longitude. We are scaving such records into a seperate file called bad records and not discarding it. This allows us to check whether such a bad column ever occurs again reducing execution time.\n",
    "\n",
    "**These observations could change as we collect more data and it is esential for us to look into distributions and EDA everytime new data is added.**\n",
    "\n",
    "### Modelling Inferences:\n",
    "\n",
    "**Linear Regression**:\n",
    "\n",
    "* The initial Linear Regression model was giving is a poultry r2_score of 52%.\n",
    "* After performing the 5 tests of regresison we were able to get our score up to 73%. The main factor was performing log transform on the target variable that removed any heteroskedasticity present in the model. Although the model was still overfitting by about 6% (Difference between train and test r2_score).\n",
    "* Next we performed regularization techniques and were able to reduce the test and train r2_score difference to less than 3%. Next we could try some non-linear tree based approaches that maybe able to better generalze our model.\n",
    "------------------------------------------------------------------------------------------\n",
    "**Tree Based Models**:\n"
   ]
  },
  {
   "cell_type": "markdown",
   "metadata": {},
   "source": [
    "# Functions for plotting"
   ]
  },
  {
   "cell_type": "code",
   "execution_count": 1,
   "metadata": {},
   "outputs": [],
   "source": [
    "def box_plot(x,y,data):\n",
    "    import seaborn as sns\n",
    "    plt.figure(figsize = (15,6))\n",
    "    plt.title(x)\n",
    "    sns.boxplot(x = x,y = y, data = data)\n",
    "    plt.xticks(rotation = 90)\n",
    "    plt.tight_layout()\n",
    "    plt.show()"
   ]
  },
  {
   "cell_type": "code",
   "execution_count": 2,
   "metadata": {},
   "outputs": [],
   "source": [
    "def dis_plot(col,data):\n",
    "    import seaborn as sns\n",
    "    plt.figure(figsize = (15,6))\n",
    "    sns.displot(data = data,x = col)\n",
    "    plt.tight_layout()\n",
    "    plt.show()"
   ]
  },
  {
   "cell_type": "markdown",
   "metadata": {},
   "source": [
    "# Feature Engineering\n",
    "\n",
    "* Filling Missing values.\n",
    "* Combining certain values in columns to help the machine better generalize.\n",
    "* Creating new columns from existing columns like flat_type and BHK coming from the same column etc."
   ]
  },
  {
   "cell_type": "code",
   "execution_count": 3,
   "metadata": {},
   "outputs": [],
   "source": [
    "import pandas as pd\n",
    "import numpy as np\n",
    "import seaborn as sns\n",
    "import os\n",
    "import matplotlib.pyplot as plt\n",
    "import scipy.stats as stats"
   ]
  },
  {
   "cell_type": "code",
   "execution_count": 4,
   "metadata": {},
   "outputs": [],
   "source": [
    "#Location libraries\n",
    "import geopy\n",
    "from geopy.geocoders import Nominatim"
   ]
  },
  {
   "cell_type": "code",
   "execution_count": 5,
   "metadata": {},
   "outputs": [],
   "source": [
    "if len(os.listdir('Data'))<=2:\n",
    "    data = pd.read_csv('Data/scrapped.csv')\n",
    "else:\n",
    "    data = pd.read_csv('Data/'+os.listdir('Data')[-1])"
   ]
  },
  {
   "cell_type": "code",
   "execution_count": 6,
   "metadata": {},
   "outputs": [],
   "source": [
    "#Drop any duplicate values\n",
    "data.drop_duplicates(inplace = True)"
   ]
  },
  {
   "cell_type": "code",
   "execution_count": 7,
   "metadata": {},
   "outputs": [
    {
     "data": {
      "text/plain": [
       "(2129, 17)"
      ]
     },
     "execution_count": 7,
     "metadata": {},
     "output_type": "execute_result"
    }
   ],
   "source": [
    "data.shape"
   ]
  },
  {
   "cell_type": "markdown",
   "metadata": {},
   "source": [
    "## Handling the missing values"
   ]
  },
  {
   "cell_type": "code",
   "execution_count": 8,
   "metadata": {},
   "outputs": [],
   "source": [
    "# (data.isna().sum()/len(data)*100)[(data.isna().sum()/len(data)*100)!=0]"
   ]
  },
  {
   "cell_type": "code",
   "execution_count": 9,
   "metadata": {},
   "outputs": [],
   "source": [
    "#Drop the comments column\n",
    "f_data = data.drop('comments',axis = 1)"
   ]
  },
  {
   "cell_type": "code",
   "execution_count": 10,
   "metadata": {
    "scrolled": true
   },
   "outputs": [
    {
     "data": {
      "text/html": [
       "<div>\n",
       "<style scoped>\n",
       "    .dataframe tbody tr th:only-of-type {\n",
       "        vertical-align: middle;\n",
       "    }\n",
       "\n",
       "    .dataframe tbody tr th {\n",
       "        vertical-align: top;\n",
       "    }\n",
       "\n",
       "    .dataframe thead th {\n",
       "        text-align: right;\n",
       "    }\n",
       "</style>\n",
       "<table border=\"1\" class=\"dataframe\">\n",
       "  <thead>\n",
       "    <tr style=\"text-align: right;\">\n",
       "      <th></th>\n",
       "      <th>Area_Type</th>\n",
       "      <th>Possession_Status</th>\n",
       "      <th>Floors</th>\n",
       "      <th>new_or_resale</th>\n",
       "      <th>furnishing</th>\n",
       "      <th>society</th>\n",
       "      <th>bathrooms</th>\n",
       "      <th>advertiser_name</th>\n",
       "      <th>bhk</th>\n",
       "      <th>price</th>\n",
       "      <th>parking</th>\n",
       "      <th>location</th>\n",
       "      <th>date_of_posting</th>\n",
       "      <th>facing</th>\n",
       "      <th>overlooking</th>\n",
       "      <th>area</th>\n",
       "    </tr>\n",
       "  </thead>\n",
       "  <tbody>\n",
       "    <tr>\n",
       "      <th>0</th>\n",
       "      <td>super area</td>\n",
       "      <td>Possession by Jun '24</td>\n",
       "      <td>NaN</td>\n",
       "      <td>New Property</td>\n",
       "      <td>Unfurnished</td>\n",
       "      <td>Terraform Dwarka</td>\n",
       "      <td>2.0</td>\n",
       "      <td>Terraform Realty</td>\n",
       "      <td>2 BHK Apartment</td>\n",
       "      <td>₹ 1.88 Cr</td>\n",
       "      <td>1 Covered</td>\n",
       "      <td>['Terraform Dwarka,', 'Ghatkopar East']</td>\n",
       "      <td>Feb 02, '21</td>\n",
       "      <td>NaN</td>\n",
       "      <td>NaN</td>\n",
       "      <td>590 sqft</td>\n",
       "    </tr>\n",
       "    <tr>\n",
       "      <th>1</th>\n",
       "      <td>super area</td>\n",
       "      <td>Ready to Move</td>\n",
       "      <td>2 out of 7 floors</td>\n",
       "      <td>Resale</td>\n",
       "      <td>Furnished</td>\n",
       "      <td>NaN</td>\n",
       "      <td>2.0</td>\n",
       "      <td>Shela</td>\n",
       "      <td>2 BHK Apartment</td>\n",
       "      <td>₹ 3.25 Cr</td>\n",
       "      <td>1 Covered</td>\n",
       "      <td>['Colaba', 'super area']</td>\n",
       "      <td>Jan 23, '21</td>\n",
       "      <td>North - East</td>\n",
       "      <td>NaN</td>\n",
       "      <td>888 sqft</td>\n",
       "    </tr>\n",
       "    <tr>\n",
       "      <th>2</th>\n",
       "      <td>carpet area</td>\n",
       "      <td>Ready to Move</td>\n",
       "      <td>5 out of 6 floors</td>\n",
       "      <td>Resale</td>\n",
       "      <td>Unfurnished</td>\n",
       "      <td>Pushpa Bhavan</td>\n",
       "      <td>2.0</td>\n",
       "      <td>Ashok singh</td>\n",
       "      <td>2 BHK Apartment</td>\n",
       "      <td>₹ 4.70 Cr</td>\n",
       "      <td>NaN</td>\n",
       "      <td>['Pushpa Bhavan,', 'Colaba']</td>\n",
       "      <td>Jan 27, '21</td>\n",
       "      <td>East</td>\n",
       "      <td>Main Road</td>\n",
       "      <td>990 sqft</td>\n",
       "    </tr>\n",
       "    <tr>\n",
       "      <th>3</th>\n",
       "      <td>carpet area</td>\n",
       "      <td>Ready to Move</td>\n",
       "      <td>4 out of 10 floors</td>\n",
       "      <td>Resale</td>\n",
       "      <td>Unfurnished</td>\n",
       "      <td>NaN</td>\n",
       "      <td>2.0</td>\n",
       "      <td>100+ Buyers Served</td>\n",
       "      <td>2 BHK Apartment</td>\n",
       "      <td>₹ 4.75 Cr</td>\n",
       "      <td>1 Open</td>\n",
       "      <td>['Colaba', 'carpet area']</td>\n",
       "      <td>Jan 19, '21</td>\n",
       "      <td>North - West</td>\n",
       "      <td>Garden/Park</td>\n",
       "      <td>900 sqft</td>\n",
       "    </tr>\n",
       "    <tr>\n",
       "      <th>4</th>\n",
       "      <td>carpet area</td>\n",
       "      <td>Ready to Move</td>\n",
       "      <td>1 out of 5 floors</td>\n",
       "      <td>Resale</td>\n",
       "      <td>Semi-Furnished</td>\n",
       "      <td>Usha Sadan Apartment</td>\n",
       "      <td>2.0</td>\n",
       "      <td>natasha</td>\n",
       "      <td>2 BHK Apartment</td>\n",
       "      <td>₹ 4.50 Cr</td>\n",
       "      <td>NaN</td>\n",
       "      <td>['Usha Sadan Apartment,', 'Colaba']</td>\n",
       "      <td>Jan 07, '21</td>\n",
       "      <td>NaN</td>\n",
       "      <td>NaN</td>\n",
       "      <td>950 sqft</td>\n",
       "    </tr>\n",
       "  </tbody>\n",
       "</table>\n",
       "</div>"
      ],
      "text/plain": [
       "     Area_Type      Possession_Status              Floors new_or_resale  \\\n",
       "0   super area  Possession by Jun '24                 NaN  New Property   \n",
       "1   super area          Ready to Move   2 out of 7 floors        Resale   \n",
       "2  carpet area          Ready to Move   5 out of 6 floors        Resale   \n",
       "3  carpet area          Ready to Move  4 out of 10 floors        Resale   \n",
       "4  carpet area          Ready to Move   1 out of 5 floors        Resale   \n",
       "\n",
       "       furnishing               society  bathrooms     advertiser_name  \\\n",
       "0     Unfurnished      Terraform Dwarka        2.0    Terraform Realty   \n",
       "1       Furnished                   NaN        2.0               Shela   \n",
       "2     Unfurnished         Pushpa Bhavan        2.0         Ashok singh   \n",
       "3     Unfurnished                   NaN        2.0  100+ Buyers Served   \n",
       "4  Semi-Furnished  Usha Sadan Apartment        2.0             natasha   \n",
       "\n",
       "               bhk      price    parking  \\\n",
       "0  2 BHK Apartment  ₹ 1.88 Cr  1 Covered   \n",
       "1  2 BHK Apartment  ₹ 3.25 Cr  1 Covered   \n",
       "2  2 BHK Apartment  ₹ 4.70 Cr        NaN   \n",
       "3  2 BHK Apartment  ₹ 4.75 Cr     1 Open   \n",
       "4  2 BHK Apartment  ₹ 4.50 Cr        NaN   \n",
       "\n",
       "                                  location date_of_posting        facing  \\\n",
       "0  ['Terraform Dwarka,', 'Ghatkopar East']     Feb 02, '21           NaN   \n",
       "1                 ['Colaba', 'super area']     Jan 23, '21  North - East   \n",
       "2             ['Pushpa Bhavan,', 'Colaba']     Jan 27, '21          East   \n",
       "3                ['Colaba', 'carpet area']     Jan 19, '21  North - West   \n",
       "4      ['Usha Sadan Apartment,', 'Colaba']     Jan 07, '21           NaN   \n",
       "\n",
       "   overlooking      area  \n",
       "0          NaN  590 sqft  \n",
       "1          NaN  888 sqft  \n",
       "2    Main Road  990 sqft  \n",
       "3  Garden/Park  900 sqft  \n",
       "4          NaN  950 sqft  "
      ]
     },
     "execution_count": 10,
     "metadata": {},
     "output_type": "execute_result"
    }
   ],
   "source": [
    "f_data.head()"
   ]
  },
  {
   "cell_type": "code",
   "execution_count": 11,
   "metadata": {},
   "outputs": [],
   "source": [
    "#Handle the location column\n",
    "def replace_area_loc(x,i):\n",
    "    if x == 'carpet area' or x =='super area':\n",
    "        return d['society'][i]\n",
    "    else:\n",
    "        return d['location'][i]\n",
    "    \n",
    "\n",
    "first_val = [i.strip('][').split(',')[0].strip(\"''\") for i in data['location']]\n",
    "second_val = [i.strip('][').split(',')[-1].strip(\" '\") for i in data['location']]\n",
    "\n",
    "d = pd.DataFrame({'society':first_val,'location':second_val})\n",
    "loc = []\n",
    "for i in range(len(data['location'])):\n",
    "    if replace_area_loc(d['location'][i],i).split()[0] == 'in':\n",
    "        loc.append(replace_area_loc(d['location'][i],i)[3:])\n",
    "        \n",
    "    else:\n",
    "        loc.append(replace_area_loc(d['location'][i],i))\n",
    "\n",
    "f_data['location'] = loc #Saving"
   ]
  },
  {
   "cell_type": "code",
   "execution_count": 12,
   "metadata": {},
   "outputs": [
    {
     "data": {
      "text/html": [
       "<div>\n",
       "<style scoped>\n",
       "    .dataframe tbody tr th:only-of-type {\n",
       "        vertical-align: middle;\n",
       "    }\n",
       "\n",
       "    .dataframe tbody tr th {\n",
       "        vertical-align: top;\n",
       "    }\n",
       "\n",
       "    .dataframe thead th {\n",
       "        text-align: right;\n",
       "    }\n",
       "</style>\n",
       "<table border=\"1\" class=\"dataframe\">\n",
       "  <thead>\n",
       "    <tr style=\"text-align: right;\">\n",
       "      <th></th>\n",
       "      <th>society</th>\n",
       "      <th>location</th>\n",
       "    </tr>\n",
       "  </thead>\n",
       "  <tbody>\n",
       "    <tr>\n",
       "      <th>1011</th>\n",
       "      <td>Kalyan</td>\n",
       "      <td>super area</td>\n",
       "    </tr>\n",
       "    <tr>\n",
       "      <th>1252</th>\n",
       "      <td>Swastik Pearl</td>\n",
       "      <td>in Vikhroli East</td>\n",
       "    </tr>\n",
       "    <tr>\n",
       "      <th>1700</th>\n",
       "      <td>Victoria 54</td>\n",
       "      <td>Vikhroli East</td>\n",
       "    </tr>\n",
       "    <tr>\n",
       "      <th>859</th>\n",
       "      <td>Nirmal Zircon and Amethyst</td>\n",
       "      <td>Mulund West</td>\n",
       "    </tr>\n",
       "    <tr>\n",
       "      <th>1533</th>\n",
       "      <td>Runwal Bliss</td>\n",
       "      <td>Kanjurmarg East</td>\n",
       "    </tr>\n",
       "  </tbody>\n",
       "</table>\n",
       "</div>"
      ],
      "text/plain": [
       "                         society          location\n",
       "1011                      Kalyan        super area\n",
       "1252               Swastik Pearl  in Vikhroli East\n",
       "1700                 Victoria 54     Vikhroli East\n",
       "859   Nirmal Zircon and Amethyst       Mulund West\n",
       "1533                Runwal Bliss   Kanjurmarg East"
      ]
     },
     "execution_count": 12,
     "metadata": {},
     "output_type": "execute_result"
    }
   ],
   "source": [
    "d.sample(5)"
   ]
  },
  {
   "cell_type": "code",
   "execution_count": 13,
   "metadata": {},
   "outputs": [],
   "source": [
    "#drop society name since I do not consider it to be an important factor\n",
    "f_data.drop('society',axis = 1,inplace = True)"
   ]
  },
  {
   "cell_type": "code",
   "execution_count": 14,
   "metadata": {},
   "outputs": [
    {
     "data": {
      "text/plain": [
       "Unfurnished       1105\n",
       "Semi-Furnished     675\n",
       "Furnished          345\n",
       "Name: furnishing, dtype: int64"
      ]
     },
     "execution_count": 14,
     "metadata": {},
     "output_type": "execute_result"
    }
   ],
   "source": [
    "f_data['furnishing'].value_counts()"
   ]
  },
  {
   "cell_type": "code",
   "execution_count": 15,
   "metadata": {},
   "outputs": [],
   "source": [
    "# (f_data.isna().sum()/len(f_data)*100)[(f_data.isna().sum()/len(data)*100)!=0]"
   ]
  },
  {
   "cell_type": "code",
   "execution_count": 16,
   "metadata": {},
   "outputs": [],
   "source": [
    "#Furnishing is more likely to be unfurnished in my experience.\n",
    "f_data['furnishing'].fillna(f_data['furnishing'].mode().values[0],inplace = True)"
   ]
  },
  {
   "cell_type": "code",
   "execution_count": 17,
   "metadata": {},
   "outputs": [],
   "source": [
    "#From what I have observed on the site, usually when parking is not mentioned \n",
    "#it means that no parking is available with the listing. \n",
    "f_data['parking'].fillna('None',inplace = True)"
   ]
  },
  {
   "cell_type": "code",
   "execution_count": 18,
   "metadata": {},
   "outputs": [],
   "source": [
    "#Getting number of rooms in the house\n",
    "BHK = []\n",
    "for i in f_data['bhk']:\n",
    "    if len(i.split()[0].lower()) > 5:\n",
    "        BHK.append('1')\n",
    "    else:\n",
    "        BHK.append(i.split()[0])\n",
    "f_data['BHK'] = [int(i) for i in BHK]"
   ]
  },
  {
   "cell_type": "code",
   "execution_count": 19,
   "metadata": {},
   "outputs": [],
   "source": [
    "#Config of room (Apartment,Flat,Penthouse,Builder Floor,Studio etc.)\n",
    "config = []\n",
    "for i in f_data['bhk']:\n",
    "    if i.split()[0].lower() == 'studio':\n",
    "        config.append('Studio')\n",
    "    elif i.split()[-1].lower() == 'flat' or i.split()[-1].lower() == 'apartment':\n",
    "        config.append('apartment') \n",
    "    elif i.split()[-1].lower() == 'penthouse':\n",
    "        config.append(i.split()[-1]) \n",
    "    else:\n",
    "        config.append('other')\n",
    "f_data['config'] = config"
   ]
  },
  {
   "cell_type": "code",
   "execution_count": 20,
   "metadata": {},
   "outputs": [],
   "source": [
    "# (f_data.isna().sum()/len(f_data)*100)[(f_data.isna().sum()/len(data)*100)!=0]"
   ]
  },
  {
   "cell_type": "code",
   "execution_count": 21,
   "metadata": {},
   "outputs": [
    {
     "name": "stderr",
     "output_type": "stream",
     "text": [
      "C:\\Users\\tejas\\Anaconda3\\lib\\site-packages\\ipykernel_launcher.py:3: SettingWithCopyWarning: \n",
      "A value is trying to be set on a copy of a slice from a DataFrame\n",
      "\n",
      "See the caveats in the documentation: https://pandas.pydata.org/pandas-docs/stable/user_guide/indexing.html#returning-a-view-versus-a-copy\n",
      "  This is separate from the ipykernel package so we can avoid doing imports until\n"
     ]
    }
   ],
   "source": [
    "# imputation for bathroom feature\n",
    "for i in f_data[f_data['bathrooms'].isna()].index:\n",
    "    f_data['bathrooms'][i] = f_data['BHK'][i]"
   ]
  },
  {
   "cell_type": "code",
   "execution_count": 22,
   "metadata": {},
   "outputs": [],
   "source": [
    "#possession_status. Later we will be creating more columns using this column like\n",
    "#construction or ready to move, possession pending and create possession date column as well.\n",
    "f_data['Possession_Status'] = f_data['Possession_Status'].fillna('unavailable')"
   ]
  },
  {
   "cell_type": "code",
   "execution_count": 23,
   "metadata": {},
   "outputs": [],
   "source": [
    "#floors\n",
    "f_data = f_data.dropna(subset = ['Floors'])"
   ]
  },
  {
   "cell_type": "code",
   "execution_count": 24,
   "metadata": {},
   "outputs": [],
   "source": [
    "#overlooking\n",
    "f_data['overlooking'] = f_data['overlooking'].fillna(f_data['overlooking'].mode().values[0])"
   ]
  },
  {
   "cell_type": "code",
   "execution_count": 25,
   "metadata": {},
   "outputs": [],
   "source": [
    "#facing\n",
    "f_data['facing'] = f_data['facing'].fillna('None')"
   ]
  },
  {
   "cell_type": "code",
   "execution_count": 26,
   "metadata": {},
   "outputs": [],
   "source": [
    "#overlooking can be converted to main road or other\n",
    "f_data['overlooking'] = ['other' if i.lower() != 'main road' else 'main road' for i in f_data['overlooking']]"
   ]
  },
  {
   "cell_type": "markdown",
   "metadata": {},
   "source": [
    "###### Missing values have now been filled. Now let us further perform imputations on our columns."
   ]
  },
  {
   "cell_type": "code",
   "execution_count": 27,
   "metadata": {},
   "outputs": [],
   "source": [
    "#Checking Sqft column\n",
    "# First convert the sqft to a number by removing all non numeric figures and change dtype\n",
    "# Check if super area or carpet area. \n",
    "# If super area then change to carpet area. \n",
    "# Carpet area is 70% of super area according to magicbricks.\n",
    "l = []\n",
    "for i in f_data['area']:\n",
    "    try:\n",
    "        l.append(int(i[:-4].strip()))\n",
    "    except:\n",
    "        l.append(np.nan)\n",
    "f_data['area'] = l"
   ]
  },
  {
   "cell_type": "code",
   "execution_count": 28,
   "metadata": {},
   "outputs": [],
   "source": [
    "# Drop records having nan in area\n",
    "f_data = f_data.dropna(subset = ['area'])"
   ]
  },
  {
   "cell_type": "markdown",
   "metadata": {},
   "source": [
    "###### All missing values have now been handled"
   ]
  },
  {
   "cell_type": "code",
   "execution_count": 29,
   "metadata": {},
   "outputs": [],
   "source": [
    "#Drop the OG bhk,advertiser_name, column\n",
    "f_data = f_data.drop(['bhk','advertiser_name'],axis=1)\n",
    "f_data = f_data.reset_index(drop = True)"
   ]
  },
  {
   "cell_type": "code",
   "execution_count": 30,
   "metadata": {},
   "outputs": [
    {
     "name": "stderr",
     "output_type": "stream",
     "text": [
      "C:\\Users\\tejas\\Anaconda3\\lib\\site-packages\\ipykernel_launcher.py:4: SettingWithCopyWarning: \n",
      "A value is trying to be set on a copy of a slice from a DataFrame\n",
      "\n",
      "See the caveats in the documentation: https://pandas.pydata.org/pandas-docs/stable/user_guide/indexing.html#returning-a-view-versus-a-copy\n",
      "  after removing the cwd from sys.path.\n"
     ]
    }
   ],
   "source": [
    "#Converting super area to carpet\n",
    "for i in range(len(f_data)):\n",
    "    if f_data['Area_Type'][i] == 'super area':\n",
    "        f_data['area'][i] = round(0.7*f_data['area'][i])\n",
    "    else:\n",
    "        pass\n",
    "f_data = f_data.drop('Area_Type',axis = 1)"
   ]
  },
  {
   "cell_type": "code",
   "execution_count": 31,
   "metadata": {},
   "outputs": [],
   "source": [
    "#Convert Possession_Status to received and not received\n",
    "f_data['Possession_Status'] = ['received' if i.lower() == 'ready to move' else 'not received' for i in f_data['Possession_Status']]"
   ]
  },
  {
   "cell_type": "code",
   "execution_count": 32,
   "metadata": {},
   "outputs": [],
   "source": [
    "#Floors Create 2 columns flat_floor_no.,total_floors\n",
    "f_data['flat_floor_no.'] = f_data['Floors'].apply(lambda x: x.split()[0])\n",
    "\n",
    "total_floors = []\n",
    "for i in f_data['Floors']:\n",
    "    try:\n",
    "        total_floors.append(i.split()[-2])\n",
    "    except:\n",
    "        total_floors.append(np.nan)\n",
    "f_data['total_floors'] = total_floors\n",
    "f_data = f_data.drop('Floors',axis = 1).dropna(subset = ['total_floors'])"
   ]
  },
  {
   "cell_type": "code",
   "execution_count": 33,
   "metadata": {},
   "outputs": [],
   "source": [
    "#price. We will have to bring lacs and crores into one scale. So we will convert lac to crore.\n",
    "true_price = []\n",
    "for i in f_data['price']:\n",
    "    if i.split()[-1].lower() == 'lac':\n",
    "        true_price.append(round(float(i.split()[1])*0.01,2))\n",
    "    else:\n",
    "        true_price.append(float(i.split()[1]))\n",
    "f_data['price'] = true_price"
   ]
  },
  {
   "cell_type": "code",
   "execution_count": 34,
   "metadata": {},
   "outputs": [],
   "source": [
    "#1. Create a column for parking available\n",
    "first_extract_parking = [0 if len(i.split())==1 else int(i.split()[0]) for i in f_data['parking']]\n",
    "final_extract_parking = [i if i<10 else 1 for i in first_extract_parking]\n",
    "f_data['no_of_parking'] = final_extract_parking"
   ]
  },
  {
   "cell_type": "code",
   "execution_count": 35,
   "metadata": {},
   "outputs": [],
   "source": [
    "#2. Create a column as open,closed,both,none\n",
    "def parking_imputer(x):\n",
    "    if len(x.split())>2:\n",
    "        return 'both'\n",
    "    elif len(x.split())==2:\n",
    "        return x.split()[1]\n",
    "    else:\n",
    "        return 'Open'\n",
    "\n",
    "    \n",
    "f_data['parking_type'] = f_data['parking'].apply(parking_imputer)"
   ]
  },
  {
   "cell_type": "code",
   "execution_count": 36,
   "metadata": {},
   "outputs": [],
   "source": [
    "#Drop Parking column\n",
    "f_data = f_data.drop(['parking'],axis = 1)\n",
    "f_data = f_data.reset_index(drop = True)"
   ]
  },
  {
   "cell_type": "code",
   "execution_count": 37,
   "metadata": {},
   "outputs": [],
   "source": [
    "#Date column can be dropped at the time of modelling since date_of_posting has no relation with property price.\n",
    "#Hoever it can be used for analysis and to check modelling, trend and seasonality once we have an entire years data."
   ]
  },
  {
   "cell_type": "markdown",
   "metadata": {},
   "source": [
    "###### Handling the data types for each column"
   ]
  },
  {
   "cell_type": "code",
   "execution_count": 38,
   "metadata": {},
   "outputs": [],
   "source": [
    "#Converting total_floors from object to integer\n",
    "f_data['total_floors'] = f_data['total_floors'].astype(\"int64\")"
   ]
  },
  {
   "cell_type": "code",
   "execution_count": 39,
   "metadata": {},
   "outputs": [
    {
     "data": {
      "text/plain": [
       "array(['2', '5', '4', '1', 'Ground', '14', '12', '9', '3', '7', '16',\n",
       "       '10', '18', '19', '41', '8', '28', '45', '20', '13', '11', '22',\n",
       "       '6', '26', '15', '33', '30', 'Upper', '17', '24', '35', '36', '27',\n",
       "       '25', 'Lower', '23', '42', '37', '39', '21', '32', '50', '46',\n",
       "       '29', '34', '31', '44', '40', '59', '48', '38'], dtype=object)"
      ]
     },
     "execution_count": 39,
     "metadata": {},
     "output_type": "execute_result"
    }
   ],
   "source": [
    "#Checking flat_floor_no to see what anomalies are present.\n",
    "f_data['flat_floor_no.'].unique()"
   ]
  },
  {
   "cell_type": "code",
   "execution_count": 40,
   "metadata": {},
   "outputs": [],
   "source": [
    "def flat_flr_no_impute(x):\n",
    "    if x.lower().strip()=='ground':\n",
    "        return 1\n",
    "    else:\n",
    "        return x\n",
    "f_data['flat_floor_no.'] = f_data['flat_floor_no.'].apply(flat_flr_no_impute)"
   ]
  },
  {
   "cell_type": "code",
   "execution_count": 41,
   "metadata": {},
   "outputs": [
    {
     "name": "stderr",
     "output_type": "stream",
     "text": [
      "C:\\Users\\tejas\\Anaconda3\\lib\\site-packages\\ipykernel_launcher.py:8: SettingWithCopyWarning: \n",
      "A value is trying to be set on a copy of a slice from a DataFrame\n",
      "\n",
      "See the caveats in the documentation: https://pandas.pydata.org/pandas-docs/stable/user_guide/indexing.html#returning-a-view-versus-a-copy\n",
      "  \n",
      "C:\\Users\\tejas\\Anaconda3\\lib\\site-packages\\ipykernel_launcher.py:6: SettingWithCopyWarning: \n",
      "A value is trying to be set on a copy of a slice from a DataFrame\n",
      "\n",
      "See the caveats in the documentation: https://pandas.pydata.org/pandas-docs/stable/user_guide/indexing.html#returning-a-view-versus-a-copy\n",
      "  \n"
     ]
    }
   ],
   "source": [
    "#Convert Ground to 1, 'Lower' to 0.2*total_floors, and 'Upper' as 0.7*total_floors\n",
    "\n",
    "#For lower and upper exact floor number is not given. We can take 20% of total floors for lower, and 70% of total floors for upper\n",
    "for i in range(len(f_data)):\n",
    "    if f_data['flat_floor_no.'][i] == 'Lower':\n",
    "        f_data['flat_floor_no.'][i] = round(f_data['total_floors'][i]*0.2)\n",
    "    elif f_data['flat_floor_no.'][i] == 'Upper':\n",
    "        f_data['flat_floor_no.'][i] = round(f_data['total_floors'][i]*0.7)\n",
    "    else:\n",
    "        pass\n",
    "f_data['flat_floor_no.'] = f_data['flat_floor_no.'].astype(\"int64\")"
   ]
  },
  {
   "cell_type": "code",
   "execution_count": 42,
   "metadata": {
    "scrolled": true
   },
   "outputs": [],
   "source": [
    "#Create a dictionary that would contain the location data so that we dont have to call geopy again and again\n",
    "def location_convert(base_location,loc_path,loc_col):\n",
    "    import pandas as pd\n",
    "    bad_l = pd.read_csv('locations/Bad locations/latest_bad_loc.csv')['location'].unique()\n",
    "    try:\n",
    "        import json\n",
    "        #If directory not present\n",
    "        if 'location.json' not in os.listdir('locations'):\n",
    "            open(loc_path,mode = 'w')\n",
    "        else:\n",
    "            pass\n",
    "\n",
    "        \n",
    "        locator = Nominatim(user_agent=\"myGeocoder\") #Assigning the user agent or API for the locations\n",
    "        base_location = base_location+',' #Adding comma so that we get Mumbai,Andheri East for example.\n",
    "        \n",
    "        with open(loc_path) as loc_input: \n",
    "            location_dict = json.load(loc_input) #Loading the json file from directory.\n",
    "\n",
    "        error_vals = [] #For the values in this list, geopy failed to load latitude and longitude data.\n",
    "        \n",
    "    #Looping over all values in dataset and if not present in location_dict then using geopy to get lat and long\n",
    "        for i in loc_col:\n",
    "            try:\n",
    "                if i not in location_dict.keys():\n",
    "                    if i not in bad_l:\n",
    "                        locating = locator.geocode(base_location+i)\n",
    "                        location_dict.setdefault(i,(locating.latitude,locating.longitude))\n",
    "                else:\n",
    "                    pass\n",
    "            except Exception as e:\n",
    "                print(e)\n",
    "                error_vals.append(i)\n",
    "\n",
    "\n",
    "        #Saving dictionary as a local json   \n",
    "        json.dumps(location_dict) #To create a json file of our dictionary.\n",
    "        with open(loc_path,mode='w') as output:\n",
    "            json.dump(location_dict,output)\n",
    "        return location_dict,error_vals\n",
    "    except:\n",
    "        print(\"The location is not receiving any geocode from geopy. Check location value\")"
   ]
  },
  {
   "cell_type": "code",
   "execution_count": 43,
   "metadata": {
    "scrolled": true
   },
   "outputs": [],
   "source": [
    "location_dict,error_vals = location_convert(base_location = 'Mumbai',loc_path = r'locations/location.json',loc_col = f_data['location'].unique())"
   ]
  },
  {
   "cell_type": "code",
   "execution_count": 44,
   "metadata": {},
   "outputs": [],
   "source": [
    "#Getting latitude and longitude from dictionary\n",
    "def mapping_latitude(x):\n",
    "    try:\n",
    "        return location_dict[x][0]\n",
    "    except:\n",
    "        return np.nan\n",
    "    \n",
    "def mapping_longitude(x):\n",
    "    import numpy as np\n",
    "    try:\n",
    "        return location_dict[x][1]\n",
    "    except:\n",
    "        return np.nan\n",
    "    \n",
    "f_data['longitude'] = f_data['location'].apply(mapping_longitude) #Mapping longitude values to new column\n",
    "f_data['latitude'] = f_data['location'].apply(mapping_latitude)   #Mapping latitude values to new column"
   ]
  },
  {
   "cell_type": "code",
   "execution_count": 45,
   "metadata": {},
   "outputs": [],
   "source": [
    "#Create a csv file for all records that were not mapped as bad records\n",
    "bad_data = f_data[((f_data['longitude'].isna()) | (f_data['latitude'].isna()) | (f_data['longitude']<0) | (f_data['latitude']<0)| (f_data['longitude']>75) | (f_data['latitude']<18))]\n",
    "if len(os.listdir('Locations/Bad locations'))==0:\n",
    "    bad_data.to_csv('Locations/Bad locations/badloc.csv',index = False)\n",
    "else:\n",
    "    og_bad = pd.read_csv('Locations/Bad locations/badloc.csv')\n",
    "    pd.concat((bad_data,og_bad)).to_csv('Locations/Bad locations/latest_bad_loc.csv',index = False)"
   ]
  },
  {
   "cell_type": "code",
   "execution_count": 46,
   "metadata": {},
   "outputs": [],
   "source": [
    "f_data = f_data[~((f_data['longitude'].isna()) | (f_data['latitude'].isna()) | (f_data['longitude']<0) | (f_data['latitude']<0) | (f_data['longitude']>75) | (f_data['latitude']<18) )]"
   ]
  },
  {
   "cell_type": "code",
   "execution_count": 51,
   "metadata": {},
   "outputs": [
    {
     "data": {
      "text/plain": [
       "Mulund West      68\n",
       "Chembur          52\n",
       "Goregaon East    51\n",
       "Andheri West     46\n",
       "Malad West       39\n",
       "Name: location, dtype: int64"
      ]
     },
     "execution_count": 51,
     "metadata": {},
     "output_type": "execute_result"
    }
   ],
   "source": [
    "f_data['location'].value_counts().head(5)"
   ]
  },
  {
   "cell_type": "code",
   "execution_count": null,
   "metadata": {},
   "outputs": [],
   "source": []
  },
  {
   "cell_type": "code",
   "execution_count": null,
   "metadata": {},
   "outputs": [],
   "source": []
  },
  {
   "cell_type": "code",
   "execution_count": null,
   "metadata": {},
   "outputs": [],
   "source": []
  },
  {
   "cell_type": "code",
   "execution_count": 101,
   "metadata": {},
   "outputs": [],
   "source": [
    "#Dropping the location column since it latitude and longitude will work for machine and also dropping any nan values.\n",
    "f_data = f_data.drop('location',axis = 1).dropna()"
   ]
  },
  {
   "cell_type": "markdown",
   "metadata": {},
   "source": [
    "# Exploratory Data Analysis for feature manipulation"
   ]
  },
  {
   "cell_type": "markdown",
   "metadata": {},
   "source": [
    "### Univariate Analysis"
   ]
  },
  {
   "cell_type": "code",
   "execution_count": 102,
   "metadata": {},
   "outputs": [
    {
     "name": "stdout",
     "output_type": "stream",
     "text": [
      "<class 'pandas.core.frame.DataFrame'>\n",
      "Int64Index: 1618 entries, 0 to 1940\n",
      "Data columns (total 17 columns):\n",
      " #   Column             Non-Null Count  Dtype  \n",
      "---  ------             --------------  -----  \n",
      " 0   Possession_Status  1618 non-null   object \n",
      " 1   new_or_resale      1618 non-null   object \n",
      " 2   furnishing         1618 non-null   object \n",
      " 3   bathrooms          1618 non-null   float64\n",
      " 4   price              1618 non-null   float64\n",
      " 5   date_of_posting    1618 non-null   object \n",
      " 6   facing             1618 non-null   object \n",
      " 7   overlooking        1618 non-null   object \n",
      " 8   area               1618 non-null   float64\n",
      " 9   BHK                1618 non-null   int64  \n",
      " 10  config             1618 non-null   object \n",
      " 11  flat_floor_no.     1618 non-null   int64  \n",
      " 12  total_floors       1618 non-null   int64  \n",
      " 13  no_of_parking      1618 non-null   int64  \n",
      " 14  parking_type       1618 non-null   object \n",
      " 15  longitude          1618 non-null   float64\n",
      " 16  latitude           1618 non-null   float64\n",
      "dtypes: float64(5), int64(4), object(8)\n",
      "memory usage: 227.5+ KB\n"
     ]
    }
   ],
   "source": [
    "f_data.info()"
   ]
  },
  {
   "cell_type": "code",
   "execution_count": 103,
   "metadata": {},
   "outputs": [
    {
     "data": {
      "image/png": "[encoded data removed]",
      "text/plain": [
       "<Figure size 1080x864 with 9 Axes>"
      ]
     },
     "metadata": {
      "needs_background": "light"
     },
     "output_type": "display_data"
    }
   ],
   "source": [
    "#Plotting distributions\n",
    "import warnings\n",
    "warnings.simplefilter('ignore')\n",
    "fig,ax = plt.subplots(nrows = 3,ncols = 3,figsize = (15,12))\n",
    "for variables,plotsubs in zip(f_data.select_dtypes(np.number).columns,ax.flatten()):\n",
    "    sns.distplot(a = f_data[variables],ax = plotsubs)\n",
    "    plt.tight_layout()\n",
    "plt.show()\n",
    "#A lot of our numerical columns are psitively skewed. We could apply log or boxcox transformation on these columns."
   ]
  },
  {
   "cell_type": "code",
   "execution_count": 104,
   "metadata": {},
   "outputs": [],
   "source": [
    "#Log transformation seems to be a good option for area,flat_floor_no.,total_floors.\n",
    "f_data['area_log'] = np.log(f_data['area'])\n",
    "f_data['flat_floor_no_log'] = np.log(f_data['flat_floor_no.'])\n",
    "f_data['total_floors_log'] = np.log(f_data['total_floors'])"
   ]
  },
  {
   "cell_type": "code",
   "execution_count": 105,
   "metadata": {},
   "outputs": [
    {
     "data": {
      "image/png": "[encoded data removed]",
      "text/plain": [
       "<Figure size 1080x216 with 3 Axes>"
      ]
     },
     "metadata": {
      "needs_background": "light"
     },
     "output_type": "display_data"
    }
   ],
   "source": [
    "import warnings\n",
    "warnings.simplefilter('ignore')\n",
    "fig,ax = plt.subplots(nrows = 1,ncols = 3,figsize = (15,3))\n",
    "for variables,plotsubs in zip(f_data.select_dtypes(np.number)[['area_log','flat_floor_no_log','total_floors_log']].columns,ax.flatten()):\n",
    "    sns.distplot(a = f_data[variables],ax = plotsubs)\n",
    "    plt.tight_layout()\n",
    "plt.show()\n",
    "#Now we can see that all our skewed variables are now showing a more normal distribution."
   ]
  },
  {
   "cell_type": "code",
   "execution_count": 106,
   "metadata": {},
   "outputs": [
    {
     "data": {
      "text/plain": [
       "Index(['Possession_Status', 'new_or_resale', 'furnishing', 'bathrooms',\n",
       "       'price', 'date_of_posting', 'facing', 'overlooking', 'area', 'BHK',\n",
       "       'config', 'flat_floor_no.', 'total_floors', 'no_of_parking',\n",
       "       'parking_type', 'longitude', 'latitude', 'area_log',\n",
       "       'flat_floor_no_log', 'total_floors_log'],\n",
       "      dtype='object')"
      ]
     },
     "execution_count": 106,
     "metadata": {},
     "output_type": "execute_result"
    }
   ],
   "source": [
    "f_data.columns"
   ]
  },
  {
   "cell_type": "code",
   "execution_count": 107,
   "metadata": {},
   "outputs": [
    {
     "data": {
      "image/png": "[encoded data removed]",
      "text/plain": [
       "<Figure size 432x288 with 1 Axes>"
      ]
     },
     "metadata": {
      "needs_background": "light"
     },
     "output_type": "display_data"
    },
    {
     "data": {
      "image/png": "[encoded data removed]",
      "text/plain": [
       "<Figure size 432x288 with 1 Axes>"
      ]
     },
     "metadata": {
      "needs_background": "light"
     },
     "output_type": "display_data"
    },
    {
     "data": {
      "image/png": "[encoded data removed]",
      "text/plain": [
       "<Figure size 432x288 with 1 Axes>"
      ]
     },
     "metadata": {
      "needs_background": "light"
     },
     "output_type": "display_data"
    },
    {
     "data": {
      "image/png": "[encoded data removed]",
      "text/plain": [
       "<Figure size 432x288 with 1 Axes>"
      ]
     },
     "metadata": {
      "needs_background": "light"
     },
     "output_type": "display_data"
    },
    {
     "data": {
      "image/png": "[encoded data removed]",
      "text/plain": [
       "<Figure size 432x288 with 1 Axes>"
      ]
     },
     "metadata": {
      "needs_background": "light"
     },
     "output_type": "display_data"
    },
    {
     "data": {
      "image/png": "[encoded data removed]",
      "text/plain": [
       "<Figure size 432x288 with 1 Axes>"
      ]
     },
     "metadata": {
      "needs_background": "light"
     },
     "output_type": "display_data"
    },
    {
     "data": {
      "image/png": "[encoded data removed]",
      "text/plain": [
       "<Figure size 432x288 with 1 Axes>"
      ]
     },
     "metadata": {
      "needs_background": "light"
     },
     "output_type": "display_data"
    }
   ],
   "source": [
    "#Univariate analysis of categorical variables.\n",
    "for i in f_data[['Possession_Status', 'new_or_resale', 'furnishing','facing', 'overlooking','config','parking_type']].columns:\n",
    "    f_data.groupby(i)[i].count().sort_values().plot(kind = 'barh')\n",
    "    plt.show()"
   ]
  },
  {
   "cell_type": "markdown",
   "metadata": {},
   "source": [
    "###### Once data for entire year is collected we can use the date posted column as well to check trends in the market."
   ]
  },
  {
   "cell_type": "markdown",
   "metadata": {},
   "source": [
    "###### Inferences from first collection of data\n",
    "* There are more properties listed on magicbricks that have received possession than properties that have not.\n",
    "* More resale properties are available on the market compared to newer projects.\n",
    "* More houses are east facing which is known to be good auspiciously. This is an India specific sentiment.\n",
    "* There as many property that face the main road as property that don't face the main road.\n",
    "* There are more properties having open parking than covered parking.\n",
    "* Price is almost always skewed in any dataset that we see. The same is true even in this webscrapped dataset."
   ]
  },
  {
   "cell_type": "markdown",
   "metadata": {},
   "source": [
    "### Bivariate Analysis"
   ]
  },
  {
   "cell_type": "code",
   "execution_count": 108,
   "metadata": {},
   "outputs": [
    {
     "data": {
      "image/png": "[encoded data removed]",
      "text/plain": [
       "<Figure size 1080x432 with 1 Axes>"
      ]
     },
     "metadata": {
      "needs_background": "light"
     },
     "output_type": "display_data"
    },
    {
     "data": {
      "image/png": "[encoded data removed]",
      "text/plain": [
       "<Figure size 1080x432 with 1 Axes>"
      ]
     },
     "metadata": {
      "needs_background": "light"
     },
     "output_type": "display_data"
    },
    {
     "data": {
      "image/png": "[encoded data removed]",
      "text/plain": [
       "<Figure size 1080x432 with 1 Axes>"
      ]
     },
     "metadata": {
      "needs_background": "light"
     },
     "output_type": "display_data"
    },
    {
     "data": {
      "image/png": "[encoded data removed]",
      "text/plain": [
       "<Figure size 1080x432 with 1 Axes>"
      ]
     },
     "metadata": {
      "needs_background": "light"
     },
     "output_type": "display_data"
    },
    {
     "data": {
      "image/png": "[encoded data removed]",
      "text/plain": [
       "<Figure size 1080x432 with 1 Axes>"
      ]
     },
     "metadata": {
      "needs_background": "light"
     },
     "output_type": "display_data"
    },
    {
     "data": {
      "image/png": "[encoded data removed]",
      "text/plain": [
       "<Figure size 1080x432 with 1 Axes>"
      ]
     },
     "metadata": {
      "needs_background": "light"
     },
     "output_type": "display_data"
    },
    {
     "data": {
      "image/png": "[encoded data removed]",
      "text/plain": [
       "<Figure size 1080x432 with 1 Axes>"
      ]
     },
     "metadata": {
      "needs_background": "light"
     },
     "output_type": "display_data"
    }
   ],
   "source": [
    "#Plotting box plots for all categorical columns\n",
    "for i in f_data[['Possession_Status', 'new_or_resale', 'furnishing','facing', 'overlooking','config','parking_type']].columns:\n",
    "    box_plot(i,'price',data = f_data)\n",
    "#There area some categorical features that do have subtle differences in price. \n",
    "#For example furnished flats tend to be more expensive than unfurnished.\n",
    "#Resale is tending to fetch slightly more price compared to new property.\n",
    "#Receiving possession is also driving the price up.\n",
    "#Properties proving covered parking tend to be more expensive."
   ]
  },
  {
   "cell_type": "code",
   "execution_count": 109,
   "metadata": {},
   "outputs": [],
   "source": [
    "#We could change the facing column to good and bad but as input we would keep directions as options. \n",
    "#We would make the imputations at the backend as good and bad.\n",
    "#according to Vastu, the East, North and Northeast are considered good and the rest are not that great.\n",
    "gorb = ['Unknown','Good','Bad','Good','Good','Good','Bad','Bad','Bad']\n",
    "f_data['facing'].unique()\n",
    "facing_mapper = dict(zip(f_data['facing'].unique(),gorb))\n",
    "\n",
    "f_data['Vastu_direction'] = f_data['facing'].map(facing_mapper)"
   ]
  },
  {
   "cell_type": "code",
   "execution_count": 110,
   "metadata": {},
   "outputs": [],
   "source": [
    "#Dropping area,flat_floor_no,total_floors\n",
    "f_data = f_data.drop(['area','flat_floor_no.','total_floors'],axis = 1)"
   ]
  },
  {
   "cell_type": "code",
   "execution_count": 111,
   "metadata": {},
   "outputs": [],
   "source": [
    "#Dropping date of posting\n",
    "f_data = f_data.drop('date_of_posting',axis  = 1)"
   ]
  },
  {
   "cell_type": "code",
   "execution_count": 112,
   "metadata": {},
   "outputs": [],
   "source": [
    "#Dropping the facing column since I have generalized it as can be seen above.\n",
    "f_data = f_data.drop('facing',axis = 1)"
   ]
  },
  {
   "cell_type": "code",
   "execution_count": 113,
   "metadata": {},
   "outputs": [
    {
     "name": "stdout",
     "output_type": "stream",
     "text": [
      "<class 'pandas.core.frame.DataFrame'>\n",
      "Int64Index: 1618 entries, 0 to 1940\n",
      "Data columns (total 16 columns):\n",
      " #   Column             Non-Null Count  Dtype  \n",
      "---  ------             --------------  -----  \n",
      " 0   Possession_Status  1618 non-null   object \n",
      " 1   new_or_resale      1618 non-null   object \n",
      " 2   furnishing         1618 non-null   object \n",
      " 3   bathrooms          1618 non-null   float64\n",
      " 4   price              1618 non-null   float64\n",
      " 5   overlooking        1618 non-null   object \n",
      " 6   BHK                1618 non-null   int64  \n",
      " 7   config             1618 non-null   object \n",
      " 8   no_of_parking      1618 non-null   int64  \n",
      " 9   parking_type       1618 non-null   object \n",
      " 10  longitude          1618 non-null   float64\n",
      " 11  latitude           1618 non-null   float64\n",
      " 12  area_log           1618 non-null   float64\n",
      " 13  flat_floor_no_log  1618 non-null   float64\n",
      " 14  total_floors_log   1618 non-null   float64\n",
      " 15  Vastu_direction    1618 non-null   object \n",
      "dtypes: float64(7), int64(2), object(7)\n",
      "memory usage: 279.4+ KB\n"
     ]
    }
   ],
   "source": [
    "f_data.info()"
   ]
  },
  {
   "cell_type": "markdown",
   "metadata": {},
   "source": [
    "### Statistical Analysis"
   ]
  },
  {
   "cell_type": "markdown",
   "metadata": {},
   "source": [
    "###### Performing independent T-test on columns having 2 categories."
   ]
  },
  {
   "cell_type": "code",
   "execution_count": 114,
   "metadata": {},
   "outputs": [],
   "source": [
    "#Creating a function for independent ttest\n",
    "def ttest_calc(col_name):\n",
    "    ttest_pos_rec = f_data[f_data[col_name] == f_data[col_name].unique()[0]]['price']\n",
    "    ttest_pos_nrec = f_data[f_data[col_name] == f_data[col_name].unique()[1]]['price']\n",
    "    teststat,pval = stats.ttest_ind(ttest_pos_rec,ttest_pos_nrec)\n",
    "    if pval<0.05:\n",
    "        print(\"T-test for {} is having:\\np-value: {}\\nWe can conclude that {} feature is significant for predictions.\\n\".format(col_name,pval,col_name))\n",
    "    else:\n",
    "        print(\"T-test for {} is having:\\np-value: {}\\n{} feature is not significant for predictions and can be dropped.\\n\".format(col_name,pval,col_name))"
   ]
  },
  {
   "cell_type": "code",
   "execution_count": 115,
   "metadata": {},
   "outputs": [
    {
     "name": "stdout",
     "output_type": "stream",
     "text": [
      "T-test for Possession_Status is having:\n",
      "p-value: 3.1614415469879894e-05\n",
      "We can conclude that Possession_Status feature is significant for predictions.\n",
      "\n",
      "T-test for new_or_resale is having:\n",
      "p-value: 0.0034308500827037224\n",
      "We can conclude that new_or_resale feature is significant for predictions.\n",
      "\n",
      "T-test for overlooking is having:\n",
      "p-value: 0.10038620327122862\n",
      "overlooking feature is not significant for predictions and can be dropped.\n",
      "\n"
     ]
    }
   ],
   "source": [
    "for i in f_data.nunique()[f_data.nunique()==2].index:\n",
    "    ttest_calc(col_name = i)"
   ]
  },
  {
   "cell_type": "code",
   "execution_count": 116,
   "metadata": {},
   "outputs": [
    {
     "name": "stdout",
     "output_type": "stream",
     "text": [
      "                     df       sum_sq     mean_sq          F        PR(>F)\n",
      "furnishing          2.0    54.820245   27.410122   4.672564  9.475563e-03\n",
      "config              3.0   246.121103   82.040368  13.985304  5.298548e-09\n",
      "parking_type        2.0   252.205201  126.102600  21.496530  6.120692e-10\n",
      "Vastu_direction     2.0    33.228498   16.614249   2.832207  5.917652e-02\n",
      "Residual         1608.0  9432.823859    5.866184        NaN           NaN\n"
     ]
    }
   ],
   "source": [
    "#Let us perform Anova test on the other columns\n",
    "import statsmodels.api as sm\n",
    "from statsmodels.formula.api import ols\n",
    "an_model = ols(\"price~furnishing+config+parking_type+Vastu_direction\",f_data).fit()\n",
    "anova_table = sm.stats.anova_lm(an_model)\n",
    "print(anova_table)"
   ]
  },
  {
   "cell_type": "code",
   "execution_count": 117,
   "metadata": {},
   "outputs": [
    {
     "data": {
      "text/html": [
       "<div>\n",
       "<style scoped>\n",
       "    .dataframe tbody tr th:only-of-type {\n",
       "        vertical-align: middle;\n",
       "    }\n",
       "\n",
       "    .dataframe tbody tr th {\n",
       "        vertical-align: top;\n",
       "    }\n",
       "\n",
       "    .dataframe thead th {\n",
       "        text-align: right;\n",
       "    }\n",
       "</style>\n",
       "<table border=\"1\" class=\"dataframe\">\n",
       "  <thead>\n",
       "    <tr style=\"text-align: right;\">\n",
       "      <th></th>\n",
       "      <th>df</th>\n",
       "      <th>sum_sq</th>\n",
       "      <th>mean_sq</th>\n",
       "      <th>F</th>\n",
       "      <th>PR(&gt;F)</th>\n",
       "    </tr>\n",
       "  </thead>\n",
       "  <tbody>\n",
       "    <tr>\n",
       "      <th>Vastu_direction</th>\n",
       "      <td>2.0</td>\n",
       "      <td>33.228498</td>\n",
       "      <td>16.614249</td>\n",
       "      <td>2.832207</td>\n",
       "      <td>0.059177</td>\n",
       "    </tr>\n",
       "  </tbody>\n",
       "</table>\n",
       "</div>"
      ],
      "text/plain": [
       "                  df     sum_sq    mean_sq         F    PR(>F)\n",
       "Vastu_direction  2.0  33.228498  16.614249  2.832207  0.059177"
      ]
     },
     "execution_count": 117,
     "metadata": {},
     "output_type": "execute_result"
    }
   ],
   "source": [
    "anova_table[anova_table.loc[:,'PR(>F)']>0.05]\n",
    "#Vastu_direction as expected does not seem to have a significant impact on our model and \n",
    "#can be dropped."
   ]
  },
  {
   "cell_type": "code",
   "execution_count": 118,
   "metadata": {},
   "outputs": [],
   "source": [
    "#Performing TukeyHSD to check how each parameter affects price\n",
    "def tukey(col):\n",
    "    from statsmodels.stats.multicomp import pairwise_tukeyhsd\n",
    "    print(pairwise_tukeyhsd(f_data['price'],f_data[col]))"
   ]
  },
  {
   "cell_type": "code",
   "execution_count": 119,
   "metadata": {},
   "outputs": [
    {
     "name": "stdout",
     "output_type": "stream",
     "text": [
      "        Multiple Comparison of Means - Tukey HSD, FWER=0.05        \n",
      "===================================================================\n",
      "    group1         group2     meandiff p-adj   lower  upper  reject\n",
      "-------------------------------------------------------------------\n",
      "     Furnished Semi-Furnished  -0.1405  0.706 -0.5714 0.2903  False\n",
      "     Furnished    Unfurnished  -0.4473 0.0253 -0.8505 -0.044   True\n",
      "Semi-Furnished    Unfurnished  -0.3068 0.0708 -0.6332 0.0197  False\n",
      "-------------------------------------------------------------------\n"
     ]
    }
   ],
   "source": [
    "tukey('furnishing')\n",
    "#Flat being furnished and unfurnished. Semi-furnished does not play a significant role. "
   ]
  },
  {
   "cell_type": "code",
   "execution_count": 120,
   "metadata": {
    "scrolled": true
   },
   "outputs": [
    {
     "name": "stdout",
     "output_type": "stream",
     "text": [
      "    Multiple Comparison of Means - Tukey HSD, FWER=0.05    \n",
      "===========================================================\n",
      "  group1    group2  meandiff p-adj   lower    upper  reject\n",
      "-----------------------------------------------------------\n",
      "Penthouse    Studio  -8.9694  0.001 -12.7725 -5.1664   True\n",
      "Penthouse apartment  -7.1464  0.001 -10.3146 -3.9781   True\n",
      "Penthouse     other  -7.9775  0.001 -11.5153 -4.4397   True\n",
      "   Studio apartment   1.8231 0.1194  -0.2924  3.9386  False\n",
      "   Studio     other   0.9919 0.7422   -1.645  3.6289  False\n",
      "apartment     other  -0.8311 0.5308  -2.4212   0.759  False\n",
      "-----------------------------------------------------------\n"
     ]
    }
   ],
   "source": [
    "tukey('config')\n",
    "#Penthouse seems to be a significant cateogory when compared with other categories."
   ]
  },
  {
   "cell_type": "code",
   "execution_count": 121,
   "metadata": {},
   "outputs": [
    {
     "name": "stdout",
     "output_type": "stream",
     "text": [
      " Multiple Comparison of Means - Tukey HSD, FWER=0.05 \n",
      "=====================================================\n",
      " group1 group2 meandiff p-adj   lower   upper  reject\n",
      "-----------------------------------------------------\n",
      "Covered   Open  -0.7371  0.001 -1.0305 -0.4436   True\n",
      "Covered   both   0.0884    0.9 -0.8406  1.0173  False\n",
      "   Open   both   0.8254 0.0905 -0.0975  1.7484  False\n",
      "-----------------------------------------------------\n"
     ]
    }
   ],
   "source": [
    "tukey('parking_type')\n",
    "#Open and covered seems to play the most significant role in predicting price. \n",
    "#Both can be dropped."
   ]
  },
  {
   "cell_type": "code",
   "execution_count": 122,
   "metadata": {},
   "outputs": [
    {
     "name": "stdout",
     "output_type": "stream",
     "text": [
      "Multiple Comparison of Means - Tukey HSD, FWER=0.05 \n",
      "====================================================\n",
      "group1  group2 meandiff p-adj   lower  upper  reject\n",
      "----------------------------------------------------\n",
      "   Bad    Good  -0.2673  0.225 -0.6471 0.1125  False\n",
      "   Bad Unknown  -0.3848 0.2123 -0.9212 0.1516  False\n",
      "  Good Unknown  -0.1175 0.7946 -0.5693 0.3343  False\n",
      "----------------------------------------------------\n"
     ]
    }
   ],
   "source": [
    "tukey('Vastu_direction')\n",
    "#Vastu does not seem to play any role and can be dropped."
   ]
  },
  {
   "cell_type": "markdown",
   "metadata": {},
   "source": [
    "### Inferences from our statistical Analysis\n",
    "###### Tests were done on 1457 records.\n",
    "* Possession_Status,New_or_resale and overlooking all play a significant role for predicting price.\n",
    "* Furnishing,config,parking_type are also significant in predicting price.\n",
    "* Vastu can be dropped since it is not significant in predicting price.\n",
    "* Semi-Furnished as a category is not playing a significant role in predicting price.\n",
    "* For parking \"Both\" category is not palying a significant role in predicting price. This could change with an increase in data and hence I won't be removing this category for now."
   ]
  },
  {
   "cell_type": "code",
   "execution_count": 123,
   "metadata": {},
   "outputs": [],
   "source": [
    "f_data = f_data.drop('Vastu_direction',axis = 1)"
   ]
  },
  {
   "cell_type": "markdown",
   "metadata": {},
   "source": [
    "# Modelling"
   ]
  },
  {
   "cell_type": "code",
   "execution_count": 124,
   "metadata": {},
   "outputs": [],
   "source": [
    "#Checking for overfitting\n",
    "def metrics(y,ypred,model_name = 'Unknown'):\n",
    "    from sklearn.metrics import mean_squared_error,r2_score\n",
    "    RMSE = np.sqrt(mean_squared_error(y,ypred))\n",
    "    r2score = r2_score(y,ypred)\n",
    "    print(\"{} RMSE is: {}\".format(model_name,RMSE))\n",
    "    print(\"{} r2_score is: {}\".format(model_name,r2score))"
   ]
  },
  {
   "cell_type": "code",
   "execution_count": 125,
   "metadata": {},
   "outputs": [
    {
     "name": "stdout",
     "output_type": "stream",
     "text": [
      "                            OLS Regression Results                            \n",
      "==============================================================================\n",
      "Dep. Variable:                  price   R-squared:                       0.539\n",
      "Model:                            OLS   Adj. R-squared:                  0.532\n",
      "Method:                 Least Squares   F-statistic:                     82.72\n",
      "Date:                Sun, 07 Feb 2021   Prob (F-statistic):          3.12e-199\n",
      "Time:                        10:34:05   Log-Likelihood:                -2540.8\n",
      "No. Observations:                1294   AIC:                             5120.\n",
      "Df Residuals:                    1275   BIC:                             5218.\n",
      "Df Model:                          18                                         \n",
      "Covariance Type:            nonrobust                                         \n",
      "==============================================================================================\n",
      "                                 coef    std err          t      P>|t|      [0.025      0.975]\n",
      "----------------------------------------------------------------------------------------------\n",
      "const                        452.6561     55.313      8.184      0.000     344.142     561.171\n",
      "bathrooms                      1.1037      0.106     10.433      0.000       0.896       1.311\n",
      "BHK                            0.6022      0.106      5.692      0.000       0.395       0.810\n",
      "no_of_parking                  0.2036      0.080      2.542      0.011       0.046       0.361\n",
      "longitude                     -4.4984      0.761     -5.910      0.000      -5.992      -3.005\n",
      "latitude                      -6.6165      0.507    -13.063      0.000      -7.610      -5.623\n",
      "area_log                       0.4069      0.116      3.521      0.000       0.180       0.634\n",
      "flat_floor_no_log              0.0564      0.066      0.849      0.396      -0.074       0.187\n",
      "total_floors_log               0.1567      0.100      1.572      0.116      -0.039       0.352\n",
      "Possession_Status_received     0.2865      0.164      1.742      0.082      -0.036       0.609\n",
      "new_or_resale_Resale           0.1918      0.153      1.250      0.211      -0.109       0.493\n",
      "furnishing_Semi-Furnished     -0.0031      0.147     -0.021      0.983      -0.291       0.285\n",
      "furnishing_Unfurnished        -0.0566      0.147     -0.384      0.701      -0.346       0.232\n",
      "overlooking_other             -0.1091      0.103     -1.064      0.288      -0.310       0.092\n",
      "config_Studio                 -3.3415      1.140     -2.931      0.003      -5.578      -1.105\n",
      "config_apartment              -3.2165      0.886     -3.631      0.000      -4.954      -1.479\n",
      "config_other                  -3.4089      1.020     -3.341      0.001      -5.411      -1.407\n",
      "parking_type_Open              0.2259      0.134      1.689      0.091      -0.036       0.488\n",
      "parking_type_both              0.1661      0.321      0.518      0.605      -0.464       0.796\n",
      "==============================================================================\n",
      "Omnibus:                     1626.807   Durbin-Watson:                   2.108\n",
      "Prob(Omnibus):                  0.000   Jarque-Bera (JB):           329792.931\n",
      "Skew:                           6.441   Prob(JB):                         0.00\n",
      "Kurtosis:                      80.141   Cond. No.                     8.68e+04\n",
      "==============================================================================\n",
      "\n",
      "Warnings:\n",
      "[1] Standard Errors assume that the covariance matrix of the errors is correctly specified.\n",
      "[2] The condition number is large, 8.68e+04. This might indicate that there are\n",
      "strong multicollinearity or other numerical problems.\n"
     ]
    }
   ],
   "source": [
    "import statsmodels.api as sm\n",
    "from statsmodels.api import OLS\n",
    "from sklearn.model_selection import train_test_split\n",
    "#Data for modelling\n",
    "model_data = pd.get_dummies(f_data,drop_first = True)\n",
    "\n",
    "x = model_data.drop('price',axis= 1)\n",
    "y = model_data.price\n",
    "x1 = sm.add_constant(x)\n",
    "\n",
    "x_train,x_test,y_train,y_test = train_test_split(x1,y,test_size = 0.2,random_state = 6)\n",
    "\n",
    "model = OLS(y_train,x_train).fit()\n",
    "\n",
    "print(model.summary())"
   ]
  },
  {
   "cell_type": "code",
   "execution_count": 126,
   "metadata": {},
   "outputs": [
    {
     "name": "stdout",
     "output_type": "stream",
     "text": [
      "OLS all params train RMSE is: 1.7238702783170599\n",
      "OLS all params train r2_score is: 0.5387091350015654\n",
      "OLS all params test RMSE is: 1.3928132181398951\n",
      "OLS all params test r2_score is: 0.6265314070481014\n"
     ]
    }
   ],
   "source": [
    "metrics(y_train,model.predict(x_train),model_name = 'OLS all params train')\n",
    "metrics(y_test,model.predict(x_test),model_name = 'OLS all params test')\n",
    "#Model is underfitting."
   ]
  },
  {
   "cell_type": "markdown",
   "metadata": {},
   "source": [
    "#### inferences from the initial Linear Regression model\n",
    "\n",
    "* Adjusted R2 score is only 50% which probably tells me that either we need more data or this model is non-linear.\n",
    "* P-value of F-stat is less than 0.05 which means the model is ok. It is demonsrtating some relation between the variables.\n",
    "* P-value is more than 0.05 for some parameters. Such parameters are not able to create significant impact on the model.\n",
    "* P-value of constant is less than 0.05 which means this model is genralized and would be able to predict features even beyond the regression line. However I would still consider such predictions to be spurious.\n",
    "* Durbin Watson is between 1.5 and 2.5 which means there is no autocorrelation in the model.\n",
    "* Jarque Bera p-value below 0.05 tells me that the model is normally distributed.\n",
    "* High condition number means that there is some multicollinearity. Ideally we want the number less than 100 but it is too high here.\n",
    "* Model seems to be positively skewed as well towards the right and model seems to have a high kurtosis value which means it is heavier at the tail.\n"
   ]
  },
  {
   "cell_type": "markdown",
   "metadata": {},
   "source": [
    "###### Performing the 5 tests for regression\n",
    "\n",
    "* **Normality**: Model appears to be normal. Concluded from Jarque-Bera\n",
    "* **Linearity**\n",
    "* Heteroskedasticity\n",
    "* **Auto-Correlation** : Model has no auto-correlation. Concluded from durbin watson test.\n",
    "* Multi-Collinearity"
   ]
  },
  {
   "cell_type": "code",
   "execution_count": 127,
   "metadata": {},
   "outputs": [
    {
     "data": {
      "image/png": "[encoded data removed]",
      "text/plain": [
       "<Figure size 432x288 with 1 Axes>"
      ]
     },
     "metadata": {
      "needs_background": "light"
     },
     "output_type": "display_data"
    },
    {
     "name": "stdout",
     "output_type": "stream",
     "text": [
      "(0.9475512793392064, 0.7518205835839513)\n"
     ]
    }
   ],
   "source": [
    "#Linearity\n",
    "from scipy.stats import probplot\n",
    "import statsmodels.api as sm\n",
    "probplot(model.resid,plot = plt)\n",
    "plt.show()\n",
    "print(sm.stats.diagnostic.linear_rainbow(model))\n",
    "#Model fails the test of linearity accoring to the linear_rainbow test since its p-value is less than 0.05 and we \n",
    "#reject the null hypothesis."
   ]
  },
  {
   "cell_type": "code",
   "execution_count": 128,
   "metadata": {},
   "outputs": [
    {
     "data": {
      "image/png": "[encoded data removed]",
      "text/plain": [
       "<Figure size 432x288 with 1 Axes>"
      ]
     },
     "metadata": {
      "needs_background": "light"
     },
     "output_type": "display_data"
    }
   ],
   "source": [
    "#Heteroskedasticity\n",
    "test_stat,p_value,ftest,p_valftest = sm.stats.diagnostic.het_breuschpagan(model.resid,x_train)\n",
    "p_value\n",
    "#Model is heteroskedastic since p_value is less than 0.05\n",
    "sns.residplot(model.fittedvalues,model.resid)\n",
    "plt.show('Heteroskedastic pattern')\n",
    "plt.show()\n",
    "#We clearly can see a heteroskedastic pattern here."
   ]
  },
  {
   "cell_type": "code",
   "execution_count": 129,
   "metadata": {},
   "outputs": [
    {
     "data": {
      "text/html": [
       "<div>\n",
       "<style scoped>\n",
       "    .dataframe tbody tr th:only-of-type {\n",
       "        vertical-align: middle;\n",
       "    }\n",
       "\n",
       "    .dataframe tbody tr th {\n",
       "        vertical-align: top;\n",
       "    }\n",
       "\n",
       "    .dataframe thead th {\n",
       "        text-align: right;\n",
       "    }\n",
       "</style>\n",
       "<table border=\"1\" class=\"dataframe\">\n",
       "  <thead>\n",
       "    <tr style=\"text-align: right;\">\n",
       "      <th></th>\n",
       "      <th>Features</th>\n",
       "      <th>VIF</th>\n",
       "    </tr>\n",
       "  </thead>\n",
       "  <tbody>\n",
       "    <tr>\n",
       "      <th>0</th>\n",
       "      <td>BHK</td>\n",
       "      <td>7.169955</td>\n",
       "    </tr>\n",
       "    <tr>\n",
       "      <th>1</th>\n",
       "      <td>no_of_parking</td>\n",
       "      <td>3.010174</td>\n",
       "    </tr>\n",
       "    <tr>\n",
       "      <th>2</th>\n",
       "      <td>flat_floor_no_log</td>\n",
       "      <td>4.938005</td>\n",
       "    </tr>\n",
       "    <tr>\n",
       "      <th>3</th>\n",
       "      <td>Possession_Status_received</td>\n",
       "      <td>7.014236</td>\n",
       "    </tr>\n",
       "    <tr>\n",
       "      <th>4</th>\n",
       "      <td>new_or_resale_Resale</td>\n",
       "      <td>6.029911</td>\n",
       "    </tr>\n",
       "    <tr>\n",
       "      <th>5</th>\n",
       "      <td>furnishing_Semi-Furnished</td>\n",
       "      <td>2.348615</td>\n",
       "    </tr>\n",
       "    <tr>\n",
       "      <th>6</th>\n",
       "      <td>furnishing_Unfurnished</td>\n",
       "      <td>3.189090</td>\n",
       "    </tr>\n",
       "    <tr>\n",
       "      <th>7</th>\n",
       "      <td>overlooking_other</td>\n",
       "      <td>2.416358</td>\n",
       "    </tr>\n",
       "    <tr>\n",
       "      <th>8</th>\n",
       "      <td>config_Studio</td>\n",
       "      <td>1.019668</td>\n",
       "    </tr>\n",
       "    <tr>\n",
       "      <th>9</th>\n",
       "      <td>config_other</td>\n",
       "      <td>1.049230</td>\n",
       "    </tr>\n",
       "    <tr>\n",
       "      <th>10</th>\n",
       "      <td>parking_type_Open</td>\n",
       "      <td>2.924096</td>\n",
       "    </tr>\n",
       "    <tr>\n",
       "      <th>11</th>\n",
       "      <td>parking_type_both</td>\n",
       "      <td>1.070824</td>\n",
       "    </tr>\n",
       "  </tbody>\n",
       "</table>\n",
       "</div>"
      ],
      "text/plain": [
       "                      Features       VIF\n",
       "0                          BHK  7.169955\n",
       "1                no_of_parking  3.010174\n",
       "2            flat_floor_no_log  4.938005\n",
       "3   Possession_Status_received  7.014236\n",
       "4         new_or_resale_Resale  6.029911\n",
       "5    furnishing_Semi-Furnished  2.348615\n",
       "6       furnishing_Unfurnished  3.189090\n",
       "7            overlooking_other  2.416358\n",
       "8                config_Studio  1.019668\n",
       "9                 config_other  1.049230\n",
       "10           parking_type_Open  2.924096\n",
       "11           parking_type_both  1.070824"
      ]
     },
     "execution_count": 129,
     "metadata": {},
     "output_type": "execute_result"
    }
   ],
   "source": [
    "#Multi-Collinearity\n",
    "from statsmodels.stats.outliers_influence import variance_inflation_factor as vif\n",
    "scores = []\n",
    "d_1 = x.drop(['config_apartment','total_floors_log','bathrooms','longitude','latitude','area_log'],axis =1)\n",
    "\n",
    "for i in range(len(d_1.columns)):\n",
    "    scores.append(vif(d_1.values,i))\n",
    "vif_summary = pd.DataFrame({'Features':d_1.columns,'VIF':scores})\n",
    "vif_summary\n",
    "#Though latitude and longitude show large multicollinearity, I believe that these features are important to determine price."
   ]
  },
  {
   "cell_type": "code",
   "execution_count": 130,
   "metadata": {},
   "outputs": [
    {
     "name": "stdout",
     "output_type": "stream",
     "text": [
      "                            OLS Regression Results                            \n",
      "==============================================================================\n",
      "Dep. Variable:                  price   R-squared:                       0.400\n",
      "Model:                            OLS   Adj. R-squared:                  0.394\n",
      "Method:                 Least Squares   F-statistic:                     71.16\n",
      "Date:                Sun, 07 Feb 2021   Prob (F-statistic):          7.77e-133\n",
      "Time:                        10:34:05   Log-Likelihood:                -2710.9\n",
      "No. Observations:                1294   AIC:                             5448.\n",
      "Df Residuals:                    1281   BIC:                             5515.\n",
      "Df Model:                          12                                         \n",
      "Covariance Type:            nonrobust                                         \n",
      "==============================================================================================\n",
      "                                 coef    std err          t      P>|t|      [0.025      0.975]\n",
      "----------------------------------------------------------------------------------------------\n",
      "const                         -1.8403      0.283     -6.509      0.000      -2.395      -1.286\n",
      "BHK                            1.7008      0.069     24.806      0.000       1.566       1.835\n",
      "no_of_parking                  0.2416      0.090      2.686      0.007       0.065       0.418\n",
      "flat_floor_no_log              0.1421      0.064      2.236      0.026       0.017       0.267\n",
      "Possession_Status_received     0.4125      0.183      2.254      0.024       0.054       0.772\n",
      "new_or_resale_Resale           0.0540      0.174      0.310      0.756      -0.287       0.395\n",
      "furnishing_Semi-Furnished      0.0106      0.165      0.064      0.949      -0.314       0.335\n",
      "furnishing_Unfurnished        -0.1225      0.165     -0.744      0.457      -0.445       0.200\n",
      "overlooking_other             -0.1260      0.115     -1.094      0.274      -0.352       0.100\n",
      "config_Studio                 -0.0580      0.815     -0.071      0.943      -1.656       1.540\n",
      "config_other                  -0.0209      0.581     -0.036      0.971      -1.162       1.120\n",
      "parking_type_Open              0.1961      0.145      1.350      0.177      -0.089       0.481\n",
      "parking_type_both              0.0336      0.363      0.093      0.926      -0.679       0.746\n",
      "==============================================================================\n",
      "Omnibus:                     1470.630   Durbin-Watson:                   2.025\n",
      "Prob(Omnibus):                  0.000   Jarque-Bera (JB):           176756.398\n",
      "Skew:                           5.538   Prob(JB):                         0.00\n",
      "Kurtosis:                      59.175   Cond. No.                         51.5\n",
      "==============================================================================\n",
      "\n",
      "Warnings:\n",
      "[1] Standard Errors assume that the covariance matrix of the errors is correctly specified.\n"
     ]
    }
   ],
   "source": [
    "#Model after removing collinear variables\n",
    "import statsmodels.api as sm\n",
    "from statsmodels.api import OLS\n",
    "from sklearn.model_selection import train_test_split\n",
    "#Data for modelling\n",
    "model_data = pd.get_dummies(f_data,drop_first = True)\n",
    "\n",
    "x_ = model_data[vif_summary['Features'].values]\n",
    "y = model_data.price\n",
    "x1 = sm.add_constant(x_)\n",
    "\n",
    "x_train,x_test,y_train,y_test = train_test_split(x1,y,test_size = 0.2,random_state = 6)\n",
    "\n",
    "model_pvif = OLS(y_train,x_train).fit()\n",
    "\n",
    "print(model_pvif.summary())\n",
    "#While we have seen a massive reduction in multicollinearity, our adjusted r2_score has also taken a hit. "
   ]
  },
  {
   "cell_type": "code",
   "execution_count": 131,
   "metadata": {},
   "outputs": [
    {
     "name": "stdout",
     "output_type": "stream",
     "text": [
      "OLS removing multicollinearity train RMSE is: 1.9660613164002223\n",
      "OLS removing multicollinearity train r2_score is: 0.3999881786413676\n",
      "OLS removing multicollinearity test RMSE is: 1.7108662880473444\n",
      "OLS removing multicollinearity test r2_score is: 0.4364915100110357\n"
     ]
    }
   ],
   "source": [
    "metrics(y_train,model_pvif.predict(x_train),'OLS removing multicollinearity train')\n",
    "metrics(y_test,model_pvif.predict(x_test),'OLS removing multicollinearity test')"
   ]
  },
  {
   "cell_type": "markdown",
   "metadata": {},
   "source": [
    "* Our train RMSE is much greater than the test RMSE. This means that the model has underfit.\n",
    "* The difference between the test and train metrics have not reduced which tells me that our underfitting problem has not been solved.\n",
    "* Probably regularization can be tried at this stage since the difference betweeen train and test scores is high.\n",
    "* My hunch is that using ridge, lasso or elastic net which penalizes coefficients would do a better job here.\n",
    "* We should also apply log transformation on the target variable and check if our model improves."
   ]
  },
  {
   "cell_type": "code",
   "execution_count": 132,
   "metadata": {},
   "outputs": [],
   "source": [
    "#Performing log transform on 'price' column of f_data to reduce heteroskedasticity\n",
    "f_data['price'] = np.log(f_data['price'])"
   ]
  },
  {
   "cell_type": "code",
   "execution_count": 133,
   "metadata": {},
   "outputs": [
    {
     "data": {
      "image/png": "[encoded data removed]",
      "text/plain": [
       "<Figure size 432x288 with 1 Axes>"
      ]
     },
     "metadata": {
      "needs_background": "light"
     },
     "output_type": "display_data"
    },
    {
     "name": "stdout",
     "output_type": "stream",
     "text": [
      "                            OLS Regression Results                            \n",
      "==============================================================================\n",
      "Dep. Variable:                  price   R-squared:                       0.730\n",
      "Model:                            OLS   Adj. R-squared:                  0.726\n",
      "Method:                 Least Squares   F-statistic:                     191.1\n",
      "Date:                Sun, 07 Feb 2021   Prob (F-statistic):               0.00\n",
      "Time:                        10:34:06   Log-Likelihood:                -656.77\n",
      "No. Observations:                1294   AIC:                             1352.\n",
      "Df Residuals:                    1275   BIC:                             1450.\n",
      "Df Model:                          18                                         \n",
      "Covariance Type:            nonrobust                                         \n",
      "==============================================================================================\n",
      "                                 coef    std err          t      P>|t|      [0.025      0.975]\n",
      "----------------------------------------------------------------------------------------------\n",
      "const                        156.0959     12.898     12.103      0.000     130.793     181.399\n",
      "bathrooms                      0.1392      0.025      5.642      0.000       0.091       0.188\n",
      "BHK                            0.4097      0.025     16.610      0.000       0.361       0.458\n",
      "no_of_parking                  0.0239      0.019      1.281      0.200      -0.013       0.061\n",
      "longitude                     -1.4509      0.177     -8.176      0.000      -1.799      -1.103\n",
      "latitude                      -2.7131      0.118    -22.972      0.000      -2.945      -2.481\n",
      "area_log                       0.1696      0.027      6.294      0.000       0.117       0.222\n",
      "flat_floor_no_log              0.0157      0.015      1.013      0.311      -0.015       0.046\n",
      "total_floors_log               0.0789      0.023      3.394      0.001       0.033       0.124\n",
      "Possession_Status_received     0.0887      0.038      2.312      0.021       0.013       0.164\n",
      "new_or_resale_Resale           0.0649      0.036      1.815      0.070      -0.005       0.135\n",
      "furnishing_Semi-Furnished     -0.1114      0.034     -3.250      0.001      -0.179      -0.044\n",
      "furnishing_Unfurnished        -0.1693      0.034     -4.930      0.000      -0.237      -0.102\n",
      "overlooking_other             -0.0613      0.024     -2.564      0.010      -0.108      -0.014\n",
      "config_Studio                 -1.0329      0.266     -3.886      0.000      -1.554      -0.511\n",
      "config_apartment              -0.2949      0.207     -1.428      0.154      -0.700       0.110\n",
      "config_other                  -0.3671      0.238     -1.543      0.123      -0.834       0.100\n",
      "parking_type_Open             -0.0716      0.031     -2.297      0.022      -0.133      -0.010\n",
      "parking_type_both             -0.2282      0.075     -3.049      0.002      -0.375      -0.081\n",
      "==============================================================================\n",
      "Omnibus:                      272.953   Durbin-Watson:                   2.106\n",
      "Prob(Omnibus):                  0.000   Jarque-Bera (JB):             1524.127\n",
      "Skew:                          -0.857   Prob(JB):                         0.00\n",
      "Kurtosis:                       8.033   Cond. No.                     8.68e+04\n",
      "==============================================================================\n",
      "\n",
      "Warnings:\n",
      "[1] Standard Errors assume that the covariance matrix of the errors is correctly specified.\n",
      "[2] The condition number is large, 8.68e+04. This might indicate that there are\n",
      "strong multicollinearity or other numerical problems.\n"
     ]
    }
   ],
   "source": [
    "#We could maybe try to apply log transformation on the target variable and keep all parameters to improve this.\n",
    "import statsmodels.api as sm\n",
    "from statsmodels.api import OLS\n",
    "from sklearn.model_selection import train_test_split\n",
    "#Data for modelling\n",
    "model_data = pd.get_dummies(f_data,drop_first = True)\n",
    "\n",
    "x = model_data.drop('price',axis= 1)\n",
    "y = model_data.price\n",
    "x1 = sm.add_constant(x)\n",
    "\n",
    "x_train,x_test,y_train,y_test = train_test_split(x1,y,test_size = 0.2,random_state = 6)\n",
    "\n",
    "model = OLS(y_train,x_train).fit()\n",
    "\n",
    "sns.residplot(model.fittedvalues,model.resid)\n",
    "plt.title('Homoskedastic Pattern')\n",
    "plt.show()\n",
    "#As can be observed we have reduced the heteroskedastic nature of the model. Let us check the model summary\n",
    "print(model.summary())\n",
    "#Our model sees a massive jump in the r2_score. I think we must perform log transform on the target variable."
   ]
  },
  {
   "cell_type": "code",
   "execution_count": 134,
   "metadata": {},
   "outputs": [
    {
     "name": "stdout",
     "output_type": "stream",
     "text": [
      "OLS all params (log on target) train RMSE is: 0.4019667404060628\n",
      "OLS all params (log on target) train r2_score is: 0.729542477786807\n",
      "OLS all params (log on target) test RMSE is: 0.3943372717549528\n",
      "OLS all params (log on target) test r2_score is: 0.7296808269180284\n"
     ]
    }
   ],
   "source": [
    "metrics(y_train,model.predict(x_train),model_name = 'OLS all params (log on target) train')\n",
    "metrics(y_test,model.predict(x_test),model_name = 'OLS all params (log on target) test')\n",
    "#Model is still overfitting but r2_score has increased."
   ]
  },
  {
   "cell_type": "markdown",
   "metadata": {},
   "source": [
    "### Regularization\n",
    "\n",
    "**Regularization Libraries**"
   ]
  },
  {
   "cell_type": "code",
   "execution_count": 135,
   "metadata": {},
   "outputs": [],
   "source": [
    "from sklearn.linear_model import Ridge,Lasso,ElasticNet"
   ]
  },
  {
   "cell_type": "code",
   "execution_count": 136,
   "metadata": {},
   "outputs": [],
   "source": [
    "#Function for fitting regularized models\n",
    "def regularized_models(data,target,model_name = 'Ridge',model = Ridge(alpha = 1)):\n",
    "    from sklearn.model_selection import train_test_split\n",
    "    from sklearn.linear_model import Ridge,Lasso,ElasticNet\n",
    "    import pandas as pd\n",
    "    import numpy as np\n",
    "    \n",
    "    #Function for calculating RMSE and r2score\n",
    "    def metrics(y,ypred,model_name = 'Unknown'):\n",
    "        from sklearn.metrics import mean_squared_error,r2_score\n",
    "        RMSE = np.sqrt(mean_squared_error(y,ypred))\n",
    "        r2score = r2_score(y,ypred)\n",
    "        print(\"{} RMSE is: {}\".format(model_name,RMSE))\n",
    "        print(\"{} r2_score is: {}\".format(model_name,r2score))\n",
    "    \n",
    "    #Get dummies for data\n",
    "    d = pd.get_dummies(data,drop_first = True)\n",
    "    \n",
    "    #Create x and y for seperating dependent and independent variables\n",
    "    x = d.drop(target,axis = 1)\n",
    "    y = d[target]\n",
    "    \n",
    "    #Split into train and test\n",
    "    x_train,x_test,y_train,y_test = train_test_split(x,y,test_size = 0.2,random_state = 1)\n",
    "    m = model\n",
    "    m.fit(x_train,y_train)\n",
    "    \n",
    "    #Printing metrics\n",
    "    metrics(y_train,model.predict(x_train),model_name+' train')\n",
    "    metrics(y_test,model.predict(x_test),model_name+' test')"
   ]
  },
  {
   "cell_type": "code",
   "execution_count": 137,
   "metadata": {},
   "outputs": [],
   "source": [
    "#Function to find best parameters\n",
    "def grid_search(model,x,y,params,cv = 5,verbose = 0,n_jobs = -1):\n",
    "    from sklearn.model_selection import GridSearchCV\n",
    "    grid = GridSearchCV(estimator = model,param_grid = params,scoring='r2',cv = cv,verbose = verbose,n_jobs = n_jobs)\n",
    "    grid.fit(x,y)\n",
    "    return grid.best_params_"
   ]
  },
  {
   "cell_type": "markdown",
   "metadata": {},
   "source": [
    "###### Lasso"
   ]
  },
  {
   "cell_type": "code",
   "execution_count": 138,
   "metadata": {},
   "outputs": [
    {
     "name": "stdout",
     "output_type": "stream",
     "text": [
      "Lasso train RMSE is: 0.7751582558391502\n",
      "Lasso train r2_score is: 0.0\n",
      "Lasso test RMSE is: 0.7495005231456728\n",
      "Lasso test r2_score is: -0.0004828994895755834\n"
     ]
    }
   ],
   "source": [
    "#Without hyperpararmeter tuning\n",
    "regularized_models(f_data,target = 'price',model_name = 'Lasso',model = Lasso(alpha = 1))"
   ]
  },
  {
   "cell_type": "code",
   "execution_count": 139,
   "metadata": {},
   "outputs": [
    {
     "data": {
      "text/plain": [
       "{'alpha': 0.001}"
      ]
     },
     "execution_count": 139,
     "metadata": {},
     "output_type": "execute_result"
    }
   ],
   "source": [
    "params = {'alpha':[0.001,0.005,0.05,0.01,0.1,1,1.5,2,5,10]}\n",
    "grid_search(Lasso(),x_train,y_train,params = params)"
   ]
  },
  {
   "cell_type": "code",
   "execution_count": 140,
   "metadata": {},
   "outputs": [
    {
     "name": "stdout",
     "output_type": "stream",
     "text": [
      "Lasso train RMSE is: 0.3977188509097997\n",
      "Lasso train r2_score is: 0.7367480491481616\n",
      "Lasso test RMSE is: 0.41393722607692135\n",
      "Lasso test r2_score is: 0.6948349737869844\n"
     ]
    }
   ],
   "source": [
    "regularized_models(f_data,target = 'price',model_name = 'Lasso',model = Lasso(alpha = 0.001))"
   ]
  },
  {
   "cell_type": "markdown",
   "metadata": {},
   "source": [
    "###### Ridge"
   ]
  },
  {
   "cell_type": "code",
   "execution_count": 141,
   "metadata": {},
   "outputs": [
    {
     "name": "stdout",
     "output_type": "stream",
     "text": [
      "ridge train RMSE is: 0.3975995166697963\n",
      "ridge train r2_score is: 0.7369060012212542\n",
      "ridge test RMSE is: 0.41430989884663266\n",
      "ridge test r2_score is: 0.6942852387878558\n"
     ]
    }
   ],
   "source": [
    "#Without hyperparameter tuning\n",
    "regularized_models(f_data,target = 'price',model_name = 'ridge')"
   ]
  },
  {
   "cell_type": "code",
   "execution_count": 142,
   "metadata": {},
   "outputs": [
    {
     "data": {
      "text/plain": [
       "{'alpha': 0.1}"
      ]
     },
     "execution_count": 142,
     "metadata": {},
     "output_type": "execute_result"
    }
   ],
   "source": [
    "params = {'alpha':[0.001,0.005,0.05,0.01,0.1,1,1.5,2,5,10]}\n",
    "grid_search(Ridge(),x_train,y_train,params = params)"
   ]
  },
  {
   "cell_type": "code",
   "execution_count": 143,
   "metadata": {},
   "outputs": [
    {
     "name": "stdout",
     "output_type": "stream",
     "text": [
      "ridge train RMSE is: 0.39658204348930826\n",
      "ridge train r2_score is: 0.7382508145842346\n",
      "ridge test RMSE is: 0.41593701712847986\n",
      "ridge test r2_score is: 0.6918792578338839\n"
     ]
    }
   ],
   "source": [
    "regularized_models(f_data,target = 'price',model_name = 'ridge',model = Ridge(alpha = 0.1))"
   ]
  },
  {
   "cell_type": "markdown",
   "metadata": {},
   "source": [
    "###### ElasticNet"
   ]
  },
  {
   "cell_type": "code",
   "execution_count": 144,
   "metadata": {},
   "outputs": [
    {
     "name": "stdout",
     "output_type": "stream",
     "text": [
      "ElasticNet train RMSE is: 0.7751582558391502\n",
      "ElasticNet train r2_score is: 0.0\n",
      "ElasticNet test RMSE is: 0.7495005231456728\n",
      "ElasticNet test r2_score is: -0.0004828994895755834\n"
     ]
    }
   ],
   "source": [
    "#Without hyperparameter tuning\n",
    "regularized_models(f_data,target = 'price',model_name = 'ElasticNet',model = ElasticNet(alpha = 1,l1_ratio = 0.5))"
   ]
  },
  {
   "cell_type": "code",
   "execution_count": 145,
   "metadata": {},
   "outputs": [
    {
     "data": {
      "text/plain": [
       "{'alpha': 0.001, 'l1_ratio': 1}"
      ]
     },
     "execution_count": 145,
     "metadata": {},
     "output_type": "execute_result"
    }
   ],
   "source": [
    "params_e = {'alpha':[0.001,0.005,0.05,0.01,0.1,1,1.5,2,5,10],'l1_ratio':[0.001,0.005,0.05,0.01,0.1,0.5,1,1.2,1.6]}\n",
    "b_e = grid_search(ElasticNet(),x_train,y_train,params = params_e)\n",
    "b_e"
   ]
  },
  {
   "cell_type": "code",
   "execution_count": 146,
   "metadata": {},
   "outputs": [
    {
     "name": "stdout",
     "output_type": "stream",
     "text": [
      "ElasticNet train RMSE is: 0.3977188509097997\n",
      "ElasticNet train r2_score is: 0.7367480491481616\n",
      "ElasticNet test RMSE is: 0.41393722607692135\n",
      "ElasticNet test r2_score is: 0.6948349737869844\n"
     ]
    }
   ],
   "source": [
    "regularized_models(model_data,target = 'price',model_name = 'ElasticNet',model = ElasticNet(alpha = b_e['alpha'],l1_ratio = b_e['l1_ratio']))"
   ]
  },
  {
   "cell_type": "markdown",
   "metadata": {},
   "source": [
    "## Trying non-linear models on our dataset"
   ]
  },
  {
   "cell_type": "code",
   "execution_count": 147,
   "metadata": {},
   "outputs": [],
   "source": [
    "def non_linear_models(data,model):\n",
    "    from sklearn.model_selection import train_test_split\n",
    "    model = model\n",
    "    x = data.drop('price',axis = 1)\n",
    "    y = data.price\n",
    "    x_train,x_test,y_train,y_test = train_test_split(x,y,test_size = 0.2,random_state = 6)\n",
    "    model.fit(x_train,y_train)\n",
    "    \n",
    "    def metrics(y,ypred,model_name = 'Unknown'):\n",
    "        from sklearn.metrics import mean_squared_error,r2_score\n",
    "        RMSE = np.sqrt(mean_squared_error(y,ypred))\n",
    "        r2score = r2_score(y,ypred)\n",
    "        print(\"{} RMSE is: {}\".format(model_name,RMSE))\n",
    "        print(\"{} r2_score is: {}\".format(model_name,r2score))\n",
    "\n",
    "    \n",
    "    metrics(y_train,model.predict(x_train),str(model)+' train')\n",
    "    metrics(y_test,model.predict(x_test),str(model)+' test')"
   ]
  },
  {
   "cell_type": "markdown",
   "metadata": {},
   "source": [
    "###### DecisionTree"
   ]
  },
  {
   "cell_type": "code",
   "execution_count": 148,
   "metadata": {},
   "outputs": [
    {
     "name": "stdout",
     "output_type": "stream",
     "text": [
      "DecisionTreeRegressor() train RMSE is: 0.0021967807355428156\n",
      "DecisionTreeRegressor() train r2_score is: 0.9999919222157846\n",
      "DecisionTreeRegressor() test RMSE is: 0.330610275081307\n",
      "DecisionTreeRegressor() test r2_score is: 0.8099911238273259\n"
     ]
    }
   ],
   "source": [
    "#Trying RandomForestRegressor\n",
    "from sklearn.tree import DecisionTreeRegressor\n",
    "non_linear_models(model_data,DecisionTreeRegressor())\n",
    "#Decision Tree known for its infamous nature of overfitting has shown expected results here. \n",
    "# Test r2_score is way lower than train r2_score."
   ]
  },
  {
   "cell_type": "code",
   "execution_count": 149,
   "metadata": {},
   "outputs": [],
   "source": [
    "#We will use our grid search function to find best parameters for randomforest.\n",
    "params_dt = {\n",
    "            'criterion':['mse','mae'],\n",
    "            'min_samples_split':[2,5,8,10,20,40,100],\n",
    "            'min_samples_leaf':[1,5,10,15,25,50,100],\n",
    "            \n",
    "                 }"
   ]
  },
  {
   "cell_type": "code",
   "execution_count": 150,
   "metadata": {},
   "outputs": [
    {
     "name": "stdout",
     "output_type": "stream",
     "text": [
      "Fitting 5 folds for each of 98 candidates, totalling 490 fits\n"
     ]
    },
    {
     "name": "stderr",
     "output_type": "stream",
     "text": [
      "[Parallel(n_jobs=-1)]: Using backend LokyBackend with 8 concurrent workers.\n",
      "[Parallel(n_jobs=-1)]: Done  56 tasks      | elapsed:    0.5s\n",
      "[Parallel(n_jobs=-1)]: Done 490 out of 490 | elapsed:    5.0s finished\n"
     ]
    },
    {
     "data": {
      "text/plain": [
       "{'criterion': 'mse', 'min_samples_leaf': 1, 'min_samples_split': 5}"
      ]
     },
     "execution_count": 150,
     "metadata": {},
     "output_type": "execute_result"
    }
   ],
   "source": [
    "#Creating train and test split for grid search\n",
    "x = model_data.drop('price',axis = 1)\n",
    "y = model_data.price\n",
    "x_train,x_test,y_train,y_test = train_test_split(x,y,test_size = 0.2,random_state = 6)\n",
    "best_param_dt = grid_search(DecisionTreeRegressor(),x = x_train, y = y_train,params = params_dt,cv = 5,verbose = 1)\n",
    "best_param_dt"
   ]
  },
  {
   "cell_type": "code",
   "execution_count": 151,
   "metadata": {},
   "outputs": [
    {
     "name": "stdout",
     "output_type": "stream",
     "text": [
      "DecisionTreeRegressor(min_samples_split=5) train RMSE is: 0.0971708544116844\n",
      "DecisionTreeRegressor(min_samples_split=5) train r2_score is: 0.9841951321968877\n",
      "DecisionTreeRegressor(min_samples_split=5) test RMSE is: 0.32716099263255816\n",
      "DecisionTreeRegressor(min_samples_split=5) test r2_score is: 0.8139351959952797\n"
     ]
    }
   ],
   "source": [
    "non_linear_models(model_data,DecisionTreeRegressor(criterion = best_param_dt['criterion'],\n",
    "                                                   min_samples_leaf = best_param_dt['min_samples_leaf'],\n",
    "                                                   min_samples_split = best_param_dt['min_samples_split']))\n",
    "#The tuned parameters seem to reduce the amount of overfitting. \n",
    "#But still there is a big gap between train and test score."
   ]
  },
  {
   "cell_type": "markdown",
   "metadata": {},
   "source": [
    "###### RandomForest"
   ]
  },
  {
   "cell_type": "code",
   "execution_count": 152,
   "metadata": {},
   "outputs": [
    {
     "name": "stdout",
     "output_type": "stream",
     "text": [
      "RandomForestRegressor() train RMSE is: 0.104532027762332\n",
      "RandomForestRegressor() train r2_score is: 0.9817098370377896\n",
      "RandomForestRegressor() test RMSE is: 0.2604455824193405\n",
      "RandomForestRegressor() test r2_score is: 0.8820833353513353\n"
     ]
    }
   ],
   "source": [
    "#Trying RandomForestRegressor\n",
    "from sklearn.ensemble import RandomForestRegressor\n",
    "non_linear_models(model_data,RandomForestRegressor())\n",
    "\n",
    "#RandomForestRegressor is overfitting the data since we are getting a very high r2_score.\n",
    "#We can try hyperparameter tuning to try to reduce this problem."
   ]
  },
  {
   "cell_type": "code",
   "execution_count": 153,
   "metadata": {},
   "outputs": [],
   "source": [
    "#We will use our grid search function to find best parameters for randomforest.\n",
    "\n",
    "\n",
    "params_rf = {'n_estimators': [25,50,100,150,200,225,250],\n",
    "            'criterion':['mse','mae'],\n",
    "            'min_samples_split':[2,5,8,10,20,40,100],\n",
    "            'min_samples_leaf':[1,5,10,15,25,50,100],\n",
    "            'bootstrap':[True,False]\n",
    "                 }"
   ]
  },
  {
   "cell_type": "code",
   "execution_count": 154,
   "metadata": {},
   "outputs": [],
   "source": [
    "# #Creating train and test split for grid search\n",
    "# x = model_data.drop('price',axis = 1)\n",
    "# y = model_data.price\n",
    "# x_train,x_test,y_train,y_test = train_test_split(x,y,test_size = 0.2,random_state = 6)\n",
    "# best_param_rf = grid_search(RandomForestRegressor(),x = x_train, y = y_train,params = params_rf,cv = 5,verbose = 1)\n",
    "# best_param_rf"
   ]
  },
  {
   "cell_type": "code",
   "execution_count": 155,
   "metadata": {},
   "outputs": [],
   "source": [
    "best_param_rf = {'bootstrap': True,\n",
    " 'criterion': 'mse',\n",
    " 'min_samples_leaf': 1,\n",
    " 'min_samples_split': 2,\n",
    " 'n_estimators': 225}"
   ]
  },
  {
   "cell_type": "code",
   "execution_count": 156,
   "metadata": {},
   "outputs": [
    {
     "name": "stdout",
     "output_type": "stream",
     "text": [
      "RandomForestRegressor(n_estimators=225) train RMSE is: 0.10402172781588863\n",
      "RandomForestRegressor(n_estimators=225) train r2_score is: 0.981887977412862\n",
      "RandomForestRegressor(n_estimators=225) test RMSE is: 0.2640882318169402\n",
      "RandomForestRegressor(n_estimators=225) test r2_score is: 0.8787618521639455\n"
     ]
    }
   ],
   "source": [
    "#Trying RandomForestRegressor\n",
    "from sklearn.ensemble import RandomForestRegressor\n",
    "non_linear_models(model_data,RandomForestRegressor(bootstrap = best_param_rf['bootstrap'],criterion = best_param_rf['criterion'],min_samples_leaf = best_param_rf['min_samples_leaf'],min_samples_split = best_param_rf['min_samples_split'],n_estimators = best_param_rf['n_estimators']))\n",
    "#RandomForestRegressor is overfitting the data since we are getting a very high r2_score.\n",
    "#We can try hyperparameter tuning to try to reduce this problem."
   ]
  },
  {
   "cell_type": "code",
   "execution_count": 157,
   "metadata": {},
   "outputs": [],
   "source": [
    "#Apply cross validation on random forest to see if there is any change. (Currently the model is overfitting.)"
   ]
  },
  {
   "cell_type": "code",
   "execution_count": 158,
   "metadata": {},
   "outputs": [],
   "source": [
    "#Creating a function for cross val score.\n",
    "def cross_val(estimator,X,y,cv,verbose = 0):\n",
    "    from sklearn.model_selection import cross_val_score\n",
    "    s = cross_val_score(estimator = estimator,X = X,y = y,cv = cv,verbose = verbose)\n",
    "    print(\"Min Cross_val_score:\",min(s))\n",
    "    print(\"Max Cross_val_score:\",max(s))\n",
    "    print(\"Average Cross_val_score:\",np.mean(s))"
   ]
  },
  {
   "cell_type": "code",
   "execution_count": 159,
   "metadata": {},
   "outputs": [
    {
     "name": "stdout",
     "output_type": "stream",
     "text": [
      "Min Cross_val_score: 0.8229683743878765\n",
      "Max Cross_val_score: 0.8979058701712844\n",
      "Average Cross_val_score: 0.8525907718511074\n"
     ]
    }
   ],
   "source": [
    "cross_val(estimator = RandomForestRegressor(bootstrap = True,criterion = 'mse',min_samples_leaf = 1,min_samples_split = 2,n_estimators = 225),X = x_train,y = y_train,cv = 5)\n",
    "#On the train data when we apply cross validation, we get below mean score. \n",
    "#This is inline with the test r2_score that we are getting above."
   ]
  },
  {
   "attachments": {
    "image.png": {
     "image/png": "[encoded data removed]"
    }
   },
   "cell_type": "markdown",
   "metadata": {},
   "source": [
    "### Adaboost (Adaptive Boosting):\n",
    "\n",
    "* Adaboost introduces the concept of weights into decision trees and random forests and is moving towards deep learning approaches.\n",
    "* Adaboost combines a lot of week learners to make classifications.\n",
    "* Some learners(tree stumps) get more say than others.\n",
    "* Each stump is made by taking the previous stumps mistakes into account.\n",
    "* At the start weights = (1/N (number of rows))\n",
    "* Classification is checked for each feature and correct and incorrect classifications are obtained.\n",
    "* Gini Index determines which stump will come first. Each stump is made of one feature. Lower gini index means feature will be the first stump.\n",
    "* Total error = Sum of weights of correctly classified samples. (0-1). Lower is better.\n",
    "* Amount of say (alpha):\n",
    "![image.png](attachment:image.png)"
   ]
  },
  {
   "attachments": {
    "image.png": {
     "image/png": "[encoded data removed]"
    }
   },
   "cell_type": "markdown",
   "metadata": {},
   "source": [
    "* **In below diagram negative means it will reverse the classification output to make the incorrect classification correct. If error is 0.5, amount of say is 0.**\n",
    "\n",
    "![image.png](attachment:image.png)\n",
    "\n",
    "* The new sample weight = old sample weight * e^amount of say."
   ]
  },
  {
   "attachments": {
    "image.png": {
     "image/png": "[encoded data removed]"
    }
   },
   "cell_type": "markdown",
   "metadata": {},
   "source": [
    "* Next we will decrease the sample weights = sample weight * e^-amount of say. This is done to \n",
    "![image.png](attachment:image.png)\n",
    "* After we have found the sample weight we will make this the new weights for the correct and incorrect classifications and normalize them. These weights will now be used for the next stump. To create a new collection of samples and get rid of the old samples."
   ]
  },
  {
   "cell_type": "code",
   "execution_count": 160,
   "metadata": {},
   "outputs": [
    {
     "name": "stdout",
     "output_type": "stream",
     "text": [
      "AdaBoostRegressor() train RMSE is: 0.4105400919991742\n",
      "AdaBoostRegressor() train r2_score is: 0.7178825333495953\n",
      "AdaBoostRegressor() test RMSE is: 0.43586340951384106\n",
      "AdaBoostRegressor() test r2_score is: 0.6697506139258353\n"
     ]
    }
   ],
   "source": [
    "from sklearn.ensemble import AdaBoostRegressor\n",
    "non_linear_models(model_data,AdaBoostRegressor())\n",
    "#Adaboost model without tuning seems to have reduced the gap between the train and the test RMSE by 0.4 basis pts."
   ]
  },
  {
   "cell_type": "code",
   "execution_count": 161,
   "metadata": {},
   "outputs": [],
   "source": [
    "best_param_rf = {'bootstrap': True,\n",
    " 'criterion': 'mse',\n",
    " 'min_samples_leaf': 1,\n",
    " 'min_samples_split': 2,\n",
    " 'n_estimators': 225}"
   ]
  },
  {
   "cell_type": "code",
   "execution_count": 162,
   "metadata": {},
   "outputs": [],
   "source": [
    "# # dt = DecisionTreeRegressor(criterion = best_param_dt['criterion'],\n",
    "# #                                                    min_samples_leaf = best_param_dt['min_samples_leaf'],\n",
    "# #                                                    min_samples_split = best_param_dt['min_samples_split'])\n",
    "\n",
    "# rf = RandomForestRegressor(bootstrap = best_param_rf['bootstrap'],\n",
    "#                            criterion = best_param_rf['criterion'],\n",
    "#                            min_samples_leaf = best_param_rf['min_samples_leaf'],\n",
    "#                            min_samples_split = best_param_rf['min_samples_split'],\n",
    "#                            n_estimators = best_param_rf['n_estimators'])\n",
    "\n",
    "# params_abr = {\n",
    "#     'base_estimator':[rf],\n",
    "#     'n_estimators': [25,50,100,150],\n",
    "#     'learning_rate':[0.1,0.5,1.0,1.5,2],\n",
    "# }\n",
    "\n",
    "# best_param_abr = grid_search(model = AdaBoostRegressor(),x = x_train,y = y_train,params = params_abr,cv = 5,verbose = 2)\n",
    "# best_param_abr"
   ]
  },
  {
   "cell_type": "code",
   "execution_count": 163,
   "metadata": {},
   "outputs": [],
   "source": [
    "#RandomForestRegressor(n_estimators=225)\n",
    "best_param_abr = {'base_estimator': DecisionTreeRegressor(),\n",
    " 'learning_rate': 1.0,\n",
    " 'n_estimators': 100}"
   ]
  },
  {
   "cell_type": "code",
   "execution_count": 164,
   "metadata": {},
   "outputs": [
    {
     "name": "stdout",
     "output_type": "stream",
     "text": [
      "AdaBoostRegressor(base_estimator=DecisionTreeRegressor(), n_estimators=100) train RMSE is: 0.009879604647874315\n",
      "AdaBoostRegressor(base_estimator=DecisionTreeRegressor(), n_estimators=100) train r2_score is: 0.9998366203519137\n",
      "AdaBoostRegressor(base_estimator=DecisionTreeRegressor(), n_estimators=100) test RMSE is: 0.24998325094541277\n",
      "AdaBoostRegressor(base_estimator=DecisionTreeRegressor(), n_estimators=100) test r2_score is: 0.891366688460479\n"
     ]
    }
   ],
   "source": [
    "non_linear_models(model_data,AdaBoostRegressor(base_estimator = best_param_abr['base_estimator'],\n",
    "                                               n_estimators = best_param_abr['n_estimators'],\n",
    "                                               learning_rate = best_param_abr['learning_rate']))"
   ]
  },
  {
   "cell_type": "markdown",
   "metadata": {},
   "source": [
    "###### Since not all classifiers are considered equal and weights are playing a significant role, we have been able to increase our test score to 90% in this case. However I still feel the model is overfitting because our train score is 99% and testRMSE is grater than train RMSE. It took around 2.5 hours on my system to run the grid search!!!!"
   ]
  },
  {
   "cell_type": "code",
   "execution_count": 165,
   "metadata": {
    "scrolled": true
   },
   "outputs": [
    {
     "name": "stderr",
     "output_type": "stream",
     "text": [
      "[Parallel(n_jobs=1)]: Using backend SequentialBackend with 1 concurrent workers.\n"
     ]
    },
    {
     "name": "stdout",
     "output_type": "stream",
     "text": [
      "[CV]  ................................................................\n",
      "[CV] ................................................. , total=   0.8s\n",
      "[CV]  ................................................................\n"
     ]
    },
    {
     "name": "stderr",
     "output_type": "stream",
     "text": [
      "[Parallel(n_jobs=1)]: Done   1 out of   1 | elapsed:    0.7s remaining:    0.0s\n"
     ]
    },
    {
     "name": "stdout",
     "output_type": "stream",
     "text": [
      "[CV] ................................................. , total=   0.6s\n",
      "[CV]  ................................................................\n",
      "[CV] ................................................. , total=   0.6s\n",
      "[CV]  ................................................................\n",
      "[CV] ................................................. , total=   0.8s\n",
      "[CV]  ................................................................\n",
      "[CV] ................................................. , total=   0.6s\n",
      "Min Cross_val_score: 0.8509687615300578\n",
      "Max Cross_val_score: 0.9179379473310944\n",
      "Average Cross_val_score: 0.881022782681655\n"
     ]
    },
    {
     "name": "stderr",
     "output_type": "stream",
     "text": [
      "[Parallel(n_jobs=1)]: Done   5 out of   5 | elapsed:    3.3s finished\n"
     ]
    }
   ],
   "source": [
    "#Applying cross validation score\n",
    "best_abr = AdaBoostRegressor(base_estimator = best_param_abr['base_estimator'],\n",
    "                                               n_estimators = best_param_abr['n_estimators'],\n",
    "                                               learning_rate = best_param_abr['learning_rate'])\n",
    "cross_val(estimator = best_abr,X = x_train,y = y_train,cv = 5,verbose = 2)"
   ]
  },
  {
   "cell_type": "markdown",
   "metadata": {},
   "source": [
    "###### Adaboost seems to be overfitting on my dataset at this instance. I would look at gradient boosting next. Where along with weights we are also reducing the error using gradient descent."
   ]
  },
  {
   "cell_type": "markdown",
   "metadata": {},
   "source": [
    "### GradientBoosting"
   ]
  },
  {
   "cell_type": "code",
   "execution_count": 166,
   "metadata": {},
   "outputs": [
    {
     "name": "stdout",
     "output_type": "stream",
     "text": [
      "GradientBoostingRegressor() train RMSE is: 0.2531827149799305\n",
      "GradientBoostingRegressor() train r2_score is: 0.8927031604163354\n",
      "GradientBoostingRegressor() test RMSE is: 0.30036824587853367\n",
      "GradientBoostingRegressor() test r2_score is: 0.8431627451967856\n"
     ]
    }
   ],
   "source": [
    "from sklearn.ensemble import GradientBoostingRegressor\n",
    "non_linear_models(data = model_data,model = GradientBoostingRegressor())\n",
    "#Without applying any kind of parameter tuning, GradientBoosting is performing very well."
   ]
  },
  {
   "cell_type": "code",
   "execution_count": 167,
   "metadata": {},
   "outputs": [],
   "source": [
    "params_gbr = {\n",
    "        'learning_rate': [0.001,0.01,0.05,0.1,0.5,1,1.5,2],\n",
    "        'n_estimators': [50,100,150,200,250,300],\n",
    "        'min_samples_leaf': [8,10,15,20,25,32],\n",
    "        'min_samples_split':[100,150,200,250],\n",
    "        'max_depth':[5,6,7,8],\n",
    "        'subsample':[0.1,0.5,0.8,1]\n",
    "}"
   ]
  },
  {
   "cell_type": "code",
   "execution_count": 168,
   "metadata": {
    "scrolled": true
   },
   "outputs": [],
   "source": [
    "# gbr_best = grid_search(model = GradientBoostingRegressor(),\n",
    "#             x = x_train,\n",
    "#             y = y_train,\n",
    "#             params = params_gbr,\n",
    "#             cv = 5,\n",
    "#             verbose = 3,\n",
    "#             n_jobs = 4\n",
    "#            )\n",
    "# gbr_best"
   ]
  },
  {
   "cell_type": "code",
   "execution_count": 169,
   "metadata": {},
   "outputs": [],
   "source": [
    "gbr_best = {'learning_rate': 0.1,\n",
    " 'max_depth': 8,\n",
    " 'min_samples_leaf': 8,\n",
    " 'min_samples_split': 100,\n",
    " 'n_estimators': 300,\n",
    " 'subsample': 0.8}"
   ]
  },
  {
   "cell_type": "code",
   "execution_count": 170,
   "metadata": {},
   "outputs": [
    {
     "name": "stdout",
     "output_type": "stream",
     "text": [
      "GradientBoostingRegressor(max_depth=8, min_samples_leaf=8,\n",
      "                          min_samples_split=100, n_estimators=300,\n",
      "                          subsample=0.8) train RMSE is: 0.10312639161041015\n",
      "GradientBoostingRegressor(max_depth=8, min_samples_leaf=8,\n",
      "                          min_samples_split=100, n_estimators=300,\n",
      "                          subsample=0.8) train r2_score is: 0.982198423339945\n",
      "GradientBoostingRegressor(max_depth=8, min_samples_leaf=8,\n",
      "                          min_samples_split=100, n_estimators=300,\n",
      "                          subsample=0.8) test RMSE is: 0.24291266063534345\n",
      "GradientBoostingRegressor(max_depth=8, min_samples_leaf=8,\n",
      "                          min_samples_split=100, n_estimators=300,\n",
      "                          subsample=0.8) test r2_score is: 0.8974250067300505\n"
     ]
    }
   ],
   "source": [
    "non_linear_models(data = model_data,\n",
    "                  model = GradientBoostingRegressor(\n",
    "                      learning_rate = gbr_best['learning_rate'],\n",
    "                      n_estimators = gbr_best['n_estimators'],\n",
    "                      min_samples_leaf = gbr_best['min_samples_leaf'],\n",
    "                      min_samples_split = gbr_best['min_samples_split'],\n",
    "                      max_depth = gbr_best['max_depth'],\n",
    "                      subsample = gbr_best['subsample']\n",
    "                  ))\n"
   ]
  },
  {
   "cell_type": "markdown",
   "metadata": {},
   "source": [
    "###### There is a slight reduction in the train score which tells me that gradient boosting has introduced some bias and reduced overfitting."
   ]
  },
  {
   "cell_type": "code",
   "execution_count": 171,
   "metadata": {},
   "outputs": [],
   "source": [
    "gbr_model = GradientBoostingRegressor(\n",
    "                      learning_rate = gbr_best['learning_rate'],\n",
    "                      n_estimators = gbr_best['n_estimators'],\n",
    "                      min_samples_leaf = gbr_best['min_samples_leaf'],\n",
    "                      min_samples_split = gbr_best['min_samples_split'],\n",
    "                      max_depth = gbr_best['max_depth'],\n",
    "                      subsample = gbr_best['subsample']\n",
    "                  )\n",
    "gbr_model.fit(x_train,y_train)\n",
    "train_pred = gbr_model.predict(x_train)\n",
    "test_pred = gbr_model.predict(x_test)"
   ]
  },
  {
   "cell_type": "code",
   "execution_count": 172,
   "metadata": {},
   "outputs": [
    {
     "name": "stdout",
     "output_type": "stream",
     "text": [
      "GradientBoostRegressor train RMSE is: 0.10319165936452543\n",
      "GradientBoostRegressor train r2_score is: 0.9821758832979965\n"
     ]
    }
   ],
   "source": [
    "metrics(y = y_train,ypred = train_pred,model_name = 'GradientBoostRegressor train')"
   ]
  },
  {
   "cell_type": "code",
   "execution_count": 173,
   "metadata": {},
   "outputs": [
    {
     "name": "stdout",
     "output_type": "stream",
     "text": [
      "GradientBoostRegressor test RMSE is: 0.2423579396924396\n",
      "GradientBoostRegressor test r2_score is: 0.8978929570393849\n"
     ]
    }
   ],
   "source": [
    "metrics(y = y_test,ypred = test_pred,model_name = 'GradientBoostRegressor test')"
   ]
  },
  {
   "cell_type": "code",
   "execution_count": 174,
   "metadata": {},
   "outputs": [],
   "source": [
    "#Apply cross_val_score on entire dataset.\n",
    "# cross_val(estimator = gbr_model,X = x,y = y,cv = 15,verbose = 1)"
   ]
  },
  {
   "cell_type": "code",
   "execution_count": 175,
   "metadata": {},
   "outputs": [],
   "source": [
    "#Saving this model\n",
    "import pickle\n",
    "filename = 'gbrmodel.pickle'\n",
    "pickle.dump(obj = gbr_model,file = open('Saved Models/'+filename,'wb'))"
   ]
  },
  {
   "cell_type": "markdown",
   "metadata": {},
   "source": [
    "### XGBoost"
   ]
  },
  {
   "cell_type": "code",
   "execution_count": 176,
   "metadata": {},
   "outputs": [],
   "source": [
    "import xgboost as xgb\n",
    "from xgboost import XGBRegressor"
   ]
  },
  {
   "cell_type": "code",
   "execution_count": 177,
   "metadata": {},
   "outputs": [
    {
     "data": {
      "text/html": [
       "<div>\n",
       "<style scoped>\n",
       "    .dataframe tbody tr th:only-of-type {\n",
       "        vertical-align: middle;\n",
       "    }\n",
       "\n",
       "    .dataframe tbody tr th {\n",
       "        vertical-align: top;\n",
       "    }\n",
       "\n",
       "    .dataframe thead th {\n",
       "        text-align: right;\n",
       "    }\n",
       "</style>\n",
       "<table border=\"1\" class=\"dataframe\">\n",
       "  <thead>\n",
       "    <tr style=\"text-align: right;\">\n",
       "      <th></th>\n",
       "      <th>bathrooms</th>\n",
       "      <th>price</th>\n",
       "      <th>BHK</th>\n",
       "      <th>no_of_parking</th>\n",
       "      <th>longitude</th>\n",
       "      <th>latitude</th>\n",
       "      <th>area_log</th>\n",
       "      <th>flat_floor_no_log</th>\n",
       "      <th>total_floors_log</th>\n",
       "      <th>Possession_Status_received</th>\n",
       "      <th>new_or_resale_Resale</th>\n",
       "      <th>furnishing_Semi-Furnished</th>\n",
       "      <th>furnishing_Unfurnished</th>\n",
       "      <th>overlooking_other</th>\n",
       "      <th>config_Studio</th>\n",
       "      <th>config_apartment</th>\n",
       "      <th>config_other</th>\n",
       "      <th>parking_type_Open</th>\n",
       "      <th>parking_type_both</th>\n",
       "    </tr>\n",
       "  </thead>\n",
       "  <tbody>\n",
       "    <tr>\n",
       "      <th>1881</th>\n",
       "      <td>2.0</td>\n",
       "      <td>-0.020203</td>\n",
       "      <td>2</td>\n",
       "      <td>1</td>\n",
       "      <td>72.832877</td>\n",
       "      <td>19.063682</td>\n",
       "      <td>6.572283</td>\n",
       "      <td>2.197225</td>\n",
       "      <td>2.708050</td>\n",
       "      <td>1</td>\n",
       "      <td>0</td>\n",
       "      <td>0</td>\n",
       "      <td>1</td>\n",
       "      <td>1</td>\n",
       "      <td>0</td>\n",
       "      <td>1</td>\n",
       "      <td>0</td>\n",
       "      <td>1</td>\n",
       "      <td>0</td>\n",
       "    </tr>\n",
       "    <tr>\n",
       "      <th>1679</th>\n",
       "      <td>1.0</td>\n",
       "      <td>-1.386294</td>\n",
       "      <td>1</td>\n",
       "      <td>0</td>\n",
       "      <td>72.913539</td>\n",
       "      <td>19.273478</td>\n",
       "      <td>6.278521</td>\n",
       "      <td>1.098612</td>\n",
       "      <td>1.098612</td>\n",
       "      <td>1</td>\n",
       "      <td>1</td>\n",
       "      <td>0</td>\n",
       "      <td>1</td>\n",
       "      <td>0</td>\n",
       "      <td>0</td>\n",
       "      <td>1</td>\n",
       "      <td>0</td>\n",
       "      <td>1</td>\n",
       "      <td>0</td>\n",
       "    </tr>\n",
       "    <tr>\n",
       "      <th>35</th>\n",
       "      <td>1.0</td>\n",
       "      <td>0.641854</td>\n",
       "      <td>1</td>\n",
       "      <td>1</td>\n",
       "      <td>72.823781</td>\n",
       "      <td>18.945670</td>\n",
       "      <td>6.042633</td>\n",
       "      <td>1.609438</td>\n",
       "      <td>2.995732</td>\n",
       "      <td>1</td>\n",
       "      <td>0</td>\n",
       "      <td>1</td>\n",
       "      <td>0</td>\n",
       "      <td>0</td>\n",
       "      <td>0</td>\n",
       "      <td>1</td>\n",
       "      <td>0</td>\n",
       "      <td>0</td>\n",
       "      <td>0</td>\n",
       "    </tr>\n",
       "    <tr>\n",
       "      <th>1761</th>\n",
       "      <td>4.0</td>\n",
       "      <td>1.599388</td>\n",
       "      <td>5</td>\n",
       "      <td>4</td>\n",
       "      <td>72.844074</td>\n",
       "      <td>19.241026</td>\n",
       "      <td>6.514713</td>\n",
       "      <td>1.098612</td>\n",
       "      <td>1.945910</td>\n",
       "      <td>1</td>\n",
       "      <td>1</td>\n",
       "      <td>0</td>\n",
       "      <td>0</td>\n",
       "      <td>0</td>\n",
       "      <td>0</td>\n",
       "      <td>1</td>\n",
       "      <td>0</td>\n",
       "      <td>1</td>\n",
       "      <td>0</td>\n",
       "    </tr>\n",
       "    <tr>\n",
       "      <th>1378</th>\n",
       "      <td>3.0</td>\n",
       "      <td>1.702928</td>\n",
       "      <td>3</td>\n",
       "      <td>2</td>\n",
       "      <td>72.849811</td>\n",
       "      <td>19.061657</td>\n",
       "      <td>7.090077</td>\n",
       "      <td>2.484907</td>\n",
       "      <td>3.401197</td>\n",
       "      <td>0</td>\n",
       "      <td>0</td>\n",
       "      <td>1</td>\n",
       "      <td>0</td>\n",
       "      <td>0</td>\n",
       "      <td>0</td>\n",
       "      <td>1</td>\n",
       "      <td>0</td>\n",
       "      <td>0</td>\n",
       "      <td>0</td>\n",
       "    </tr>\n",
       "  </tbody>\n",
       "</table>\n",
       "</div>"
      ],
      "text/plain": [
       "      bathrooms     price  BHK  no_of_parking  longitude   latitude  area_log  \\\n",
       "1881        2.0 -0.020203    2              1  72.832877  19.063682  6.572283   \n",
       "1679        1.0 -1.386294    1              0  72.913539  19.273478  6.278521   \n",
       "35          1.0  0.641854    1              1  72.823781  18.945670  6.042633   \n",
       "1761        4.0  1.599388    5              4  72.844074  19.241026  6.514713   \n",
       "1378        3.0  1.702928    3              2  72.849811  19.061657  7.090077   \n",
       "\n",
       "      flat_floor_no_log  total_floors_log  Possession_Status_received  \\\n",
       "1881           2.197225          2.708050                           1   \n",
       "1679           1.098612          1.098612                           1   \n",
       "35             1.609438          2.995732                           1   \n",
       "1761           1.098612          1.945910                           1   \n",
       "1378           2.484907          3.401197                           0   \n",
       "\n",
       "      new_or_resale_Resale  furnishing_Semi-Furnished  furnishing_Unfurnished  \\\n",
       "1881                     0                          0                       1   \n",
       "1679                     1                          0                       1   \n",
       "35                       0                          1                       0   \n",
       "1761                     1                          0                       0   \n",
       "1378                     0                          1                       0   \n",
       "\n",
       "      overlooking_other  config_Studio  config_apartment  config_other  \\\n",
       "1881                  1              0                 1             0   \n",
       "1679                  0              0                 1             0   \n",
       "35                    0              0                 1             0   \n",
       "1761                  0              0                 1             0   \n",
       "1378                  0              0                 1             0   \n",
       "\n",
       "      parking_type_Open  parking_type_both  \n",
       "1881                  1                  0  \n",
       "1679                  1                  0  \n",
       "35                    0                  0  \n",
       "1761                  1                  0  \n",
       "1378                  0                  0  "
      ]
     },
     "execution_count": 177,
     "metadata": {},
     "output_type": "execute_result"
    }
   ],
   "source": [
    "model_data.sample(5)"
   ]
  },
  {
   "cell_type": "code",
   "execution_count": 178,
   "metadata": {
    "scrolled": true
   },
   "outputs": [
    {
     "name": "stdout",
     "output_type": "stream",
     "text": [
      "[0]\tvalidation_0-rmse:0.60543\n",
      "[1]\tvalidation_0-rmse:0.50151\n",
      "[2]\tvalidation_0-rmse:0.43384\n",
      "[3]\tvalidation_0-rmse:0.38447\n",
      "[4]\tvalidation_0-rmse:0.36044\n",
      "[5]\tvalidation_0-rmse:0.34009\n",
      "[6]\tvalidation_0-rmse:0.32039\n",
      "[7]\tvalidation_0-rmse:0.31057\n",
      "[8]\tvalidation_0-rmse:0.30051\n",
      "[9]\tvalidation_0-rmse:0.29361\n",
      "[10]\tvalidation_0-rmse:0.29018\n",
      "[11]\tvalidation_0-rmse:0.28588\n",
      "[12]\tvalidation_0-rmse:0.28016\n",
      "[13]\tvalidation_0-rmse:0.27687\n",
      "[14]\tvalidation_0-rmse:0.27430\n",
      "[15]\tvalidation_0-rmse:0.27133\n",
      "[16]\tvalidation_0-rmse:0.27016\n",
      "[17]\tvalidation_0-rmse:0.26351\n",
      "[18]\tvalidation_0-rmse:0.26267\n",
      "[19]\tvalidation_0-rmse:0.26039\n",
      "[20]\tvalidation_0-rmse:0.25888\n",
      "[21]\tvalidation_0-rmse:0.25811\n",
      "[22]\tvalidation_0-rmse:0.25636\n",
      "[23]\tvalidation_0-rmse:0.25385\n",
      "[24]\tvalidation_0-rmse:0.25167\n",
      "[25]\tvalidation_0-rmse:0.25154\n",
      "[26]\tvalidation_0-rmse:0.24923\n",
      "[27]\tvalidation_0-rmse:0.24854\n",
      "[28]\tvalidation_0-rmse:0.24880\n",
      "[29]\tvalidation_0-rmse:0.24752\n",
      "[30]\tvalidation_0-rmse:0.24715\n",
      "[31]\tvalidation_0-rmse:0.24686\n",
      "[32]\tvalidation_0-rmse:0.24676\n",
      "[33]\tvalidation_0-rmse:0.24664\n",
      "[34]\tvalidation_0-rmse:0.24699\n",
      "[35]\tvalidation_0-rmse:0.24569\n",
      "[36]\tvalidation_0-rmse:0.24609\n",
      "[37]\tvalidation_0-rmse:0.24557\n",
      "[38]\tvalidation_0-rmse:0.24581\n",
      "[39]\tvalidation_0-rmse:0.24498\n",
      "[40]\tvalidation_0-rmse:0.24457\n",
      "[41]\tvalidation_0-rmse:0.24432\n",
      "[42]\tvalidation_0-rmse:0.24447\n",
      "[43]\tvalidation_0-rmse:0.24422\n",
      "[44]\tvalidation_0-rmse:0.24363\n",
      "[45]\tvalidation_0-rmse:0.24284\n",
      "[46]\tvalidation_0-rmse:0.24251\n",
      "[47]\tvalidation_0-rmse:0.24280\n",
      "[48]\tvalidation_0-rmse:0.24238\n",
      "[49]\tvalidation_0-rmse:0.24169\n",
      "[50]\tvalidation_0-rmse:0.24105\n",
      "[51]\tvalidation_0-rmse:0.24015\n",
      "[52]\tvalidation_0-rmse:0.23977\n",
      "[53]\tvalidation_0-rmse:0.23947\n",
      "[54]\tvalidation_0-rmse:0.23932\n",
      "[55]\tvalidation_0-rmse:0.23890\n",
      "[56]\tvalidation_0-rmse:0.23820\n",
      "[57]\tvalidation_0-rmse:0.23898\n",
      "[58]\tvalidation_0-rmse:0.23886\n",
      "[59]\tvalidation_0-rmse:0.23886\n",
      "[60]\tvalidation_0-rmse:0.23835\n",
      "[61]\tvalidation_0-rmse:0.23752\n",
      "[62]\tvalidation_0-rmse:0.23747\n",
      "[63]\tvalidation_0-rmse:0.23777\n",
      "[64]\tvalidation_0-rmse:0.23770\n",
      "[65]\tvalidation_0-rmse:0.23680\n",
      "[66]\tvalidation_0-rmse:0.23666\n",
      "[67]\tvalidation_0-rmse:0.23667\n",
      "[68]\tvalidation_0-rmse:0.23678\n",
      "[69]\tvalidation_0-rmse:0.23700\n",
      "[70]\tvalidation_0-rmse:0.23704\n",
      "[71]\tvalidation_0-rmse:0.23689\n",
      "[72]\tvalidation_0-rmse:0.23652\n",
      "[73]\tvalidation_0-rmse:0.23632\n",
      "[74]\tvalidation_0-rmse:0.23626\n",
      "[75]\tvalidation_0-rmse:0.23637\n",
      "[76]\tvalidation_0-rmse:0.23705\n",
      "[77]\tvalidation_0-rmse:0.23706\n",
      "[78]\tvalidation_0-rmse:0.23689\n",
      "[79]\tvalidation_0-rmse:0.23698\n",
      "[80]\tvalidation_0-rmse:0.23712\n",
      "[81]\tvalidation_0-rmse:0.23614\n",
      "[82]\tvalidation_0-rmse:0.23619\n",
      "[83]\tvalidation_0-rmse:0.23644\n",
      "[84]\tvalidation_0-rmse:0.23638\n",
      "[85]\tvalidation_0-rmse:0.23634\n",
      "[86]\tvalidation_0-rmse:0.23628\n",
      "[87]\tvalidation_0-rmse:0.23588\n",
      "[88]\tvalidation_0-rmse:0.23581\n",
      "[89]\tvalidation_0-rmse:0.23591\n",
      "[90]\tvalidation_0-rmse:0.23605\n",
      "[91]\tvalidation_0-rmse:0.23601\n",
      "[92]\tvalidation_0-rmse:0.23583\n",
      "[93]\tvalidation_0-rmse:0.23574\n",
      "[94]\tvalidation_0-rmse:0.23555\n",
      "[95]\tvalidation_0-rmse:0.23558\n",
      "[96]\tvalidation_0-rmse:0.23539\n",
      "[97]\tvalidation_0-rmse:0.23554\n",
      "[98]\tvalidation_0-rmse:0.23562\n",
      "[99]\tvalidation_0-rmse:0.23555\n"
     ]
    }
   ],
   "source": [
    "reg_xgb = XGBRegressor()\n",
    "model_xgb = reg_xgb.fit(x_train,y_train,verbose = True,early_stopping_rounds = 20,eval_set = [(x_test,y_test)])"
   ]
  },
  {
   "cell_type": "code",
   "execution_count": 179,
   "metadata": {},
   "outputs": [
    {
     "name": "stdout",
     "output_type": "stream",
     "text": [
      "train_xgbRegressor RMSE is: 0.02935405313584018\n",
      "train_xgbRegressor r2_score is: 0.9985577020812917\n",
      "test_xgbRegressor RMSE is: 0.23538655516546822\n",
      "test_xgbRegressor r2_score is: 0.9036826552267003\n"
     ]
    }
   ],
   "source": [
    "train_ypred = model_xgb.predict(x_train)\n",
    "metrics(y_train,train_ypred,model_name = 'train_xgbRegressor')\n",
    "\n",
    "test_ypred = model_xgb.predict(x_test)\n",
    "metrics(y_test,test_ypred,model_name = 'test_xgbRegressor')"
   ]
  },
  {
   "cell_type": "markdown",
   "metadata": {},
   "source": [
    "While the model is still overfitting. But the gap between train and test scores has reduced from gradientboost. Trying gridsearch to see if there is any improvement."
   ]
  },
  {
   "cell_type": "code",
   "execution_count": 182,
   "metadata": {},
   "outputs": [],
   "source": [
    "xgb_params = {\n",
    "    'max_depth':[4,5,6],\n",
    "    'subsample': [0.7,0.8,0.9],\n",
    "    'n_estimators': list(range(150,300,50)),\n",
    "    'learning_rate': [0.07,0.1,0.5],\n",
    "    'colsample_bytree': [0.9]\n",
    "}"
   ]
  },
  {
   "cell_type": "code",
   "execution_count": null,
   "metadata": {},
   "outputs": [],
   "source": []
  },
  {
   "cell_type": "code",
   "execution_count": 183,
   "metadata": {},
   "outputs": [
    {
     "name": "stdout",
     "output_type": "stream",
     "text": [
      "Fitting 5 folds for each of 81 candidates, totalling 405 fits\n"
     ]
    },
    {
     "name": "stderr",
     "output_type": "stream",
     "text": [
      "[Parallel(n_jobs=6)]: Using backend LokyBackend with 6 concurrent workers.\n",
      "[Parallel(n_jobs=6)]: Done  38 tasks      | elapsed:    9.5s\n",
      "[Parallel(n_jobs=6)]: Done 188 tasks      | elapsed:   24.9s\n",
      "[Parallel(n_jobs=6)]: Done 405 out of 405 | elapsed:   59.8s finished\n"
     ]
    },
    {
     "data": {
      "text/plain": [
       "{'colsample_bytree': 0.9,\n",
       " 'learning_rate': 0.1,\n",
       " 'max_depth': 6,\n",
       " 'n_estimators': 250,\n",
       " 'subsample': 0.9}"
      ]
     },
     "execution_count": 183,
     "metadata": {},
     "output_type": "execute_result"
    }
   ],
   "source": [
    "xgb_best = grid_search(model = XGBRegressor(),x = x_train,y = y_train,params = xgb_params,cv = 5,verbose = 1,n_jobs = 6)\n",
    "xgb_best"
   ]
  },
  {
   "cell_type": "code",
   "execution_count": 184,
   "metadata": {},
   "outputs": [],
   "source": [
    "# xgb_best = {'colsample_bytree': 0.9,\n",
    "#  'learning_rate': 0.1,\n",
    "#  'max_depth': 5,\n",
    "#  'n_estimators': 250,\n",
    "#  'subsample': 0.8}"
   ]
  },
  {
   "cell_type": "code",
   "execution_count": 185,
   "metadata": {
    "scrolled": true
   },
   "outputs": [],
   "source": [
    "best_xgb = XGBRegressor(max_depth = xgb_best['max_depth'],\n",
    "                        subsample = xgb_best['subsample'],\n",
    "                        n_estimators = xgb_best['n_estimators'],\n",
    "                        learning_rate = xgb_best['learning_rate'],\n",
    "                        colsample_bytree = xgb_best['colsample_bytree'],\n",
    "                       random_state = 42)\n",
    "model_best = best_xgb.fit(x_train,y_train,verbose = False,early_stopping_rounds = 20,eval_set = [(x_test,y_test)])"
   ]
  },
  {
   "cell_type": "code",
   "execution_count": null,
   "metadata": {},
   "outputs": [],
   "source": []
  },
  {
   "cell_type": "code",
   "execution_count": 186,
   "metadata": {},
   "outputs": [
    {
     "name": "stdout",
     "output_type": "stream",
     "text": [
      "train_xgbRegressor RMSE is: 0.03486969675395631\n",
      "train_xgbRegressor r2_score is: 0.997964762173349\n",
      "test_xgbRegressor RMSE is: 0.23032386893925647\n",
      "test_xgbRegressor r2_score is: 0.9077812800496452\n"
     ]
    }
   ],
   "source": [
    "train_ypred1 = model_best.predict(x_train)\n",
    "metrics(y_train,train_ypred1,model_name = 'train_xgbRegressor')\n",
    "\n",
    "test_ypred1 = model_best.predict(x_test)\n",
    "metrics(y_test,test_ypred1,model_name = 'test_xgbRegressor')"
   ]
  },
  {
   "cell_type": "code",
   "execution_count": 187,
   "metadata": {
    "scrolled": false
   },
   "outputs": [
    {
     "name": "stdout",
     "output_type": "stream",
     "text": [
      "[CV]  ................................................................\n"
     ]
    },
    {
     "name": "stderr",
     "output_type": "stream",
     "text": [
      "[Parallel(n_jobs=1)]: Using backend SequentialBackend with 1 concurrent workers.\n"
     ]
    },
    {
     "name": "stdout",
     "output_type": "stream",
     "text": [
      "[CV] .................................... , score=0.874, total=   0.9s\n",
      "[CV]  ................................................................\n"
     ]
    },
    {
     "name": "stderr",
     "output_type": "stream",
     "text": [
      "[Parallel(n_jobs=1)]: Done   1 out of   1 | elapsed:    0.8s remaining:    0.0s\n"
     ]
    },
    {
     "name": "stdout",
     "output_type": "stream",
     "text": [
      "[CV] .................................... , score=0.932, total=   0.9s\n",
      "[CV]  ................................................................\n"
     ]
    },
    {
     "name": "stderr",
     "output_type": "stream",
     "text": [
      "[Parallel(n_jobs=1)]: Done   2 out of   2 | elapsed:    1.7s remaining:    0.0s\n"
     ]
    },
    {
     "name": "stdout",
     "output_type": "stream",
     "text": [
      "[CV] .................................... , score=0.914, total=   1.0s\n",
      "[CV]  ................................................................\n",
      "[CV] .................................... , score=0.900, total=   0.9s\n",
      "[CV]  ................................................................\n",
      "[CV] .................................... , score=0.889, total=   0.5s\n",
      "[CV]  ................................................................\n",
      "[CV] .................................... , score=0.927, total=   0.6s\n",
      "[CV]  ................................................................\n",
      "[CV] .................................... , score=0.934, total=   0.6s\n",
      "[CV]  ................................................................\n",
      "[CV] .................................... , score=0.921, total=   0.5s\n",
      "Min Cross_val_score: 0.874401054729906\n",
      "Max Cross_val_score: 0.9339334314920473\n",
      "Average Cross_val_score: 0.9114136845658645\n"
     ]
    },
    {
     "name": "stderr",
     "output_type": "stream",
     "text": [
      "[Parallel(n_jobs=1)]: Done   8 out of   8 | elapsed:    6.0s finished\n"
     ]
    }
   ],
   "source": [
    "cross_val(estimator = best_xgb,X = x,y = y,cv = 8,verbose = 3)"
   ]
  },
  {
   "cell_type": "markdown",
   "metadata": {},
   "source": [
    "###### Saving the model"
   ]
  },
  {
   "cell_type": "code",
   "execution_count": 188,
   "metadata": {},
   "outputs": [],
   "source": [
    "#import pickle\n",
    "filename = 'Saved Models/xgbmodel.model'\n",
    "#pickle.dump(obj = best_xgb,file = open('Saved Models/'+filename,'wb'))\n",
    "import joblib\n",
    "#save model\n",
    "joblib.dump(model_best, filename) \n",
    "\n",
    "#load saved model\n",
    "model = joblib.load(filename)"
   ]
  },
  {
   "cell_type": "markdown",
   "metadata": {},
   "source": [
    "###### Making predictions"
   ]
  },
  {
   "cell_type": "code",
   "execution_count": 189,
   "metadata": {},
   "outputs": [],
   "source": [
    "# import pickle\n",
    "# model = pickle.load(open('C:/Users/tejas/Desktop/real-estate-price-prediction-end-to-end-project-with-deployment/Jupyter Notebooks/Saved Models/xgbmodel.pickle','rb'))"
   ]
  },
  {
   "cell_type": "markdown",
   "metadata": {},
   "source": [
    "###### Making predictions"
   ]
  },
  {
   "cell_type": "code",
   "execution_count": 190,
   "metadata": {},
   "outputs": [],
   "source": [
    "def lat_long_gen(location):\n",
    "    import geopy\n",
    "    from geopy.geocoders import Nominatim\n",
    "    locator = Nominatim(user_agent=\"myGeocoder\")\n",
    "    locating = locator.geocode(location)\n",
    "    return locating.longitude,locating.latitude    "
   ]
  },
  {
   "cell_type": "code",
   "execution_count": 195,
   "metadata": {},
   "outputs": [],
   "source": [
    "longitude,latitude = lat_long_gen('Colaba')"
   ]
  },
  {
   "cell_type": "code",
   "execution_count": 205,
   "metadata": {},
   "outputs": [],
   "source": [
    "bathrooms = 3 \n",
    "BHK = 3#\n",
    "no_of_parking = 1\n",
    "area = 1400\n",
    "flat_floor_no = 7\n",
    "total_floors = 16\n",
    "Possession_Status_received = 1\n",
    "new_or_resale_Resale = 1\n",
    "furnishing_Semi_Furnished,furnishing_Unfurnished = [0,1]\n",
    "overlooking_other = 1\n",
    "config_Studio,config_apartment,config_other = [0,1,0]\n",
    "parking_type_open,parking_type_both = [1,0]"
   ]
  },
  {
   "cell_type": "code",
   "execution_count": 206,
   "metadata": {},
   "outputs": [
    {
     "data": {
      "text/html": [
       "<div>\n",
       "<style scoped>\n",
       "    .dataframe tbody tr th:only-of-type {\n",
       "        vertical-align: middle;\n",
       "    }\n",
       "\n",
       "    .dataframe tbody tr th {\n",
       "        vertical-align: top;\n",
       "    }\n",
       "\n",
       "    .dataframe thead th {\n",
       "        text-align: right;\n",
       "    }\n",
       "</style>\n",
       "<table border=\"1\" class=\"dataframe\">\n",
       "  <thead>\n",
       "    <tr style=\"text-align: right;\">\n",
       "      <th></th>\n",
       "      <th>bathrooms</th>\n",
       "      <th>BHK</th>\n",
       "      <th>no_of_parking</th>\n",
       "      <th>longitude</th>\n",
       "      <th>latitude</th>\n",
       "      <th>area_log</th>\n",
       "      <th>flat_floor_no_log</th>\n",
       "      <th>total_floors_log</th>\n",
       "      <th>Possession_Status_received</th>\n",
       "      <th>new_or_resale_Resale</th>\n",
       "      <th>furnishing_Semi-Furnished</th>\n",
       "      <th>furnishing_Unfurnished</th>\n",
       "      <th>overlooking_other</th>\n",
       "      <th>config_Studio</th>\n",
       "      <th>config_apartment</th>\n",
       "      <th>config_other</th>\n",
       "      <th>parking_type_Open</th>\n",
       "      <th>parking_type_both</th>\n",
       "    </tr>\n",
       "  </thead>\n",
       "  <tbody>\n",
       "    <tr>\n",
       "      <th>0</th>\n",
       "      <td>3.0</td>\n",
       "      <td>3.0</td>\n",
       "      <td>1.0</td>\n",
       "      <td>72.825969</td>\n",
       "      <td>18.915091</td>\n",
       "      <td>7.244228</td>\n",
       "      <td>1.94591</td>\n",
       "      <td>2.772589</td>\n",
       "      <td>1.0</td>\n",
       "      <td>1.0</td>\n",
       "      <td>0.0</td>\n",
       "      <td>1.0</td>\n",
       "      <td>1.0</td>\n",
       "      <td>0.0</td>\n",
       "      <td>1.0</td>\n",
       "      <td>0.0</td>\n",
       "      <td>1.0</td>\n",
       "      <td>0.0</td>\n",
       "    </tr>\n",
       "  </tbody>\n",
       "</table>\n",
       "</div>"
      ],
      "text/plain": [
       "   bathrooms  BHK  no_of_parking  longitude   latitude  area_log  \\\n",
       "0        3.0  3.0            1.0  72.825969  18.915091  7.244228   \n",
       "\n",
       "   flat_floor_no_log  total_floors_log  Possession_Status_received  \\\n",
       "0            1.94591          2.772589                         1.0   \n",
       "\n",
       "   new_or_resale_Resale  furnishing_Semi-Furnished  furnishing_Unfurnished  \\\n",
       "0                   1.0                        0.0                     1.0   \n",
       "\n",
       "   overlooking_other  config_Studio  config_apartment  config_other  \\\n",
       "0                1.0            0.0               1.0           0.0   \n",
       "\n",
       "   parking_type_Open  parking_type_both  \n",
       "0                1.0                0.0  "
      ]
     },
     "execution_count": 206,
     "metadata": {},
     "output_type": "execute_result"
    }
   ],
   "source": [
    "params = [bathrooms,BHK, no_of_parking, longitude, latitude,\n",
    "       np.log(area), np.log(flat_floor_no), np.log(total_floors),\n",
    "       Possession_Status_received, new_or_resale_Resale,\n",
    "       furnishing_Semi_Furnished, furnishing_Unfurnished,\n",
    "       overlooking_other, config_Studio, config_apartment,\n",
    "       config_other, parking_type_open, parking_type_both]\n",
    "\n",
    "col_names = ['bathrooms', 'BHK', 'no_of_parking', 'longitude', 'latitude',\n",
    "       'area_log', 'flat_floor_no_log', 'total_floors_log',\n",
    "       'Possession_Status_received', 'new_or_resale_Resale',\n",
    "       'furnishing_Semi-Furnished', 'furnishing_Unfurnished',\n",
    "       'overlooking_other', 'config_Studio', 'config_apartment',\n",
    "       'config_other', 'parking_type_Open', 'parking_type_both']\n",
    "\n",
    "data_to_predict = pd.DataFrame(params,index = col_names).T\n",
    "data_to_predict"
   ]
  },
  {
   "cell_type": "code",
   "execution_count": null,
   "metadata": {},
   "outputs": [],
   "source": []
  },
  {
   "cell_type": "code",
   "execution_count": null,
   "metadata": {},
   "outputs": [],
   "source": []
  },
  {
   "cell_type": "code",
   "execution_count": null,
   "metadata": {},
   "outputs": [],
   "source": []
  },
  {
   "cell_type": "code",
   "execution_count": null,
   "metadata": {},
   "outputs": [],
   "source": []
  },
  {
   "cell_type": "code",
   "execution_count": null,
   "metadata": {},
   "outputs": [],
   "source": []
  },
  {
   "cell_type": "code",
   "execution_count": null,
   "metadata": {},
   "outputs": [],
   "source": []
  },
  {
   "cell_type": "code",
   "execution_count": null,
   "metadata": {},
   "outputs": [],
   "source": []
  },
  {
   "cell_type": "code",
   "execution_count": null,
   "metadata": {},
   "outputs": [],
   "source": []
  }
 ],
 "metadata": {
  "kernelspec": {
   "display_name": "Python 3",
   "language": "python",
   "name": "python3"
  },
  "language_info": {
   "codemirror_mode": {
    "name": "ipython",
    "version": 3
   },
   "file_extension": ".py",
   "mimetype": "text/x-python",
   "name": "python",
   "nbconvert_exporter": "python",
   "pygments_lexer": "ipython3",
   "version": "3.7.4"
  }
 },
 "nbformat": 4,
 "nbformat_minor": 2
}
